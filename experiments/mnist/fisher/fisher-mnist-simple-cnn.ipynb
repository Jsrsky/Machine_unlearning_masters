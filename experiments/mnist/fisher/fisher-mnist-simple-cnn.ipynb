{
 "cells": [
  {
   "cell_type": "code",
   "execution_count": null,
   "metadata": {},
   "outputs": [],
   "source": [
    "# !git clone https://github.com/Jsrsky/machine_unlearning_experiments\n",
    "# %cd machine_unlearning_experiments/experiments/mnist/fisher"
   ]
  },
  {
   "cell_type": "markdown",
   "metadata": {},
   "source": [
    "## Dependecies"
   ]
  },
  {
   "cell_type": "code",
   "execution_count": 13,
   "metadata": {
    "execution": {
     "iopub.execute_input": "2024-11-28T18:54:32.152035Z",
     "iopub.status.busy": "2024-11-28T18:54:32.151682Z",
     "iopub.status.idle": "2024-11-28T18:54:37.094502Z",
     "shell.execute_reply": "2024-11-28T18:54:37.093594Z",
     "shell.execute_reply.started": "2024-11-28T18:54:32.152001Z"
    },
    "trusted": true
   },
   "outputs": [],
   "source": [
    "from pathlib import Path\n",
    "import sys\n",
    "import copy\n",
    "from torchvision import datasets"
   ]
  },
  {
   "cell_type": "markdown",
   "metadata": {},
   "source": [
    "## Utils \n"
   ]
  },
  {
   "cell_type": "code",
   "execution_count": 14,
   "metadata": {},
   "outputs": [
    {
     "name": "stdout",
     "output_type": "stream",
     "text": [
      "Notebook setup completed. Project root added to sys.path: d:\\Machine_unlearning_masters\n"
     ]
    }
   ],
   "source": [
    "project_root = Path.cwd().resolve().parents[2]\n",
    "if str(project_root) not in sys.path:\n",
    "    sys.path.append(str(project_root))\n",
    "    \n",
    "data_root = project_root / 'data'\n",
    "data_root.mkdir(parents=True, exist_ok=True)\n",
    "\n",
    "from notebook_setup import setup_notebook\n",
    "setup_notebook()"
   ]
  },
  {
   "cell_type": "code",
   "execution_count": 28,
   "metadata": {},
   "outputs": [
    {
     "name": "stdout",
     "output_type": "stream",
     "text": [
      "Device used: cpu\n"
     ]
    }
   ],
   "source": [
    "# Device configuration\n",
    "from utils.utils import DEVICE\n",
    "\n",
    "print(f\"Device used: {DEVICE}\")\n",
    "\n",
    "# Set random seed for reproducibility\n",
    "from utils.utils import set_seed\n",
    "set_seed()\n",
    "\n",
    "from utils.utils import save_model\n",
    "\n",
    "from models.simple_cnn import load_model_cnn, init_model_cnn\n",
    "\n",
    "# Merics \n",
    "from utils.train_test_metrics import test_model, show_metrics\n",
    "\n",
    "# Recreate Dataloaders from json files\n",
    "from methods.naive.naive_utils import recreate_dataloaders\n",
    "\n",
    "# Fisher Information Matrix (FIM) calc and unlearning with FIM\n",
    "from methods.fisher.fisher_utils import compute_fisher_matrix, fisher_unlearning, create_unlearning_dataloader"
   ]
  },
  {
   "cell_type": "markdown",
   "metadata": {},
   "source": [
    "## Parameters (arbitrary chosen)"
   ]
  },
  {
   "cell_type": "code",
   "execution_count": 16,
   "metadata": {
    "execution": {
     "iopub.execute_input": "2024-11-28T18:54:37.108253Z",
     "iopub.status.busy": "2024-11-28T18:54:37.108023Z",
     "iopub.status.idle": "2024-11-28T18:54:37.112438Z",
     "shell.execute_reply": "2024-11-28T18:54:37.111512Z",
     "shell.execute_reply.started": "2024-11-28T18:54:37.108231Z"
    },
    "trusted": true
   },
   "outputs": [],
   "source": [
    "BATCH_SIZE = 32\n",
    "MINI_BATCH_SIZE = BATCH_SIZE\n",
    "\n",
    "SIGMA = 1.0"
   ]
  },
  {
   "cell_type": "markdown",
   "metadata": {},
   "source": [
    "# CALL FISHER"
   ]
  },
  {
   "cell_type": "markdown",
   "metadata": {},
   "source": [
    "### Files"
   ]
  },
  {
   "cell_type": "code",
   "execution_count": 22,
   "metadata": {
    "execution": {
     "iopub.execute_input": "2024-11-28T18:54:37.219923Z",
     "iopub.status.busy": "2024-11-28T18:54:37.219645Z",
     "iopub.status.idle": "2024-11-28T18:54:37.231364Z",
     "shell.execute_reply": "2024-11-28T18:54:37.230478Z",
     "shell.execute_reply.started": "2024-11-28T18:54:37.219896Z"
    },
    "trusted": true
   },
   "outputs": [],
   "source": [
    "model_file = project_root / 'experiments/mnist/naive/CNN_MNIST_model.pth'\n",
    "samples_to_unlearn_file = project_root / 'experiments/mnist/naive/mnist_samples_to_unlearn.json'\n",
    "remaining_dataset_file = project_root / 'experiments/mnist/naive/updated_mnist_data_splits.json'"
   ]
  },
  {
   "cell_type": "markdown",
   "metadata": {},
   "source": [
    "### Init models"
   ]
  },
  {
   "cell_type": "code",
   "execution_count": 18,
   "metadata": {
    "execution": {
     "iopub.execute_input": "2024-11-28T18:54:37.232588Z",
     "iopub.status.busy": "2024-11-28T18:54:37.232287Z",
     "iopub.status.idle": "2024-11-28T18:54:37.517594Z",
     "shell.execute_reply": "2024-11-28T18:54:37.516676Z",
     "shell.execute_reply.started": "2024-11-28T18:54:37.232561Z"
    },
    "trusted": true
   },
   "outputs": [
    {
     "name": "stdout",
     "output_type": "stream",
     "text": [
      "Load model...\n",
      "Init model...\n",
      "Done initializing model.\n",
      "Model ID: 2484302462944, Optimizer ID: 2484302782608, Criterion ID: 2484302780640\n",
      "Done loading model.\n"
     ]
    }
   ],
   "source": [
    "original_model, original_model_name, criterion, _optimizer, transform = load_model_cnn(model_pth_path=model_file)\n",
    "\n",
    "model_to_unlearn = copy.deepcopy(original_model)\n",
    "model_to_unlearn_name = 'fisher_' + original_model_name"
   ]
  },
  {
   "cell_type": "markdown",
   "metadata": {},
   "source": [
    "## Init data"
   ]
  },
  {
   "cell_type": "code",
   "execution_count": 19,
   "metadata": {},
   "outputs": [],
   "source": [
    "dataset = datasets.MNIST(root=data_root, train=True, transform=transform, download=True)\n",
    "test_dataset = datasets.MNIST(root=data_root, train=False, transform=transform, download=True)"
   ]
  },
  {
   "cell_type": "code",
   "execution_count": 23,
   "metadata": {
    "execution": {
     "iopub.execute_input": "2024-11-28T18:54:37.518928Z",
     "iopub.status.busy": "2024-11-28T18:54:37.518634Z",
     "iopub.status.idle": "2024-11-28T18:54:39.851666Z",
     "shell.execute_reply": "2024-11-28T18:54:39.850827Z",
     "shell.execute_reply.started": "2024-11-28T18:54:37.518901Z"
    },
    "trusted": true
   },
   "outputs": [
    {
     "name": "stdout",
     "output_type": "stream",
     "text": [
      "Recreating DataLoaders...\n",
      "Done recreating DataLoaders.\n"
     ]
    }
   ],
   "source": [
    "train_loader, _val_loader, test_loader, classes = recreate_dataloaders(\n",
    "    data_splits_file=remaining_dataset_file,\n",
    "    dataset=dataset, \n",
    "    batch_size=BATCH_SIZE)\n",
    "\n",
    "unlearn_loader = create_unlearning_dataloader(samples_to_unlearn_file, dataset, batch_size = MINI_BATCH_SIZE)"
   ]
  },
  {
   "cell_type": "markdown",
   "metadata": {},
   "source": [
    "### FIM"
   ]
  },
  {
   "cell_type": "code",
   "execution_count": 24,
   "metadata": {
    "execution": {
     "iopub.execute_input": "2024-11-28T18:54:39.852991Z",
     "iopub.status.busy": "2024-11-28T18:54:39.852723Z",
     "iopub.status.idle": "2024-11-28T18:54:51.677333Z",
     "shell.execute_reply": "2024-11-28T18:54:51.676398Z",
     "shell.execute_reply.started": "2024-11-28T18:54:39.852965Z"
    },
    "trusted": true
   },
   "outputs": [
    {
     "name": "stderr",
     "output_type": "stream",
     "text": [
      "Calculating FIM...: 100%|██████████| 1351/1351 [01:09<00:00, 19.56it/s]\n"
     ]
    }
   ],
   "source": [
    "fim = compute_fisher_matrix(model_to_unlearn, train_loader, criterion)"
   ]
  },
  {
   "cell_type": "markdown",
   "metadata": {},
   "source": [
    "### Unlearn"
   ]
  },
  {
   "cell_type": "code",
   "execution_count": 25,
   "metadata": {
    "execution": {
     "iopub.execute_input": "2024-11-28T18:54:51.678904Z",
     "iopub.status.busy": "2024-11-28T18:54:51.678546Z",
     "iopub.status.idle": "2024-11-28T18:54:53.422197Z",
     "shell.execute_reply": "2024-11-28T18:54:53.421390Z",
     "shell.execute_reply.started": "2024-11-28T18:54:51.678865Z"
    },
    "trusted": true
   },
   "outputs": [
    {
     "name": "stderr",
     "output_type": "stream",
     "text": [
      "Unlearning Process...: 100%|██████████| 188/188 [00:11<00:00, 15.94it/s]\n"
     ]
    }
   ],
   "source": [
    "unlearned_model = fisher_unlearning(model_to_unlearn, unlearn_loader, fim, criterion, sigma=SIGMA)"
   ]
  },
  {
   "cell_type": "code",
   "execution_count": null,
   "metadata": {
    "execution": {
     "iopub.execute_input": "2024-11-28T18:54:53.423697Z",
     "iopub.status.busy": "2024-11-28T18:54:53.423342Z",
     "iopub.status.idle": "2024-11-28T18:54:53.433671Z",
     "shell.execute_reply": "2024-11-28T18:54:53.432883Z",
     "shell.execute_reply.started": "2024-11-28T18:54:53.423655Z"
    },
    "trusted": true
   },
   "outputs": [],
   "source": [
    "save_model(unlearned_model, f'{model_to_unlearn_name}_model.pth')"
   ]
  },
  {
   "cell_type": "markdown",
   "metadata": {},
   "source": [
    "### Test and metrics"
   ]
  },
  {
   "cell_type": "code",
   "execution_count": 30,
   "metadata": {
    "execution": {
     "iopub.execute_input": "2024-11-28T18:54:53.435015Z",
     "iopub.status.busy": "2024-11-28T18:54:53.434705Z",
     "iopub.status.idle": "2024-11-28T18:54:55.318660Z",
     "shell.execute_reply": "2024-11-28T18:54:55.317739Z",
     "shell.execute_reply.started": "2024-11-28T18:54:53.434990Z"
    },
    "trusted": true
   },
   "outputs": [
    {
     "name": "stdout",
     "output_type": "stream",
     "text": [
      "Init model...\n",
      "Done initializing model.\n",
      "Model ID: 2484303159248, Optimizer ID: 2484303153392, Criterion ID: 2484303151184\n",
      "Loading and testing model: fisher_CNN_MNIST\n"
     ]
    },
    {
     "name": "stderr",
     "output_type": "stream",
     "text": [
      "Evaluating model: fisher_CNN_MNIST_model.pth: 100%|██████████| 313/313 [00:08<00:00, 36.63it/s]"
     ]
    },
    {
     "name": "stdout",
     "output_type": "stream",
     "text": [
      "Predictions and labels saved to fisher_CNN_MNIST_predictions.json\n"
     ]
    },
    {
     "name": "stderr",
     "output_type": "stream",
     "text": [
      "\n"
     ]
    }
   ],
   "source": [
    "model, *_ = init_model_cnn()\n",
    "model_path = f\"{model_to_unlearn_name}_model.pth\"\n",
    "test_model(model, model_to_unlearn_name, model_path, test_loader)"
   ]
  },
  {
   "cell_type": "code",
   "execution_count": 31,
   "metadata": {
    "execution": {
     "iopub.execute_input": "2024-11-28T18:54:55.319867Z",
     "iopub.status.busy": "2024-11-28T18:54:55.319634Z",
     "iopub.status.idle": "2024-11-28T18:54:55.782237Z",
     "shell.execute_reply": "2024-11-28T18:54:55.781361Z",
     "shell.execute_reply.started": "2024-11-28T18:54:55.319843Z"
    },
    "trusted": true
   },
   "outputs": [
    {
     "name": "stderr",
     "output_type": "stream",
     "text": [
      "c:\\Users\\bleed\\miniconda3\\envs\\master_thesis\\Lib\\site-packages\\sklearn\\metrics\\_classification.py:1531: UndefinedMetricWarning: Precision is ill-defined and being set to 0.0 in labels with no predicted samples. Use `zero_division` parameter to control this behavior.\n",
      "  _warn_prf(average, modifier, f\"{metric.capitalize()} is\", len(result))\n"
     ]
    },
    {
     "name": "stdout",
     "output_type": "stream",
     "text": [
      "Metrics for fisher_CNN_MNIST:\n",
      "  - Test Accuracy: 0.1001\n",
      "  - Precision: 0.0100\n",
      "  - Recall: 0.1001\n",
      "  - F1 Score: 0.0182\n"
     ]
    },
    {
     "data": {
      "image/png": "[encoded data removed]",
      "text/plain": [
       "<Figure size 800x600 with 2 Axes>"
      ]
     },
     "metadata": {},
     "output_type": "display_data"
    }
   ],
   "source": [
    "predictions_path = f'{model_to_unlearn_name}_predictions.json'\n",
    "# classes = ['0 - zero', '1 - one', '2 - two', '3 - three', '4 - four', '5 - five', '6 - six', '7 - seven', '8 - eight', '9 - nine']\n",
    "show_metrics(predictions_path, classes, model_to_unlearn_name)"
   ]
  }
 ],
 "metadata": {
  "kaggle": {
   "accelerator": "nvidiaTeslaT4",
   "dataSources": [
    {
     "isSourceIdPinned": true,
     "modelId": 177544,
     "modelInstanceId": 155068,
     "sourceId": 181928,
     "sourceType": "modelInstanceVersion"
    }
   ],
   "dockerImageVersionId": 30787,
   "isGpuEnabled": true,
   "isInternetEnabled": true,
   "language": "python",
   "sourceType": "notebook"
  },
  "kernelspec": {
   "display_name": "master_thesis",
   "language": "python",
   "name": "python3"
  },
  "language_info": {
   "codemirror_mode": {
    "name": "ipython",
    "version": 3
   },
   "file_extension": ".py",
   "mimetype": "text/x-python",
   "name": "python",
   "nbconvert_exporter": "python",
   "pygments_lexer": "ipython3",
   "version": "3.12.6"
  }
 },
 "nbformat": 4,
 "nbformat_minor": 4
}
