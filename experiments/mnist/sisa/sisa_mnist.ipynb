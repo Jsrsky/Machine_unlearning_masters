{
 "cells": [
  {
   "cell_type": "code",
   "execution_count": null,
   "metadata": {},
   "outputs": [],
   "source": [
    "# !git clone https://github.com/Jsrsky/machine_unlearning_experiments"
   ]
  },
  {
   "cell_type": "markdown",
   "metadata": {},
   "source": [
    "## Dependencies"
   ]
  },
  {
   "cell_type": "code",
   "execution_count": 2,
   "metadata": {},
   "outputs": [],
   "source": [
    "import os\n",
    "import sys\n",
    "import json\n",
    "from torchvision import datasets"
   ]
  },
  {
   "cell_type": "markdown",
   "metadata": {},
   "source": [
    "## Utils"
   ]
  },
  {
   "cell_type": "code",
   "execution_count": null,
   "metadata": {},
   "outputs": [
    {
     "name": "stdout",
     "output_type": "stream",
     "text": [
      "Notebook setup completed. Project root added to sys.path: d:\\Machine_unlearning_masters\n"
     ]
    }
   ],
   "source": [
    "project_root = os.path.abspath(os.path.join(os.getcwd(), \"../../../\"))\n",
    "if project_root not in sys.path:\n",
    "    sys.path.append(project_root)\n",
    "    \n",
    "data_root = os.path.join(project_root, 'data')\n",
    "os.makedirs(data_root, exist_ok=True)\n",
    "\n",
    "from notebook_setup import setup_notebook\n",
    "setup_notebook()"
   ]
  },
  {
   "cell_type": "code",
   "execution_count": 4,
   "metadata": {
    "execution": {
     "iopub.execute_input": "2024-11-29T14:18:06.867241Z",
     "iopub.status.busy": "2024-11-29T14:18:06.866883Z",
     "iopub.status.idle": "2024-11-29T14:18:06.877818Z",
     "shell.execute_reply": "2024-11-29T14:18:06.877176Z",
     "shell.execute_reply.started": "2024-11-29T14:18:06.867214Z"
    },
    "trusted": true
   },
   "outputs": [
    {
     "name": "stdout",
     "output_type": "stream",
     "text": [
      "Device used: cpu\n"
     ]
    }
   ],
   "source": [
    "# Device configuration\n",
    "from utils.utils import DEVICE\n",
    "\n",
    "print(f\"Device used: {DEVICE}\")\n",
    "\n",
    "# Set random seed for reproducibility\n",
    "from utils.utils import set_seed\n",
    "set_seed()\n",
    "\n",
    "# Init model\n",
    "from models.simple_cnn import init_model_cnn\n",
    "\n",
    "# Create sisa structure\n",
    "from methods.sisa.sisa_utils import create_sisa_structure\n",
    "\n",
    "# Recreate sisa dataloaders from json file\n",
    "from methods.sisa.sisa_utils import recreate_sisa_dataloaders\n",
    "\n",
    "# SISA train & test loop\n",
    "from methods.sisa.sisa_train_test import sisa_train, sisa_test, retrain_sisa_framework\n",
    "\n",
    "# Aggregate SISA models, via weighted voting\n",
    "from methods.sisa.sisa_utils import evaluate_aggregated_model, update_sisa_structure\n",
    "\n"
   ]
  },
  {
   "cell_type": "markdown",
   "metadata": {},
   "source": [
    "## Parameters (arbitrary chosen)"
   ]
  },
  {
   "cell_type": "code",
   "execution_count": null,
   "metadata": {
    "execution": {
     "iopub.execute_input": "2024-11-29T14:18:06.879129Z",
     "iopub.status.busy": "2024-11-29T14:18:06.878824Z",
     "iopub.status.idle": "2024-11-29T14:18:06.885752Z",
     "shell.execute_reply": "2024-11-29T14:18:06.885111Z",
     "shell.execute_reply.started": "2024-11-29T14:18:06.879105Z"
    },
    "trusted": true
   },
   "outputs": [],
   "source": [
    "BATCH_SIZE = 32\n",
    "\n",
    "LEARNING_RATE = 0.001\n",
    "\n",
    "EPOCHS = 5\n",
    "\n",
    "SHARDS = 3\n",
    "\n",
    "SLICES = 5"
   ]
  },
  {
   "cell_type": "markdown",
   "metadata": {},
   "source": [
    "# SISA structure"
   ]
  },
  {
   "cell_type": "markdown",
   "metadata": {},
   "source": [
    "## Get data transform"
   ]
  },
  {
   "cell_type": "code",
   "execution_count": 6,
   "metadata": {},
   "outputs": [
    {
     "name": "stdout",
     "output_type": "stream",
     "text": [
      "Init model...\n",
      "Done initializing model.\n",
      "Model ID: 2323518743680, Optimizer ID: 2323499302064, Criterion ID: 2323485834608\n"
     ]
    }
   ],
   "source": [
    "*_, transform = init_model_cnn()\n",
    "# transform = transforms.Compose([transforms.ToTensor(), transforms.Normalize((0.5,), (0.5,))])"
   ]
  },
  {
   "cell_type": "markdown",
   "metadata": {},
   "source": [
    "## Load dataset"
   ]
  },
  {
   "cell_type": "code",
   "execution_count": null,
   "metadata": {},
   "outputs": [],
   "source": [
    "dataset = datasets.MNIST(root=data_root, train=True, transform=transform, download=True)\n",
    "test_dataset = datasets.MNIST(root=data_root, train=False, transform=transform, download=True)"
   ]
  },
  {
   "cell_type": "markdown",
   "metadata": {},
   "source": [
    "## Create SISA structure"
   ]
  },
  {
   "cell_type": "code",
   "execution_count": 9,
   "metadata": {
    "execution": {
     "iopub.execute_input": "2024-11-29T14:18:06.923915Z",
     "iopub.status.busy": "2024-11-29T14:18:06.923683Z",
     "iopub.status.idle": "2024-11-29T14:18:06.936863Z",
     "shell.execute_reply": "2024-11-29T14:18:06.935934Z",
     "shell.execute_reply.started": "2024-11-29T14:18:06.923892Z"
    },
    "trusted": true
   },
   "outputs": [
    {
     "name": "stdout",
     "output_type": "stream",
     "text": [
      "SISA structure saved to sisa_structure.json\n"
     ]
    }
   ],
   "source": [
    "create_sisa_structure(dataset, shards=SHARDS, slices_per_shard=SLICES)"
   ]
  },
  {
   "cell_type": "code",
   "execution_count": 10,
   "metadata": {},
   "outputs": [],
   "source": [
    "sisa_structure_file = 'sisa_structure.json'"
   ]
  },
  {
   "cell_type": "markdown",
   "metadata": {},
   "source": [
    "## Prepare DataLoaders from json file"
   ]
  },
  {
   "cell_type": "code",
   "execution_count": 11,
   "metadata": {
    "execution": {
     "iopub.execute_input": "2024-11-29T14:18:06.938366Z",
     "iopub.status.busy": "2024-11-29T14:18:06.938074Z",
     "iopub.status.idle": "2024-11-29T14:18:06.952202Z",
     "shell.execute_reply": "2024-11-29T14:18:06.951221Z",
     "shell.execute_reply.started": "2024-11-29T14:18:06.938340Z"
    },
    "trusted": true
   },
   "outputs": [],
   "source": [
    "dataloaders = recreate_sisa_dataloaders(\n",
    "    datasets=(dataset, test_dataset),\n",
    "    info_file_path=sisa_structure_file,\n",
    "    batch_size=BATCH_SIZE,\n",
    "    val_ratio=0.1\n",
    ")"
   ]
  },
  {
   "cell_type": "markdown",
   "metadata": {},
   "source": [
    "# Train using SISA framework"
   ]
  },
  {
   "cell_type": "markdown",
   "metadata": {},
   "source": [
    "## Models output path"
   ]
  },
  {
   "cell_type": "code",
   "execution_count": 12,
   "metadata": {},
   "outputs": [],
   "source": [
    "save_models_metrics_dir = './sisa_models'"
   ]
  },
  {
   "cell_type": "markdown",
   "metadata": {},
   "source": [
    "## Call train"
   ]
  },
  {
   "cell_type": "code",
   "execution_count": 13,
   "metadata": {},
   "outputs": [
    {
     "name": "stdout",
     "output_type": "stream",
     "text": [
      "Training shard: shard_0\n",
      "Init model...\n",
      "Done initializing model.\n",
      "Model ID: 2323519106144, Optimizer ID: 2323489620240, Criterion ID: 2323494779840\n",
      "  Training slice: slice_0\n"
     ]
    },
    {
     "name": "stderr",
     "output_type": "stream",
     "text": [
      "Training Epoch 1/5: 100%|██████████| 113/113 [00:04<00:00, 25.34it/s]\n",
      "Evaluating on validation set...): 100%|██████████| 13/13 [00:00<00:00, 55.55it/s]\n"
     ]
    },
    {
     "name": "stdout",
     "output_type": "stream",
     "text": [
      "Epoch [1/5], Train Loss: 0.8513, Train Accuracy: 0.7297, Val Loss: 0.2988, Val Accuracy: 0.9225\n",
      "Epoch 1: New best validation accuracy: 0.9225. Model saved to ./sisa_models/shard_0_slice_0_CNN_MNIST_model.pth.\n"
     ]
    },
    {
     "name": "stderr",
     "output_type": "stream",
     "text": [
      "Training Epoch 2/5: 100%|██████████| 113/113 [00:03<00:00, 29.72it/s]\n",
      "Evaluating on validation set...): 100%|██████████| 13/13 [00:00<00:00, 59.09it/s]\n"
     ]
    },
    {
     "name": "stdout",
     "output_type": "stream",
     "text": [
      "Epoch [2/5], Train Loss: 0.1948, Train Accuracy: 0.9439, Val Loss: 0.2252, Val Accuracy: 0.9300\n",
      "Epoch 2: New best validation accuracy: 0.9300. Model saved to ./sisa_models/shard_0_slice_0_CNN_MNIST_model.pth.\n"
     ]
    },
    {
     "name": "stderr",
     "output_type": "stream",
     "text": [
      "Training Epoch 3/5: 100%|██████████| 113/113 [00:03<00:00, 29.34it/s]\n",
      "Evaluating on validation set...): 100%|██████████| 13/13 [00:00<00:00, 60.49it/s]\n"
     ]
    },
    {
     "name": "stdout",
     "output_type": "stream",
     "text": [
      "Epoch [3/5], Train Loss: 0.1165, Train Accuracy: 0.9678, Val Loss: 0.1362, Val Accuracy: 0.9675\n",
      "Epoch 3: New best validation accuracy: 0.9675. Model saved to ./sisa_models/shard_0_slice_0_CNN_MNIST_model.pth.\n"
     ]
    },
    {
     "name": "stderr",
     "output_type": "stream",
     "text": [
      "Training Epoch 4/5: 100%|██████████| 113/113 [00:03<00:00, 30.70it/s]\n",
      "Evaluating on validation set...): 100%|██████████| 13/13 [00:00<00:00, 50.73it/s]\n"
     ]
    },
    {
     "name": "stdout",
     "output_type": "stream",
     "text": [
      "Epoch [4/5], Train Loss: 0.0690, Train Accuracy: 0.9789, Val Loss: 0.1312, Val Accuracy: 0.9675\n"
     ]
    },
    {
     "name": "stderr",
     "output_type": "stream",
     "text": [
      "Training Epoch 5/5: 100%|██████████| 113/113 [00:04<00:00, 25.82it/s]\n",
      "Evaluating on validation set...): 100%|██████████| 13/13 [00:00<00:00, 62.10it/s]\n"
     ]
    },
    {
     "name": "stdout",
     "output_type": "stream",
     "text": [
      "Epoch [5/5], Train Loss: 0.0504, Train Accuracy: 0.9836, Val Loss: 0.1102, Val Accuracy: 0.9650\n",
      "Training complete for ./sisa_models/shard_0_slice_0_CNN_MNIST. Training stats saved to './sisa_models/shard_0_slice_0_CNN_MNIST_history.json'.\n",
      "  Training slice: slice_1\n"
     ]
    },
    {
     "name": "stderr",
     "output_type": "stream",
     "text": [
      "Training Epoch 1/5: 100%|██████████| 113/113 [00:03<00:00, 28.85it/s]\n",
      "Evaluating on validation set...): 100%|██████████| 13/13 [00:00<00:00, 60.75it/s]\n"
     ]
    },
    {
     "name": "stdout",
     "output_type": "stream",
     "text": [
      "Epoch [1/5], Train Loss: 0.1208, Train Accuracy: 0.9631, Val Loss: 0.0728, Val Accuracy: 0.9675\n",
      "Epoch 1: New best validation accuracy: 0.9675. Model saved to ./sisa_models/shard_0_slice_1_CNN_MNIST_model.pth.\n"
     ]
    },
    {
     "name": "stderr",
     "output_type": "stream",
     "text": [
      "Training Epoch 2/5: 100%|██████████| 113/113 [00:03<00:00, 29.29it/s]\n",
      "Evaluating on validation set...): 100%|██████████| 13/13 [00:00<00:00, 60.10it/s]\n"
     ]
    },
    {
     "name": "stdout",
     "output_type": "stream",
     "text": [
      "Epoch [2/5], Train Loss: 0.0612, Train Accuracy: 0.9811, Val Loss: 0.0641, Val Accuracy: 0.9800\n",
      "Epoch 2: New best validation accuracy: 0.9800. Model saved to ./sisa_models/shard_0_slice_1_CNN_MNIST_model.pth.\n"
     ]
    },
    {
     "name": "stderr",
     "output_type": "stream",
     "text": [
      "Training Epoch 3/5: 100%|██████████| 113/113 [00:03<00:00, 28.43it/s]\n",
      "Evaluating on validation set...): 100%|██████████| 13/13 [00:00<00:00, 58.82it/s]\n"
     ]
    },
    {
     "name": "stdout",
     "output_type": "stream",
     "text": [
      "Epoch [3/5], Train Loss: 0.0393, Train Accuracy: 0.9878, Val Loss: 0.0711, Val Accuracy: 0.9750\n"
     ]
    },
    {
     "name": "stderr",
     "output_type": "stream",
     "text": [
      "Training Epoch 4/5: 100%|██████████| 113/113 [00:03<00:00, 29.65it/s]\n",
      "Evaluating on validation set...): 100%|██████████| 13/13 [00:00<00:00, 60.46it/s]\n"
     ]
    },
    {
     "name": "stdout",
     "output_type": "stream",
     "text": [
      "Epoch [4/5], Train Loss: 0.0244, Train Accuracy: 0.9914, Val Loss: 0.0661, Val Accuracy: 0.9775\n"
     ]
    },
    {
     "name": "stderr",
     "output_type": "stream",
     "text": [
      "Training Epoch 5/5: 100%|██████████| 113/113 [00:03<00:00, 30.49it/s]\n",
      "Evaluating on validation set...): 100%|██████████| 13/13 [00:00<00:00, 61.39it/s]\n"
     ]
    },
    {
     "name": "stdout",
     "output_type": "stream",
     "text": [
      "Epoch [5/5], Train Loss: 0.0111, Train Accuracy: 0.9975, Val Loss: 0.0706, Val Accuracy: 0.9700\n",
      "Training complete for ./sisa_models/shard_0_slice_1_CNN_MNIST. Training stats saved to './sisa_models/shard_0_slice_1_CNN_MNIST_history.json'.\n",
      "  Training slice: slice_2\n"
     ]
    },
    {
     "name": "stderr",
     "output_type": "stream",
     "text": [
      "Training Epoch 1/5: 100%|██████████| 113/113 [00:03<00:00, 29.96it/s]\n",
      "Evaluating on validation set...): 100%|██████████| 13/13 [00:00<00:00, 53.29it/s]\n"
     ]
    },
    {
     "name": "stdout",
     "output_type": "stream",
     "text": [
      "Epoch [1/5], Train Loss: 0.1083, Train Accuracy: 0.9681, Val Loss: 0.0849, Val Accuracy: 0.9850\n",
      "Epoch 1: New best validation accuracy: 0.9850. Model saved to ./sisa_models/shard_0_slice_2_CNN_MNIST_model.pth.\n"
     ]
    },
    {
     "name": "stderr",
     "output_type": "stream",
     "text": [
      "Training Epoch 2/5: 100%|██████████| 113/113 [00:03<00:00, 29.48it/s]\n",
      "Evaluating on validation set...): 100%|██████████| 13/13 [00:00<00:00, 60.75it/s]\n"
     ]
    },
    {
     "name": "stdout",
     "output_type": "stream",
     "text": [
      "Epoch [2/5], Train Loss: 0.0429, Train Accuracy: 0.9869, Val Loss: 0.1171, Val Accuracy: 0.9650\n"
     ]
    },
    {
     "name": "stderr",
     "output_type": "stream",
     "text": [
      "Training Epoch 3/5: 100%|██████████| 113/113 [00:04<00:00, 22.75it/s]\n",
      "Evaluating on validation set...): 100%|██████████| 13/13 [00:00<00:00, 52.00it/s]\n"
     ]
    },
    {
     "name": "stdout",
     "output_type": "stream",
     "text": [
      "Epoch [3/5], Train Loss: 0.0234, Train Accuracy: 0.9936, Val Loss: 0.0928, Val Accuracy: 0.9775\n"
     ]
    },
    {
     "name": "stderr",
     "output_type": "stream",
     "text": [
      "Training Epoch 4/5: 100%|██████████| 113/113 [00:04<00:00, 26.83it/s]\n",
      "Evaluating on validation set...): 100%|██████████| 13/13 [00:00<00:00, 60.76it/s]\n"
     ]
    },
    {
     "name": "stdout",
     "output_type": "stream",
     "text": [
      "Epoch [4/5], Train Loss: 0.0088, Train Accuracy: 0.9975, Val Loss: 0.1005, Val Accuracy: 0.9775\n"
     ]
    },
    {
     "name": "stderr",
     "output_type": "stream",
     "text": [
      "Training Epoch 5/5: 100%|██████████| 113/113 [00:03<00:00, 30.28it/s]\n",
      "Evaluating on validation set...): 100%|██████████| 13/13 [00:00<00:00, 62.27it/s]\n"
     ]
    },
    {
     "name": "stdout",
     "output_type": "stream",
     "text": [
      "Epoch [5/5], Train Loss: 0.0090, Train Accuracy: 0.9967, Val Loss: 0.0869, Val Accuracy: 0.9800\n",
      "Training complete for ./sisa_models/shard_0_slice_2_CNN_MNIST. Training stats saved to './sisa_models/shard_0_slice_2_CNN_MNIST_history.json'.\n",
      "  Training slice: slice_3\n"
     ]
    },
    {
     "name": "stderr",
     "output_type": "stream",
     "text": [
      "Training Epoch 1/5: 100%|██████████| 113/113 [00:03<00:00, 28.75it/s]\n",
      "Evaluating on validation set...): 100%|██████████| 13/13 [00:00<00:00, 47.80it/s]\n"
     ]
    },
    {
     "name": "stdout",
     "output_type": "stream",
     "text": [
      "Epoch [1/5], Train Loss: 0.0743, Train Accuracy: 0.9764, Val Loss: 0.0736, Val Accuracy: 0.9725\n",
      "Epoch 1: New best validation accuracy: 0.9725. Model saved to ./sisa_models/shard_0_slice_3_CNN_MNIST_model.pth.\n"
     ]
    },
    {
     "name": "stderr",
     "output_type": "stream",
     "text": [
      "Training Epoch 2/5: 100%|██████████| 113/113 [00:03<00:00, 28.31it/s]\n",
      "Evaluating on validation set...): 100%|██████████| 13/13 [00:00<00:00, 59.91it/s]\n"
     ]
    },
    {
     "name": "stdout",
     "output_type": "stream",
     "text": [
      "Epoch [2/5], Train Loss: 0.0272, Train Accuracy: 0.9908, Val Loss: 0.0407, Val Accuracy: 0.9825\n",
      "Epoch 2: New best validation accuracy: 0.9825. Model saved to ./sisa_models/shard_0_slice_3_CNN_MNIST_model.pth.\n"
     ]
    },
    {
     "name": "stderr",
     "output_type": "stream",
     "text": [
      "Training Epoch 3/5: 100%|██████████| 113/113 [00:03<00:00, 28.45it/s]\n",
      "Evaluating on validation set...): 100%|██████████| 13/13 [00:00<00:00, 58.56it/s]\n"
     ]
    },
    {
     "name": "stdout",
     "output_type": "stream",
     "text": [
      "Epoch [3/5], Train Loss: 0.0147, Train Accuracy: 0.9953, Val Loss: 0.0552, Val Accuracy: 0.9850\n",
      "Epoch 3: New best validation accuracy: 0.9850. Model saved to ./sisa_models/shard_0_slice_3_CNN_MNIST_model.pth.\n"
     ]
    },
    {
     "name": "stderr",
     "output_type": "stream",
     "text": [
      "Training Epoch 4/5: 100%|██████████| 113/113 [00:03<00:00, 28.27it/s]\n",
      "Evaluating on validation set...): 100%|██████████| 13/13 [00:00<00:00, 37.71it/s]\n"
     ]
    },
    {
     "name": "stdout",
     "output_type": "stream",
     "text": [
      "Epoch [4/5], Train Loss: 0.0051, Train Accuracy: 0.9989, Val Loss: 0.0294, Val Accuracy: 0.9875\n",
      "Epoch 4: New best validation accuracy: 0.9875. Model saved to ./sisa_models/shard_0_slice_3_CNN_MNIST_model.pth.\n"
     ]
    },
    {
     "name": "stderr",
     "output_type": "stream",
     "text": [
      "Training Epoch 5/5: 100%|██████████| 113/113 [00:04<00:00, 26.48it/s]\n",
      "Evaluating on validation set...): 100%|██████████| 13/13 [00:00<00:00, 64.04it/s]\n"
     ]
    },
    {
     "name": "stdout",
     "output_type": "stream",
     "text": [
      "Epoch [5/5], Train Loss: 0.0011, Train Accuracy: 1.0000, Val Loss: 0.0365, Val Accuracy: 0.9875\n",
      "Training complete for ./sisa_models/shard_0_slice_3_CNN_MNIST. Training stats saved to './sisa_models/shard_0_slice_3_CNN_MNIST_history.json'.\n",
      "  Training slice: slice_4\n"
     ]
    },
    {
     "name": "stderr",
     "output_type": "stream",
     "text": [
      "Training Epoch 1/5: 100%|██████████| 113/113 [00:04<00:00, 26.29it/s]\n",
      "Evaluating on validation set...): 100%|██████████| 13/13 [00:00<00:00, 64.05it/s]\n"
     ]
    },
    {
     "name": "stdout",
     "output_type": "stream",
     "text": [
      "Epoch [1/5], Train Loss: 0.0855, Train Accuracy: 0.9747, Val Loss: 0.0552, Val Accuracy: 0.9875\n",
      "Epoch 1: New best validation accuracy: 0.9875. Model saved to ./sisa_models/shard_0_slice_4_CNN_MNIST_model.pth.\n"
     ]
    },
    {
     "name": "stderr",
     "output_type": "stream",
     "text": [
      "Training Epoch 2/5: 100%|██████████| 113/113 [00:04<00:00, 28.19it/s]\n",
      "Evaluating on validation set...): 100%|██████████| 13/13 [00:00<00:00, 47.42it/s]\n"
     ]
    },
    {
     "name": "stdout",
     "output_type": "stream",
     "text": [
      "Epoch [2/5], Train Loss: 0.0331, Train Accuracy: 0.9886, Val Loss: 0.0405, Val Accuracy: 0.9900\n",
      "Epoch 2: New best validation accuracy: 0.9900. Model saved to ./sisa_models/shard_0_slice_4_CNN_MNIST_model.pth.\n"
     ]
    },
    {
     "name": "stderr",
     "output_type": "stream",
     "text": [
      "Training Epoch 3/5: 100%|██████████| 113/113 [00:04<00:00, 26.57it/s]\n",
      "Evaluating on validation set...): 100%|██████████| 13/13 [00:00<00:00, 55.08it/s]\n"
     ]
    },
    {
     "name": "stdout",
     "output_type": "stream",
     "text": [
      "Epoch [3/5], Train Loss: 0.0124, Train Accuracy: 0.9967, Val Loss: 0.0763, Val Accuracy: 0.9825\n"
     ]
    },
    {
     "name": "stderr",
     "output_type": "stream",
     "text": [
      "Training Epoch 4/5: 100%|██████████| 113/113 [00:03<00:00, 28.90it/s]\n",
      "Evaluating on validation set...): 100%|██████████| 13/13 [00:00<00:00, 52.00it/s]\n"
     ]
    },
    {
     "name": "stdout",
     "output_type": "stream",
     "text": [
      "Epoch [4/5], Train Loss: 0.0056, Train Accuracy: 0.9989, Val Loss: 0.0734, Val Accuracy: 0.9850\n"
     ]
    },
    {
     "name": "stderr",
     "output_type": "stream",
     "text": [
      "Training Epoch 5/5: 100%|██████████| 113/113 [00:04<00:00, 27.57it/s]\n",
      "Evaluating on validation set...): 100%|██████████| 13/13 [00:00<00:00, 62.20it/s]\n"
     ]
    },
    {
     "name": "stdout",
     "output_type": "stream",
     "text": [
      "Epoch [5/5], Train Loss: 0.0032, Train Accuracy: 0.9994, Val Loss: 0.0600, Val Accuracy: 0.9850\n",
      "Training complete for ./sisa_models/shard_0_slice_4_CNN_MNIST. Training stats saved to './sisa_models/shard_0_slice_4_CNN_MNIST_history.json'.\n",
      "Saved final shard model to ./sisa_models/shard_0_final_model.pth\n",
      "Training shard: shard_1\n",
      "Init model...\n",
      "Done initializing model.\n",
      "Model ID: 2323519640624, Optimizer ID: 2323520109504, Criterion ID: 2323520230736\n",
      "  Training slice: slice_0\n"
     ]
    },
    {
     "name": "stderr",
     "output_type": "stream",
     "text": [
      "Training Epoch 1/5: 100%|██████████| 113/113 [00:04<00:00, 27.82it/s]\n",
      "Evaluating on validation set...): 100%|██████████| 13/13 [00:00<00:00, 59.89it/s]\n"
     ]
    },
    {
     "name": "stdout",
     "output_type": "stream",
     "text": [
      "Epoch [1/5], Train Loss: 0.7454, Train Accuracy: 0.7583, Val Loss: 0.2644, Val Accuracy: 0.9050\n",
      "Epoch 1: New best validation accuracy: 0.9050. Model saved to ./sisa_models/shard_1_slice_0_CNN_MNIST_model.pth.\n"
     ]
    },
    {
     "name": "stderr",
     "output_type": "stream",
     "text": [
      "Training Epoch 2/5: 100%|██████████| 113/113 [00:04<00:00, 24.22it/s]\n",
      "Evaluating on validation set...): 100%|██████████| 13/13 [00:00<00:00, 50.19it/s]\n"
     ]
    },
    {
     "name": "stdout",
     "output_type": "stream",
     "text": [
      "Epoch [2/5], Train Loss: 0.1691, Train Accuracy: 0.9478, Val Loss: 0.1671, Val Accuracy: 0.9425\n",
      "Epoch 2: New best validation accuracy: 0.9425. Model saved to ./sisa_models/shard_1_slice_0_CNN_MNIST_model.pth.\n"
     ]
    },
    {
     "name": "stderr",
     "output_type": "stream",
     "text": [
      "Training Epoch 3/5: 100%|██████████| 113/113 [00:04<00:00, 23.41it/s]\n",
      "Evaluating on validation set...): 100%|██████████| 13/13 [00:00<00:00, 32.97it/s]\n"
     ]
    },
    {
     "name": "stdout",
     "output_type": "stream",
     "text": [
      "Epoch [3/5], Train Loss: 0.1182, Train Accuracy: 0.9661, Val Loss: 0.1334, Val Accuracy: 0.9475\n",
      "Epoch 3: New best validation accuracy: 0.9475. Model saved to ./sisa_models/shard_1_slice_0_CNN_MNIST_model.pth.\n"
     ]
    },
    {
     "name": "stderr",
     "output_type": "stream",
     "text": [
      "Training Epoch 4/5: 100%|██████████| 113/113 [00:04<00:00, 26.03it/s]\n",
      "Evaluating on validation set...): 100%|██████████| 13/13 [00:00<00:00, 49.54it/s]\n"
     ]
    },
    {
     "name": "stdout",
     "output_type": "stream",
     "text": [
      "Epoch [4/5], Train Loss: 0.0795, Train Accuracy: 0.9781, Val Loss: 0.1085, Val Accuracy: 0.9575\n",
      "Epoch 4: New best validation accuracy: 0.9575. Model saved to ./sisa_models/shard_1_slice_0_CNN_MNIST_model.pth.\n"
     ]
    },
    {
     "name": "stderr",
     "output_type": "stream",
     "text": [
      "Training Epoch 5/5: 100%|██████████| 113/113 [00:03<00:00, 28.99it/s]\n",
      "Evaluating on validation set...): 100%|██████████| 13/13 [00:00<00:00, 58.03it/s]\n"
     ]
    },
    {
     "name": "stdout",
     "output_type": "stream",
     "text": [
      "Epoch [5/5], Train Loss: 0.0534, Train Accuracy: 0.9847, Val Loss: 0.1144, Val Accuracy: 0.9625\n",
      "Epoch 5: New best validation accuracy: 0.9625. Model saved to ./sisa_models/shard_1_slice_0_CNN_MNIST_model.pth.\n",
      "Training complete for ./sisa_models/shard_1_slice_0_CNN_MNIST. Training stats saved to './sisa_models/shard_1_slice_0_CNN_MNIST_history.json'.\n",
      "  Training slice: slice_1\n"
     ]
    },
    {
     "name": "stderr",
     "output_type": "stream",
     "text": [
      "Training Epoch 1/5: 100%|██████████| 113/113 [00:03<00:00, 28.27it/s]\n",
      "Evaluating on validation set...): 100%|██████████| 13/13 [00:00<00:00, 41.67it/s]\n"
     ]
    },
    {
     "name": "stdout",
     "output_type": "stream",
     "text": [
      "Epoch [1/5], Train Loss: 0.0979, Train Accuracy: 0.9700, Val Loss: 0.1100, Val Accuracy: 0.9625\n",
      "Epoch 1: New best validation accuracy: 0.9625. Model saved to ./sisa_models/shard_1_slice_1_CNN_MNIST_model.pth.\n"
     ]
    },
    {
     "name": "stderr",
     "output_type": "stream",
     "text": [
      "Training Epoch 2/5: 100%|██████████| 113/113 [00:03<00:00, 28.54it/s]\n",
      "Evaluating on validation set...): 100%|██████████| 13/13 [00:00<00:00, 64.35it/s]\n"
     ]
    },
    {
     "name": "stdout",
     "output_type": "stream",
     "text": [
      "Epoch [2/5], Train Loss: 0.0459, Train Accuracy: 0.9864, Val Loss: 0.1247, Val Accuracy: 0.9550\n"
     ]
    },
    {
     "name": "stderr",
     "output_type": "stream",
     "text": [
      "Training Epoch 3/5: 100%|██████████| 113/113 [00:03<00:00, 30.90it/s]\n",
      "Evaluating on validation set...): 100%|██████████| 13/13 [00:00<00:00, 65.59it/s]\n"
     ]
    },
    {
     "name": "stdout",
     "output_type": "stream",
     "text": [
      "Epoch [3/5], Train Loss: 0.0300, Train Accuracy: 0.9906, Val Loss: 0.1186, Val Accuracy: 0.9550\n"
     ]
    },
    {
     "name": "stderr",
     "output_type": "stream",
     "text": [
      "Training Epoch 4/5: 100%|██████████| 113/113 [00:03<00:00, 30.29it/s]\n",
      "Evaluating on validation set...): 100%|██████████| 13/13 [00:00<00:00, 36.72it/s]\n"
     ]
    },
    {
     "name": "stdout",
     "output_type": "stream",
     "text": [
      "Epoch [4/5], Train Loss: 0.0166, Train Accuracy: 0.9961, Val Loss: 0.1391, Val Accuracy: 0.9675\n",
      "Epoch 4: New best validation accuracy: 0.9675. Model saved to ./sisa_models/shard_1_slice_1_CNN_MNIST_model.pth.\n"
     ]
    },
    {
     "name": "stderr",
     "output_type": "stream",
     "text": [
      "Training Epoch 5/5: 100%|██████████| 113/113 [00:04<00:00, 26.37it/s]\n",
      "Evaluating on validation set...): 100%|██████████| 13/13 [00:00<00:00, 57.02it/s]\n"
     ]
    },
    {
     "name": "stdout",
     "output_type": "stream",
     "text": [
      "Epoch [5/5], Train Loss: 0.0131, Train Accuracy: 0.9969, Val Loss: 0.1282, Val Accuracy: 0.9650\n",
      "Training complete for ./sisa_models/shard_1_slice_1_CNN_MNIST. Training stats saved to './sisa_models/shard_1_slice_1_CNN_MNIST_history.json'.\n",
      "  Training slice: slice_2\n"
     ]
    },
    {
     "name": "stderr",
     "output_type": "stream",
     "text": [
      "Training Epoch 1/5: 100%|██████████| 113/113 [00:03<00:00, 28.94it/s]\n",
      "Evaluating on validation set...): 100%|██████████| 13/13 [00:00<00:00, 59.36it/s]\n"
     ]
    },
    {
     "name": "stdout",
     "output_type": "stream",
     "text": [
      "Epoch [1/5], Train Loss: 0.0840, Train Accuracy: 0.9719, Val Loss: 0.1087, Val Accuracy: 0.9750\n",
      "Epoch 1: New best validation accuracy: 0.9750. Model saved to ./sisa_models/shard_1_slice_2_CNN_MNIST_model.pth.\n"
     ]
    },
    {
     "name": "stderr",
     "output_type": "stream",
     "text": [
      "Training Epoch 2/5: 100%|██████████| 113/113 [00:03<00:00, 28.56it/s]\n",
      "Evaluating on validation set...): 100%|██████████| 13/13 [00:00<00:00, 44.52it/s]\n"
     ]
    },
    {
     "name": "stdout",
     "output_type": "stream",
     "text": [
      "Epoch [2/5], Train Loss: 0.0396, Train Accuracy: 0.9869, Val Loss: 0.1271, Val Accuracy: 0.9625\n"
     ]
    },
    {
     "name": "stderr",
     "output_type": "stream",
     "text": [
      "Training Epoch 3/5: 100%|██████████| 113/113 [00:03<00:00, 28.88it/s]\n",
      "Evaluating on validation set...): 100%|██████████| 13/13 [00:00<00:00, 57.74it/s]\n"
     ]
    },
    {
     "name": "stdout",
     "output_type": "stream",
     "text": [
      "Epoch [3/5], Train Loss: 0.0157, Train Accuracy: 0.9964, Val Loss: 0.0776, Val Accuracy: 0.9725\n"
     ]
    },
    {
     "name": "stderr",
     "output_type": "stream",
     "text": [
      "Training Epoch 4/5: 100%|██████████| 113/113 [00:03<00:00, 28.29it/s]\n",
      "Evaluating on validation set...): 100%|██████████| 13/13 [00:00<00:00, 47.04it/s]\n"
     ]
    },
    {
     "name": "stdout",
     "output_type": "stream",
     "text": [
      "Epoch [4/5], Train Loss: 0.0074, Train Accuracy: 0.9978, Val Loss: 0.0764, Val Accuracy: 0.9750\n"
     ]
    },
    {
     "name": "stderr",
     "output_type": "stream",
     "text": [
      "Training Epoch 5/5: 100%|██████████| 113/113 [00:03<00:00, 29.77it/s]\n",
      "Evaluating on validation set...): 100%|██████████| 13/13 [00:00<00:00, 58.29it/s]\n"
     ]
    },
    {
     "name": "stdout",
     "output_type": "stream",
     "text": [
      "Epoch [5/5], Train Loss: 0.0025, Train Accuracy: 0.9997, Val Loss: 0.0819, Val Accuracy: 0.9725\n",
      "Training complete for ./sisa_models/shard_1_slice_2_CNN_MNIST. Training stats saved to './sisa_models/shard_1_slice_2_CNN_MNIST_history.json'.\n",
      "  Training slice: slice_3\n"
     ]
    },
    {
     "name": "stderr",
     "output_type": "stream",
     "text": [
      "Training Epoch 1/5: 100%|██████████| 113/113 [00:04<00:00, 27.05it/s]\n",
      "Evaluating on validation set...): 100%|██████████| 13/13 [00:00<00:00, 59.63it/s]\n"
     ]
    },
    {
     "name": "stdout",
     "output_type": "stream",
     "text": [
      "Epoch [1/5], Train Loss: 0.0977, Train Accuracy: 0.9706, Val Loss: 0.0526, Val Accuracy: 0.9775\n",
      "Epoch 1: New best validation accuracy: 0.9775. Model saved to ./sisa_models/shard_1_slice_3_CNN_MNIST_model.pth.\n"
     ]
    },
    {
     "name": "stderr",
     "output_type": "stream",
     "text": [
      "Training Epoch 2/5: 100%|██████████| 113/113 [00:03<00:00, 29.76it/s]\n",
      "Evaluating on validation set...): 100%|██████████| 13/13 [00:00<00:00, 59.09it/s]\n"
     ]
    },
    {
     "name": "stdout",
     "output_type": "stream",
     "text": [
      "Epoch [2/5], Train Loss: 0.0303, Train Accuracy: 0.9911, Val Loss: 0.0389, Val Accuracy: 0.9850\n",
      "Epoch 2: New best validation accuracy: 0.9850. Model saved to ./sisa_models/shard_1_slice_3_CNN_MNIST_model.pth.\n"
     ]
    },
    {
     "name": "stderr",
     "output_type": "stream",
     "text": [
      "Training Epoch 3/5: 100%|██████████| 113/113 [00:04<00:00, 27.74it/s]\n",
      "Evaluating on validation set...): 100%|██████████| 13/13 [00:00<00:00, 61.91it/s]\n"
     ]
    },
    {
     "name": "stdout",
     "output_type": "stream",
     "text": [
      "Epoch [3/5], Train Loss: 0.0083, Train Accuracy: 0.9981, Val Loss: 0.0408, Val Accuracy: 0.9825\n"
     ]
    },
    {
     "name": "stderr",
     "output_type": "stream",
     "text": [
      "Training Epoch 4/5: 100%|██████████| 113/113 [00:03<00:00, 29.78it/s]\n",
      "Evaluating on validation set...): 100%|██████████| 13/13 [00:00<00:00, 61.61it/s]\n"
     ]
    },
    {
     "name": "stdout",
     "output_type": "stream",
     "text": [
      "Epoch [4/5], Train Loss: 0.0071, Train Accuracy: 0.9978, Val Loss: 0.0437, Val Accuracy: 0.9850\n"
     ]
    },
    {
     "name": "stderr",
     "output_type": "stream",
     "text": [
      "Training Epoch 5/5: 100%|██████████| 113/113 [00:03<00:00, 29.69it/s]\n",
      "Evaluating on validation set...): 100%|██████████| 13/13 [00:00<00:00, 62.50it/s]\n"
     ]
    },
    {
     "name": "stdout",
     "output_type": "stream",
     "text": [
      "Epoch [5/5], Train Loss: 0.0023, Train Accuracy: 0.9997, Val Loss: 0.0406, Val Accuracy: 0.9875\n",
      "Epoch 5: New best validation accuracy: 0.9875. Model saved to ./sisa_models/shard_1_slice_3_CNN_MNIST_model.pth.\n",
      "Training complete for ./sisa_models/shard_1_slice_3_CNN_MNIST. Training stats saved to './sisa_models/shard_1_slice_3_CNN_MNIST_history.json'.\n",
      "  Training slice: slice_4\n"
     ]
    },
    {
     "name": "stderr",
     "output_type": "stream",
     "text": [
      "Training Epoch 1/5: 100%|██████████| 113/113 [00:03<00:00, 28.88it/s]\n",
      "Evaluating on validation set...): 100%|██████████| 13/13 [00:00<00:00, 57.83it/s]\n"
     ]
    },
    {
     "name": "stdout",
     "output_type": "stream",
     "text": [
      "Epoch [1/5], Train Loss: 0.0915, Train Accuracy: 0.9747, Val Loss: 0.1153, Val Accuracy: 0.9750\n",
      "Epoch 1: New best validation accuracy: 0.9750. Model saved to ./sisa_models/shard_1_slice_4_CNN_MNIST_model.pth.\n"
     ]
    },
    {
     "name": "stderr",
     "output_type": "stream",
     "text": [
      "Training Epoch 2/5: 100%|██████████| 113/113 [00:04<00:00, 27.67it/s]\n",
      "Evaluating on validation set...): 100%|██████████| 13/13 [00:00<00:00, 57.57it/s]\n"
     ]
    },
    {
     "name": "stdout",
     "output_type": "stream",
     "text": [
      "Epoch [2/5], Train Loss: 0.0298, Train Accuracy: 0.9903, Val Loss: 0.1053, Val Accuracy: 0.9800\n",
      "Epoch 2: New best validation accuracy: 0.9800. Model saved to ./sisa_models/shard_1_slice_4_CNN_MNIST_model.pth.\n"
     ]
    },
    {
     "name": "stderr",
     "output_type": "stream",
     "text": [
      "Training Epoch 3/5: 100%|██████████| 113/113 [00:03<00:00, 28.59it/s]\n",
      "Evaluating on validation set...): 100%|██████████| 13/13 [00:00<00:00, 56.17it/s]\n"
     ]
    },
    {
     "name": "stdout",
     "output_type": "stream",
     "text": [
      "Epoch [3/5], Train Loss: 0.0167, Train Accuracy: 0.9942, Val Loss: 0.1154, Val Accuracy: 0.9800\n"
     ]
    },
    {
     "name": "stderr",
     "output_type": "stream",
     "text": [
      "Training Epoch 4/5: 100%|██████████| 113/113 [00:03<00:00, 30.06it/s]\n",
      "Evaluating on validation set...): 100%|██████████| 13/13 [00:00<00:00, 58.29it/s]\n"
     ]
    },
    {
     "name": "stdout",
     "output_type": "stream",
     "text": [
      "Epoch [4/5], Train Loss: 0.0051, Train Accuracy: 0.9986, Val Loss: 0.1148, Val Accuracy: 0.9825\n",
      "Epoch 4: New best validation accuracy: 0.9825. Model saved to ./sisa_models/shard_1_slice_4_CNN_MNIST_model.pth.\n"
     ]
    },
    {
     "name": "stderr",
     "output_type": "stream",
     "text": [
      "Training Epoch 5/5: 100%|██████████| 113/113 [00:04<00:00, 27.69it/s]\n",
      "Evaluating on validation set...): 100%|██████████| 13/13 [00:00<00:00, 55.79it/s]\n"
     ]
    },
    {
     "name": "stdout",
     "output_type": "stream",
     "text": [
      "Epoch [5/5], Train Loss: 0.0015, Train Accuracy: 1.0000, Val Loss: 0.1180, Val Accuracy: 0.9825\n",
      "Training complete for ./sisa_models/shard_1_slice_4_CNN_MNIST. Training stats saved to './sisa_models/shard_1_slice_4_CNN_MNIST_history.json'.\n",
      "Saved final shard model to ./sisa_models/shard_1_final_model.pth\n",
      "Training shard: shard_2\n",
      "Init model...\n",
      "Done initializing model.\n",
      "Model ID: 2323496801376, Optimizer ID: 2323494779840, Criterion ID: 2323520231360\n",
      "  Training slice: slice_0\n"
     ]
    },
    {
     "name": "stderr",
     "output_type": "stream",
     "text": [
      "Training Epoch 1/5: 100%|██████████| 113/113 [00:04<00:00, 28.09it/s]\n",
      "Evaluating on validation set...): 100%|██████████| 13/13 [00:00<00:00, 57.02it/s]\n"
     ]
    },
    {
     "name": "stdout",
     "output_type": "stream",
     "text": [
      "Epoch [1/5], Train Loss: 0.7852, Train Accuracy: 0.7503, Val Loss: 0.2639, Val Accuracy: 0.9300\n",
      "Epoch 1: New best validation accuracy: 0.9300. Model saved to ./sisa_models/shard_2_slice_0_CNN_MNIST_model.pth.\n"
     ]
    },
    {
     "name": "stderr",
     "output_type": "stream",
     "text": [
      "Training Epoch 2/5: 100%|██████████| 113/113 [00:03<00:00, 28.41it/s]\n",
      "Evaluating on validation set...): 100%|██████████| 13/13 [00:00<00:00, 37.36it/s]\n"
     ]
    },
    {
     "name": "stdout",
     "output_type": "stream",
     "text": [
      "Epoch [2/5], Train Loss: 0.1858, Train Accuracy: 0.9450, Val Loss: 0.1972, Val Accuracy: 0.9400\n",
      "Epoch 2: New best validation accuracy: 0.9400. Model saved to ./sisa_models/shard_2_slice_0_CNN_MNIST_model.pth.\n"
     ]
    },
    {
     "name": "stderr",
     "output_type": "stream",
     "text": [
      "Training Epoch 3/5: 100%|██████████| 113/113 [00:03<00:00, 29.70it/s]\n",
      "Evaluating on validation set...): 100%|██████████| 13/13 [00:00<00:00, 46.76it/s]\n"
     ]
    },
    {
     "name": "stdout",
     "output_type": "stream",
     "text": [
      "Epoch [3/5], Train Loss: 0.1156, Train Accuracy: 0.9667, Val Loss: 0.1577, Val Accuracy: 0.9450\n",
      "Epoch 3: New best validation accuracy: 0.9450. Model saved to ./sisa_models/shard_2_slice_0_CNN_MNIST_model.pth.\n"
     ]
    },
    {
     "name": "stderr",
     "output_type": "stream",
     "text": [
      "Training Epoch 4/5: 100%|██████████| 113/113 [00:03<00:00, 28.69it/s]\n",
      "Evaluating on validation set...): 100%|██████████| 13/13 [00:00<00:00, 61.32it/s]\n"
     ]
    },
    {
     "name": "stdout",
     "output_type": "stream",
     "text": [
      "Epoch [4/5], Train Loss: 0.0765, Train Accuracy: 0.9778, Val Loss: 0.1353, Val Accuracy: 0.9525\n",
      "Epoch 4: New best validation accuracy: 0.9525. Model saved to ./sisa_models/shard_2_slice_0_CNN_MNIST_model.pth.\n"
     ]
    },
    {
     "name": "stderr",
     "output_type": "stream",
     "text": [
      "Training Epoch 5/5: 100%|██████████| 113/113 [00:03<00:00, 29.17it/s]\n",
      "Evaluating on validation set...): 100%|██████████| 13/13 [00:00<00:00, 58.88it/s]\n"
     ]
    },
    {
     "name": "stdout",
     "output_type": "stream",
     "text": [
      "Epoch [5/5], Train Loss: 0.0521, Train Accuracy: 0.9847, Val Loss: 0.1138, Val Accuracy: 0.9675\n",
      "Epoch 5: New best validation accuracy: 0.9675. Model saved to ./sisa_models/shard_2_slice_0_CNN_MNIST_model.pth.\n",
      "Training complete for ./sisa_models/shard_2_slice_0_CNN_MNIST. Training stats saved to './sisa_models/shard_2_slice_0_CNN_MNIST_history.json'.\n",
      "  Training slice: slice_1\n"
     ]
    },
    {
     "name": "stderr",
     "output_type": "stream",
     "text": [
      "Training Epoch 1/5: 100%|██████████| 113/113 [00:04<00:00, 28.04it/s]\n",
      "Evaluating on validation set...): 100%|██████████| 13/13 [00:00<00:00, 61.91it/s]\n"
     ]
    },
    {
     "name": "stdout",
     "output_type": "stream",
     "text": [
      "Epoch [1/5], Train Loss: 0.1265, Train Accuracy: 0.9614, Val Loss: 0.1489, Val Accuracy: 0.9475\n",
      "Epoch 1: New best validation accuracy: 0.9475. Model saved to ./sisa_models/shard_2_slice_1_CNN_MNIST_model.pth.\n"
     ]
    },
    {
     "name": "stderr",
     "output_type": "stream",
     "text": [
      "Training Epoch 2/5: 100%|██████████| 113/113 [00:03<00:00, 28.89it/s]\n",
      "Evaluating on validation set...): 100%|██████████| 13/13 [00:00<00:00, 47.22it/s]\n"
     ]
    },
    {
     "name": "stdout",
     "output_type": "stream",
     "text": [
      "Epoch [2/5], Train Loss: 0.0681, Train Accuracy: 0.9783, Val Loss: 0.1204, Val Accuracy: 0.9625\n",
      "Epoch 2: New best validation accuracy: 0.9625. Model saved to ./sisa_models/shard_2_slice_1_CNN_MNIST_model.pth.\n"
     ]
    },
    {
     "name": "stderr",
     "output_type": "stream",
     "text": [
      "Training Epoch 3/5: 100%|██████████| 113/113 [00:03<00:00, 29.76it/s]\n",
      "Evaluating on validation set...): 100%|██████████| 13/13 [00:00<00:00, 48.02it/s]\n"
     ]
    },
    {
     "name": "stdout",
     "output_type": "stream",
     "text": [
      "Epoch [3/5], Train Loss: 0.0390, Train Accuracy: 0.9858, Val Loss: 0.1215, Val Accuracy: 0.9600\n"
     ]
    },
    {
     "name": "stderr",
     "output_type": "stream",
     "text": [
      "Training Epoch 4/5: 100%|██████████| 113/113 [00:03<00:00, 29.87it/s]\n",
      "Evaluating on validation set...): 100%|██████████| 13/13 [00:00<00:00, 60.46it/s]\n"
     ]
    },
    {
     "name": "stdout",
     "output_type": "stream",
     "text": [
      "Epoch [4/5], Train Loss: 0.0220, Train Accuracy: 0.9936, Val Loss: 0.1575, Val Accuracy: 0.9675\n",
      "Epoch 4: New best validation accuracy: 0.9675. Model saved to ./sisa_models/shard_2_slice_1_CNN_MNIST_model.pth.\n"
     ]
    },
    {
     "name": "stderr",
     "output_type": "stream",
     "text": [
      "Training Epoch 5/5: 100%|██████████| 113/113 [00:04<00:00, 27.25it/s]\n",
      "Evaluating on validation set...): 100%|██████████| 13/13 [00:00<00:00, 60.17it/s]\n"
     ]
    },
    {
     "name": "stdout",
     "output_type": "stream",
     "text": [
      "Epoch [5/5], Train Loss: 0.0146, Train Accuracy: 0.9964, Val Loss: 0.1494, Val Accuracy: 0.9675\n",
      "Training complete for ./sisa_models/shard_2_slice_1_CNN_MNIST. Training stats saved to './sisa_models/shard_2_slice_1_CNN_MNIST_history.json'.\n",
      "  Training slice: slice_2\n"
     ]
    },
    {
     "name": "stderr",
     "output_type": "stream",
     "text": [
      "Training Epoch 1/5: 100%|██████████| 113/113 [00:03<00:00, 29.19it/s]\n",
      "Evaluating on validation set...): 100%|██████████| 13/13 [00:00<00:00, 58.29it/s]\n"
     ]
    },
    {
     "name": "stdout",
     "output_type": "stream",
     "text": [
      "Epoch [1/5], Train Loss: 0.0930, Train Accuracy: 0.9739, Val Loss: 0.1065, Val Accuracy: 0.9650\n",
      "Epoch 1: New best validation accuracy: 0.9650. Model saved to ./sisa_models/shard_2_slice_2_CNN_MNIST_model.pth.\n"
     ]
    },
    {
     "name": "stderr",
     "output_type": "stream",
     "text": [
      "Training Epoch 2/5: 100%|██████████| 113/113 [00:03<00:00, 28.88it/s]\n",
      "Evaluating on validation set...): 100%|██████████| 13/13 [00:00<00:00, 59.81it/s]\n"
     ]
    },
    {
     "name": "stdout",
     "output_type": "stream",
     "text": [
      "Epoch [2/5], Train Loss: 0.0453, Train Accuracy: 0.9878, Val Loss: 0.0979, Val Accuracy: 0.9650\n"
     ]
    },
    {
     "name": "stderr",
     "output_type": "stream",
     "text": [
      "Training Epoch 3/5: 100%|██████████| 113/113 [00:03<00:00, 29.37it/s]\n",
      "Evaluating on validation set...): 100%|██████████| 13/13 [00:00<00:00, 59.63it/s]\n"
     ]
    },
    {
     "name": "stdout",
     "output_type": "stream",
     "text": [
      "Epoch [3/5], Train Loss: 0.0173, Train Accuracy: 0.9936, Val Loss: 0.0883, Val Accuracy: 0.9725\n",
      "Epoch 3: New best validation accuracy: 0.9725. Model saved to ./sisa_models/shard_2_slice_2_CNN_MNIST_model.pth.\n"
     ]
    },
    {
     "name": "stderr",
     "output_type": "stream",
     "text": [
      "Training Epoch 4/5: 100%|██████████| 113/113 [00:04<00:00, 26.09it/s]\n",
      "Evaluating on validation set...): 100%|██████████| 13/13 [00:00<00:00, 58.03it/s]\n"
     ]
    },
    {
     "name": "stdout",
     "output_type": "stream",
     "text": [
      "Epoch [4/5], Train Loss: 0.0098, Train Accuracy: 0.9975, Val Loss: 0.0708, Val Accuracy: 0.9775\n",
      "Epoch 4: New best validation accuracy: 0.9775. Model saved to ./sisa_models/shard_2_slice_2_CNN_MNIST_model.pth.\n"
     ]
    },
    {
     "name": "stderr",
     "output_type": "stream",
     "text": [
      "Training Epoch 5/5: 100%|██████████| 113/113 [00:04<00:00, 28.24it/s]\n",
      "Evaluating on validation set...): 100%|██████████| 13/13 [00:00<00:00, 57.52it/s]\n"
     ]
    },
    {
     "name": "stdout",
     "output_type": "stream",
     "text": [
      "Epoch [5/5], Train Loss: 0.0031, Train Accuracy: 1.0000, Val Loss: 0.0792, Val Accuracy: 0.9750\n",
      "Training complete for ./sisa_models/shard_2_slice_2_CNN_MNIST. Training stats saved to './sisa_models/shard_2_slice_2_CNN_MNIST_history.json'.\n",
      "  Training slice: slice_3\n"
     ]
    },
    {
     "name": "stderr",
     "output_type": "stream",
     "text": [
      "Training Epoch 1/5: 100%|██████████| 113/113 [00:04<00:00, 26.75it/s]\n",
      "Evaluating on validation set...): 100%|██████████| 13/13 [00:00<00:00, 56.28it/s]\n"
     ]
    },
    {
     "name": "stdout",
     "output_type": "stream",
     "text": [
      "Epoch [1/5], Train Loss: 0.0928, Train Accuracy: 0.9728, Val Loss: 0.0745, Val Accuracy: 0.9650\n",
      "Epoch 1: New best validation accuracy: 0.9650. Model saved to ./sisa_models/shard_2_slice_3_CNN_MNIST_model.pth.\n"
     ]
    },
    {
     "name": "stderr",
     "output_type": "stream",
     "text": [
      "Training Epoch 2/5: 100%|██████████| 113/113 [00:04<00:00, 25.34it/s]\n",
      "Evaluating on validation set...): 100%|██████████| 13/13 [00:00<00:00, 52.42it/s]\n"
     ]
    },
    {
     "name": "stdout",
     "output_type": "stream",
     "text": [
      "Epoch [2/5], Train Loss: 0.0319, Train Accuracy: 0.9886, Val Loss: 0.0628, Val Accuracy: 0.9800\n",
      "Epoch 2: New best validation accuracy: 0.9800. Model saved to ./sisa_models/shard_2_slice_3_CNN_MNIST_model.pth.\n"
     ]
    },
    {
     "name": "stderr",
     "output_type": "stream",
     "text": [
      "Training Epoch 3/5: 100%|██████████| 113/113 [00:04<00:00, 26.03it/s]\n",
      "Evaluating on validation set...): 100%|██████████| 13/13 [00:00<00:00, 51.59it/s]\n"
     ]
    },
    {
     "name": "stdout",
     "output_type": "stream",
     "text": [
      "Epoch [3/5], Train Loss: 0.0163, Train Accuracy: 0.9944, Val Loss: 0.0771, Val Accuracy: 0.9750\n"
     ]
    },
    {
     "name": "stderr",
     "output_type": "stream",
     "text": [
      "Training Epoch 4/5: 100%|██████████| 113/113 [00:04<00:00, 27.83it/s]\n",
      "Evaluating on validation set...): 100%|██████████| 13/13 [00:00<00:00, 40.50it/s]\n"
     ]
    },
    {
     "name": "stdout",
     "output_type": "stream",
     "text": [
      "Epoch [4/5], Train Loss: 0.0097, Train Accuracy: 0.9972, Val Loss: 0.0627, Val Accuracy: 0.9775\n"
     ]
    },
    {
     "name": "stderr",
     "output_type": "stream",
     "text": [
      "Training Epoch 5/5: 100%|██████████| 113/113 [00:03<00:00, 28.98it/s]\n",
      "Evaluating on validation set...): 100%|██████████| 13/13 [00:00<00:00, 53.94it/s]\n"
     ]
    },
    {
     "name": "stdout",
     "output_type": "stream",
     "text": [
      "Epoch [5/5], Train Loss: 0.0075, Train Accuracy: 0.9978, Val Loss: 0.0630, Val Accuracy: 0.9800\n",
      "Training complete for ./sisa_models/shard_2_slice_3_CNN_MNIST. Training stats saved to './sisa_models/shard_2_slice_3_CNN_MNIST_history.json'.\n",
      "  Training slice: slice_4\n"
     ]
    },
    {
     "name": "stderr",
     "output_type": "stream",
     "text": [
      "Training Epoch 1/5: 100%|██████████| 113/113 [00:04<00:00, 25.94it/s]\n",
      "Evaluating on validation set...): 100%|██████████| 13/13 [00:00<00:00, 52.17it/s]\n"
     ]
    },
    {
     "name": "stdout",
     "output_type": "stream",
     "text": [
      "Epoch [1/5], Train Loss: 0.0726, Train Accuracy: 0.9783, Val Loss: 0.1007, Val Accuracy: 0.9575\n",
      "Epoch 1: New best validation accuracy: 0.9575. Model saved to ./sisa_models/shard_2_slice_4_CNN_MNIST_model.pth.\n"
     ]
    },
    {
     "name": "stderr",
     "output_type": "stream",
     "text": [
      "Training Epoch 2/5: 100%|██████████| 113/113 [00:04<00:00, 26.27it/s]\n",
      "Evaluating on validation set...): 100%|██████████| 13/13 [00:00<00:00, 54.05it/s]\n"
     ]
    },
    {
     "name": "stdout",
     "output_type": "stream",
     "text": [
      "Epoch [2/5], Train Loss: 0.0175, Train Accuracy: 0.9944, Val Loss: 0.0470, Val Accuracy: 0.9875\n",
      "Epoch 2: New best validation accuracy: 0.9875. Model saved to ./sisa_models/shard_2_slice_4_CNN_MNIST_model.pth.\n"
     ]
    },
    {
     "name": "stderr",
     "output_type": "stream",
     "text": [
      "Training Epoch 3/5: 100%|██████████| 113/113 [00:04<00:00, 27.84it/s]\n",
      "Evaluating on validation set...): 100%|██████████| 13/13 [00:00<00:00, 61.32it/s]\n"
     ]
    },
    {
     "name": "stdout",
     "output_type": "stream",
     "text": [
      "Epoch [3/5], Train Loss: 0.0116, Train Accuracy: 0.9961, Val Loss: 0.0582, Val Accuracy: 0.9800\n"
     ]
    },
    {
     "name": "stderr",
     "output_type": "stream",
     "text": [
      "Training Epoch 4/5: 100%|██████████| 113/113 [00:03<00:00, 28.60it/s]\n",
      "Evaluating on validation set...): 100%|██████████| 13/13 [00:00<00:00, 56.28it/s]\n"
     ]
    },
    {
     "name": "stdout",
     "output_type": "stream",
     "text": [
      "Epoch [4/5], Train Loss: 0.0040, Train Accuracy: 0.9992, Val Loss: 0.0588, Val Accuracy: 0.9825\n"
     ]
    },
    {
     "name": "stderr",
     "output_type": "stream",
     "text": [
      "Training Epoch 5/5: 100%|██████████| 113/113 [00:04<00:00, 27.53it/s]\n",
      "Evaluating on validation set...): 100%|██████████| 13/13 [00:00<00:00, 54.56it/s]"
     ]
    },
    {
     "name": "stdout",
     "output_type": "stream",
     "text": [
      "Epoch [5/5], Train Loss: 0.0012, Train Accuracy: 1.0000, Val Loss: 0.0506, Val Accuracy: 0.9900\n",
      "Epoch 5: New best validation accuracy: 0.9900. Model saved to ./sisa_models/shard_2_slice_4_CNN_MNIST_model.pth.\n",
      "Training complete for ./sisa_models/shard_2_slice_4_CNN_MNIST. Training stats saved to './sisa_models/shard_2_slice_4_CNN_MNIST_history.json'.\n",
      "Saved final shard model to ./sisa_models/shard_2_final_model.pth\n"
     ]
    },
    {
     "name": "stderr",
     "output_type": "stream",
     "text": [
      "\n"
     ]
    }
   ],
   "source": [
    "sisa_train(\n",
    "    dataloaders=dataloaders, \n",
    "    num_epochs=EPOCHS, \n",
    "    save_models_metrics_dir=save_models_metrics_dir, \n",
    "    init_model_func=init_model_cnn,\n",
    "    learning_rate=LEARNING_RATE,\n",
    "    )\n"
   ]
  },
  {
   "cell_type": "markdown",
   "metadata": {},
   "source": [
    "## Call test"
   ]
  },
  {
   "cell_type": "code",
   "execution_count": 14,
   "metadata": {},
   "outputs": [
    {
     "name": "stdout",
     "output_type": "stream",
     "text": [
      "Init model...\n",
      "Done initializing model.\n",
      "Model ID: 2323520105328, Optimizer ID: 2323494779840, Criterion ID: 2323440636832\n",
      "Loading and testing model: ./sisa_models/shard_0_CNN_MNIST\n"
     ]
    },
    {
     "name": "stderr",
     "output_type": "stream",
     "text": [
      "Evaluating model: ./sisa_models/shard_0_final_model.pth: 100%|██████████| 313/313 [00:06<00:00, 51.29it/s]\n"
     ]
    },
    {
     "name": "stdout",
     "output_type": "stream",
     "text": [
      "Predictions and labels saved to ./sisa_models/shard_0_CNN_MNIST_predictions.json\n",
      "Init model...\n",
      "Done initializing model.\n",
      "Model ID: 2323519637312, Optimizer ID: 2323520241200, Criterion ID: 2323520241248\n",
      "Loading and testing model: ./sisa_models/shard_1_CNN_MNIST\n"
     ]
    },
    {
     "name": "stderr",
     "output_type": "stream",
     "text": [
      "Evaluating model: ./sisa_models/shard_1_final_model.pth: 100%|██████████| 313/313 [00:06<00:00, 50.46it/s]\n"
     ]
    },
    {
     "name": "stdout",
     "output_type": "stream",
     "text": [
      "Predictions and labels saved to ./sisa_models/shard_1_CNN_MNIST_predictions.json\n",
      "Init model...\n",
      "Done initializing model.\n",
      "Model ID: 2323488565696, Optimizer ID: 2323520231648, Criterion ID: 2323522045472\n",
      "Loading and testing model: ./sisa_models/shard_2_CNN_MNIST\n"
     ]
    },
    {
     "name": "stderr",
     "output_type": "stream",
     "text": [
      "Evaluating model: ./sisa_models/shard_2_final_model.pth: 100%|██████████| 313/313 [00:05<00:00, 54.73it/s]\n"
     ]
    },
    {
     "name": "stdout",
     "output_type": "stream",
     "text": [
      "Predictions and labels saved to ./sisa_models/shard_2_CNN_MNIST_predictions.json\n",
      "Evaluation results saved to sisa_final_evaluation.json\n"
     ]
    }
   ],
   "source": [
    "sisa_test(\n",
    "    dataloaders=dataloaders, \n",
    "    saved_models_metrics_dir=save_models_metrics_dir, \n",
    "    init_model_func=init_model_cnn,\n",
    "    clear_solo_models_preds=True)"
   ]
  },
  {
   "cell_type": "markdown",
   "metadata": {},
   "source": [
    "## Shard models assembly (weighted voting, w=accuracy)"
   ]
  },
  {
   "cell_type": "code",
   "execution_count": 15,
   "metadata": {
    "execution": {
     "iopub.execute_input": "2024-11-29T14:28:20.794502Z",
     "iopub.status.busy": "2024-11-29T14:28:20.794144Z",
     "iopub.status.idle": "2024-11-29T14:28:20.802235Z",
     "shell.execute_reply": "2024-11-29T14:28:20.801564Z",
     "shell.execute_reply.started": "2024-11-29T14:28:20.794471Z"
    },
    "trusted": true
   },
   "outputs": [],
   "source": [
    "with open(\"sisa_final_evaluation.json\", \"r\") as f:\n",
    "    results = json.load(f)"
   ]
  },
  {
   "cell_type": "code",
   "execution_count": 16,
   "metadata": {
    "execution": {
     "iopub.execute_input": "2024-11-29T14:44:45.303377Z",
     "iopub.status.busy": "2024-11-29T14:44:45.303036Z",
     "iopub.status.idle": "2024-11-29T14:44:45.942509Z",
     "shell.execute_reply": "2024-11-29T14:44:45.941574Z",
     "shell.execute_reply.started": "2024-11-29T14:44:45.303347Z"
    },
    "trusted": true
   },
   "outputs": [
    {
     "name": "stdout",
     "output_type": "stream",
     "text": [
      "Shard shard_0 Metrics:\n",
      "  Accuracy: 0.9851\n",
      "  Precision: 0.9852\n",
      "  Recall: 0.9851\n",
      "  F1 Score: 0.9851\n",
      "Shard shard_1 Metrics:\n",
      "  Accuracy: 0.9872\n",
      "  Precision: 0.9872\n",
      "  Recall: 0.9872\n",
      "  F1 Score: 0.9872\n",
      "Shard shard_2 Metrics:\n",
      "  Accuracy: 0.9858\n",
      "  Precision: 0.9858\n",
      "  Recall: 0.9858\n",
      "  F1 Score: 0.9858\n",
      "\n",
      "Aggregated Model Metrics:\n",
      "  Accuracy: 0.9885\n",
      "  Precision: 0.9885\n",
      "  Recall: 0.9885\n",
      "  F1 Score: 0.9885\n"
     ]
    },
    {
     "data": {
      "image/png": "[encoded data removed]",
      "text/plain": [
       "<Figure size 1000x800 with 2 Axes>"
      ]
     },
     "metadata": {},
     "output_type": "display_data"
    }
   ],
   "source": [
    "evaluate_aggregated_model(results)"
   ]
  },
  {
   "cell_type": "markdown",
   "metadata": {},
   "source": [
    "# SISA re-train"
   ]
  },
  {
   "cell_type": "markdown",
   "metadata": {},
   "source": [
    "## Paths to data info"
   ]
  },
  {
   "cell_type": "code",
   "execution_count": null,
   "metadata": {},
   "outputs": [],
   "source": [
    "mnist_samples_to_delete = 'mnist_samples_to_unlearn.json'\n",
    "mnist_sisa_structure = 'sisa_structure.json'\n",
    "updated_sisa_structure = 'updated_sisa_strucute.json'\n",
    "deleted_samples = 'deleted_samples.json'"
   ]
  },
  {
   "cell_type": "markdown",
   "metadata": {},
   "source": [
    "## Update sisa structure -> delete samples "
   ]
  },
  {
   "cell_type": "code",
   "execution_count": null,
   "metadata": {
    "trusted": true
   },
   "outputs": [
    {
     "name": "stdout",
     "output_type": "stream",
     "text": [
      "Retraining Plan:\n",
      "  Shard: shard_0, Start from Slice: slice_0 onward\n",
      "  Shard: shard_1, Start from Slice: slice_0 onward\n",
      "  Shard: shard_2, Start from Slice: slice_0 onward\n"
     ]
    }
   ],
   "source": [
    "affected_shards = update_sisa_structure(mnist_samples_to_delete, mnist_sisa_structure, updated_sisa_structure,deleted_samples)"
   ]
  },
  {
   "cell_type": "markdown",
   "metadata": {},
   "source": [
    "## Recreate DataLoaders from json file"
   ]
  },
  {
   "cell_type": "code",
   "execution_count": null,
   "metadata": {},
   "outputs": [],
   "source": [
    "dataloaders = recreate_sisa_dataloaders(\n",
    "    datasets=(dataset, test_dataset),\n",
    "    info_file_path=updated_sisa_structure,\n",
    "    batch_size=BATCH_SIZE,\n",
    "    val_ratio=0.1\n",
    ")"
   ]
  },
  {
   "cell_type": "markdown",
   "metadata": {},
   "source": [
    "## Models output path"
   ]
  },
  {
   "cell_type": "code",
   "execution_count": null,
   "metadata": {},
   "outputs": [],
   "source": [
    "save_path = \"./sisa_updated_models\""
   ]
  },
  {
   "cell_type": "markdown",
   "metadata": {},
   "source": [
    "## Retrain the affected shards"
   ]
  },
  {
   "cell_type": "code",
   "execution_count": 18,
   "metadata": {},
   "outputs": [
    {
     "name": "stdout",
     "output_type": "stream",
     "text": [
      "Retraining shard: shard_0\n",
      "Init model...\n",
      "Done initializing model.\n",
      "Model ID: 2323440634480, Optimizer ID: 2323519271568, Criterion ID: 2323519272000\n",
      "  Retraining slice: slice_0\n"
     ]
    },
    {
     "name": "stderr",
     "output_type": "stream",
     "text": [
      "Training Epoch 1/5: 100%|██████████| 102/102 [00:03<00:00, 29.23it/s]\n",
      "Evaluating on validation set...): 100%|██████████| 12/12 [00:00<00:00, 36.97it/s]\n"
     ]
    },
    {
     "name": "stdout",
     "output_type": "stream",
     "text": [
      "Epoch [1/5], Train Loss: 0.8494, Train Accuracy: 0.7392, Val Loss: 0.3068, Val Accuracy: 0.9086\n",
      "Epoch 1: New best validation accuracy: 0.9086. Model saved to ./sisa_updated_models/shard_0_slice_0_CNN_MNIST_model.pth.\n"
     ]
    },
    {
     "name": "stderr",
     "output_type": "stream",
     "text": [
      "Training Epoch 2/5: 100%|██████████| 102/102 [00:03<00:00, 29.34it/s]\n",
      "Evaluating on validation set...): 100%|██████████| 12/12 [00:00<00:00, 59.11it/s]\n"
     ]
    },
    {
     "name": "stdout",
     "output_type": "stream",
     "text": [
      "Epoch [2/5], Train Loss: 0.2160, Train Accuracy: 0.9385, Val Loss: 0.1578, Val Accuracy: 0.9640\n",
      "Epoch 2: New best validation accuracy: 0.9640. Model saved to ./sisa_updated_models/shard_0_slice_0_CNN_MNIST_model.pth.\n"
     ]
    },
    {
     "name": "stderr",
     "output_type": "stream",
     "text": [
      "Training Epoch 3/5: 100%|██████████| 102/102 [00:03<00:00, 28.37it/s]\n",
      "Evaluating on validation set...): 100%|██████████| 12/12 [00:00<00:00, 61.22it/s]\n"
     ]
    },
    {
     "name": "stdout",
     "output_type": "stream",
     "text": [
      "Epoch [3/5], Train Loss: 0.1220, Train Accuracy: 0.9637, Val Loss: 0.1498, Val Accuracy: 0.9557\n"
     ]
    },
    {
     "name": "stderr",
     "output_type": "stream",
     "text": [
      "Training Epoch 4/5: 100%|██████████| 102/102 [00:03<00:00, 27.96it/s]\n",
      "Evaluating on validation set...): 100%|██████████| 12/12 [00:00<00:00, 62.00it/s]\n"
     ]
    },
    {
     "name": "stdout",
     "output_type": "stream",
     "text": [
      "Epoch [4/5], Train Loss: 0.0748, Train Accuracy: 0.9785, Val Loss: 0.1579, Val Accuracy: 0.9529\n"
     ]
    },
    {
     "name": "stderr",
     "output_type": "stream",
     "text": [
      "Training Epoch 5/5: 100%|██████████| 102/102 [00:03<00:00, 28.43it/s]\n",
      "Evaluating on validation set...): 100%|██████████| 12/12 [00:00<00:00, 53.78it/s]\n"
     ]
    },
    {
     "name": "stdout",
     "output_type": "stream",
     "text": [
      "Epoch [5/5], Train Loss: 0.0484, Train Accuracy: 0.9862, Val Loss: 0.1334, Val Accuracy: 0.9668\n",
      "Epoch 5: New best validation accuracy: 0.9668. Model saved to ./sisa_updated_models/shard_0_slice_0_CNN_MNIST_model.pth.\n",
      "Training complete for ./sisa_updated_models/shard_0_slice_0_CNN_MNIST. Training stats saved to './sisa_updated_models/shard_0_slice_0_CNN_MNIST_history.json'.\n",
      "  Retraining slice: slice_1\n"
     ]
    },
    {
     "name": "stderr",
     "output_type": "stream",
     "text": [
      "Training Epoch 1/5: 100%|██████████| 102/102 [00:03<00:00, 26.92it/s]\n",
      "Evaluating on validation set...): 100%|██████████| 12/12 [00:00<00:00, 59.41it/s]\n"
     ]
    },
    {
     "name": "stdout",
     "output_type": "stream",
     "text": [
      "Epoch [1/5], Train Loss: 0.1247, Train Accuracy: 0.9609, Val Loss: 0.1070, Val Accuracy: 0.9639\n",
      "Epoch 1: New best validation accuracy: 0.9639. Model saved to ./sisa_updated_models/shard_0_slice_1_CNN_MNIST_model.pth.\n"
     ]
    },
    {
     "name": "stderr",
     "output_type": "stream",
     "text": [
      "Training Epoch 2/5: 100%|██████████| 102/102 [00:03<00:00, 28.09it/s]\n",
      "Evaluating on validation set...): 100%|██████████| 12/12 [00:00<00:00, 66.30it/s]\n"
     ]
    },
    {
     "name": "stdout",
     "output_type": "stream",
     "text": [
      "Epoch [2/5], Train Loss: 0.0603, Train Accuracy: 0.9806, Val Loss: 0.0709, Val Accuracy: 0.9722\n",
      "Epoch 2: New best validation accuracy: 0.9722. Model saved to ./sisa_updated_models/shard_0_slice_1_CNN_MNIST_model.pth.\n"
     ]
    },
    {
     "name": "stderr",
     "output_type": "stream",
     "text": [
      "Training Epoch 3/5: 100%|██████████| 102/102 [00:03<00:00, 30.13it/s]\n",
      "Evaluating on validation set...): 100%|██████████| 12/12 [00:00<00:00, 61.46it/s]\n"
     ]
    },
    {
     "name": "stdout",
     "output_type": "stream",
     "text": [
      "Epoch [3/5], Train Loss: 0.0374, Train Accuracy: 0.9895, Val Loss: 0.1030, Val Accuracy: 0.9639\n"
     ]
    },
    {
     "name": "stderr",
     "output_type": "stream",
     "text": [
      "Training Epoch 4/5: 100%|██████████| 102/102 [00:03<00:00, 29.52it/s]\n",
      "Evaluating on validation set...): 100%|██████████| 12/12 [00:00<00:00, 57.69it/s]\n"
     ]
    },
    {
     "name": "stdout",
     "output_type": "stream",
     "text": [
      "Epoch [4/5], Train Loss: 0.0274, Train Accuracy: 0.9914, Val Loss: 0.0900, Val Accuracy: 0.9778\n",
      "Epoch 4: New best validation accuracy: 0.9778. Model saved to ./sisa_updated_models/shard_0_slice_1_CNN_MNIST_model.pth.\n"
     ]
    },
    {
     "name": "stderr",
     "output_type": "stream",
     "text": [
      "Training Epoch 5/5: 100%|██████████| 102/102 [00:03<00:00, 25.93it/s]\n",
      "Evaluating on validation set...): 100%|██████████| 12/12 [00:00<00:00, 52.56it/s]\n"
     ]
    },
    {
     "name": "stdout",
     "output_type": "stream",
     "text": [
      "Epoch [5/5], Train Loss: 0.0152, Train Accuracy: 0.9954, Val Loss: 0.0931, Val Accuracy: 0.9778\n",
      "Training complete for ./sisa_updated_models/shard_0_slice_1_CNN_MNIST. Training stats saved to './sisa_updated_models/shard_0_slice_1_CNN_MNIST_history.json'.\n",
      "  Retraining slice: slice_2\n"
     ]
    },
    {
     "name": "stderr",
     "output_type": "stream",
     "text": [
      "Training Epoch 1/5: 100%|██████████| 101/101 [00:04<00:00, 25.05it/s]\n",
      "Evaluating on validation set...): 100%|██████████| 12/12 [00:00<00:00, 61.86it/s]\n"
     ]
    },
    {
     "name": "stdout",
     "output_type": "stream",
     "text": [
      "Epoch [1/5], Train Loss: 0.1079, Train Accuracy: 0.9672, Val Loss: 0.1354, Val Accuracy: 0.9690\n",
      "Epoch 1: New best validation accuracy: 0.9690. Model saved to ./sisa_updated_models/shard_0_slice_2_CNN_MNIST_model.pth.\n"
     ]
    },
    {
     "name": "stderr",
     "output_type": "stream",
     "text": [
      "Training Epoch 2/5: 100%|██████████| 101/101 [00:03<00:00, 29.55it/s]\n",
      "Evaluating on validation set...): 100%|██████████| 12/12 [00:00<00:00, 56.34it/s]\n"
     ]
    },
    {
     "name": "stdout",
     "output_type": "stream",
     "text": [
      "Epoch [2/5], Train Loss: 0.0490, Train Accuracy: 0.9844, Val Loss: 0.1035, Val Accuracy: 0.9634\n"
     ]
    },
    {
     "name": "stderr",
     "output_type": "stream",
     "text": [
      "Training Epoch 3/5: 100%|██████████| 101/101 [00:04<00:00, 24.97it/s]\n",
      "Evaluating on validation set...): 100%|██████████| 12/12 [00:00<00:00, 52.85it/s]\n"
     ]
    },
    {
     "name": "stdout",
     "output_type": "stream",
     "text": [
      "Epoch [3/5], Train Loss: 0.0240, Train Accuracy: 0.9934, Val Loss: 0.1216, Val Accuracy: 0.9662\n"
     ]
    },
    {
     "name": "stderr",
     "output_type": "stream",
     "text": [
      "Training Epoch 4/5: 100%|██████████| 101/101 [00:03<00:00, 26.92it/s]\n",
      "Evaluating on validation set...): 100%|██████████| 12/12 [00:00<00:00, 50.32it/s]\n"
     ]
    },
    {
     "name": "stdout",
     "output_type": "stream",
     "text": [
      "Epoch [4/5], Train Loss: 0.0104, Train Accuracy: 0.9972, Val Loss: 0.1099, Val Accuracy: 0.9718\n",
      "Epoch 4: New best validation accuracy: 0.9718. Model saved to ./sisa_updated_models/shard_0_slice_2_CNN_MNIST_model.pth.\n"
     ]
    },
    {
     "name": "stderr",
     "output_type": "stream",
     "text": [
      "Training Epoch 5/5: 100%|██████████| 101/101 [00:03<00:00, 27.17it/s]\n",
      "Evaluating on validation set...): 100%|██████████| 12/12 [00:00<00:00, 63.16it/s]\n"
     ]
    },
    {
     "name": "stdout",
     "output_type": "stream",
     "text": [
      "Epoch [5/5], Train Loss: 0.0036, Train Accuracy: 0.9997, Val Loss: 0.1335, Val Accuracy: 0.9662\n",
      "Training complete for ./sisa_updated_models/shard_0_slice_2_CNN_MNIST. Training stats saved to './sisa_updated_models/shard_0_slice_2_CNN_MNIST_history.json'.\n",
      "  Retraining slice: slice_3\n"
     ]
    },
    {
     "name": "stderr",
     "output_type": "stream",
     "text": [
      "Training Epoch 1/5: 100%|██████████| 102/102 [00:03<00:00, 26.91it/s]\n",
      "Evaluating on validation set...): 100%|██████████| 12/12 [00:00<00:00, 38.71it/s]\n"
     ]
    },
    {
     "name": "stdout",
     "output_type": "stream",
     "text": [
      "Epoch [1/5], Train Loss: 0.0759, Train Accuracy: 0.9761, Val Loss: 0.0783, Val Accuracy: 0.9751\n",
      "Epoch 1: New best validation accuracy: 0.9751. Model saved to ./sisa_updated_models/shard_0_slice_3_CNN_MNIST_model.pth.\n"
     ]
    },
    {
     "name": "stderr",
     "output_type": "stream",
     "text": [
      "Training Epoch 2/5: 100%|██████████| 102/102 [00:04<00:00, 25.36it/s]\n",
      "Evaluating on validation set...): 100%|██████████| 12/12 [00:00<00:00, 48.19it/s]\n"
     ]
    },
    {
     "name": "stdout",
     "output_type": "stream",
     "text": [
      "Epoch [2/5], Train Loss: 0.0426, Train Accuracy: 0.9840, Val Loss: 0.0618, Val Accuracy: 0.9779\n",
      "Epoch 2: New best validation accuracy: 0.9779. Model saved to ./sisa_updated_models/shard_0_slice_3_CNN_MNIST_model.pth.\n"
     ]
    },
    {
     "name": "stderr",
     "output_type": "stream",
     "text": [
      "Training Epoch 3/5: 100%|██████████| 102/102 [00:04<00:00, 23.87it/s]\n",
      "Evaluating on validation set...): 100%|██████████| 12/12 [00:00<00:00, 52.14it/s]\n"
     ]
    },
    {
     "name": "stdout",
     "output_type": "stream",
     "text": [
      "Epoch [3/5], Train Loss: 0.0119, Train Accuracy: 0.9972, Val Loss: 0.0435, Val Accuracy: 0.9834\n",
      "Epoch 3: New best validation accuracy: 0.9834. Model saved to ./sisa_updated_models/shard_0_slice_3_CNN_MNIST_model.pth.\n"
     ]
    },
    {
     "name": "stderr",
     "output_type": "stream",
     "text": [
      "Training Epoch 4/5: 100%|██████████| 102/102 [00:04<00:00, 23.91it/s]\n",
      "Evaluating on validation set...): 100%|██████████| 12/12 [00:00<00:00, 52.40it/s]\n"
     ]
    },
    {
     "name": "stdout",
     "output_type": "stream",
     "text": [
      "Epoch [4/5], Train Loss: 0.0066, Train Accuracy: 0.9988, Val Loss: 0.0297, Val Accuracy: 0.9862\n",
      "Epoch 4: New best validation accuracy: 0.9862. Model saved to ./sisa_updated_models/shard_0_slice_3_CNN_MNIST_model.pth.\n"
     ]
    },
    {
     "name": "stderr",
     "output_type": "stream",
     "text": [
      "Training Epoch 5/5: 100%|██████████| 102/102 [00:03<00:00, 25.76it/s]\n",
      "Evaluating on validation set...): 100%|██████████| 12/12 [00:00<00:00, 63.16it/s]\n"
     ]
    },
    {
     "name": "stdout",
     "output_type": "stream",
     "text": [
      "Epoch [5/5], Train Loss: 0.0014, Train Accuracy: 1.0000, Val Loss: 0.0306, Val Accuracy: 0.9890\n",
      "Epoch 5: New best validation accuracy: 0.9890. Model saved to ./sisa_updated_models/shard_0_slice_3_CNN_MNIST_model.pth.\n",
      "Training complete for ./sisa_updated_models/shard_0_slice_3_CNN_MNIST. Training stats saved to './sisa_updated_models/shard_0_slice_3_CNN_MNIST_history.json'.\n",
      "  Retraining slice: slice_4\n"
     ]
    },
    {
     "name": "stderr",
     "output_type": "stream",
     "text": [
      "Training Epoch 1/5: 100%|██████████| 102/102 [00:03<00:00, 26.20it/s]\n",
      "Evaluating on validation set...): 100%|██████████| 12/12 [00:00<00:00, 57.41it/s]\n"
     ]
    },
    {
     "name": "stdout",
     "output_type": "stream",
     "text": [
      "Epoch [1/5], Train Loss: 0.0791, Train Accuracy: 0.9770, Val Loss: 0.1182, Val Accuracy: 0.9558\n",
      "Epoch 1: New best validation accuracy: 0.9558. Model saved to ./sisa_updated_models/shard_0_slice_4_CNN_MNIST_model.pth.\n"
     ]
    },
    {
     "name": "stderr",
     "output_type": "stream",
     "text": [
      "Training Epoch 2/5: 100%|██████████| 102/102 [00:03<00:00, 28.16it/s]\n",
      "Evaluating on validation set...): 100%|██████████| 12/12 [00:00<00:00, 51.85it/s]\n"
     ]
    },
    {
     "name": "stdout",
     "output_type": "stream",
     "text": [
      "Epoch [2/5], Train Loss: 0.0341, Train Accuracy: 0.9890, Val Loss: 0.0860, Val Accuracy: 0.9751\n",
      "Epoch 2: New best validation accuracy: 0.9751. Model saved to ./sisa_updated_models/shard_0_slice_4_CNN_MNIST_model.pth.\n"
     ]
    },
    {
     "name": "stderr",
     "output_type": "stream",
     "text": [
      "Training Epoch 3/5: 100%|██████████| 102/102 [00:03<00:00, 27.29it/s]\n",
      "Evaluating on validation set...): 100%|██████████| 12/12 [00:00<00:00, 55.42it/s]\n"
     ]
    },
    {
     "name": "stdout",
     "output_type": "stream",
     "text": [
      "Epoch [3/5], Train Loss: 0.0136, Train Accuracy: 0.9963, Val Loss: 0.1096, Val Accuracy: 0.9779\n",
      "Epoch 3: New best validation accuracy: 0.9779. Model saved to ./sisa_updated_models/shard_0_slice_4_CNN_MNIST_model.pth.\n"
     ]
    },
    {
     "name": "stderr",
     "output_type": "stream",
     "text": [
      "Training Epoch 4/5: 100%|██████████| 102/102 [00:03<00:00, 25.79it/s]\n",
      "Evaluating on validation set...): 100%|██████████| 12/12 [00:00<00:00, 54.30it/s]\n"
     ]
    },
    {
     "name": "stdout",
     "output_type": "stream",
     "text": [
      "Epoch [4/5], Train Loss: 0.0042, Train Accuracy: 0.9997, Val Loss: 0.1057, Val Accuracy: 0.9779\n"
     ]
    },
    {
     "name": "stderr",
     "output_type": "stream",
     "text": [
      "Training Epoch 5/5: 100%|██████████| 102/102 [00:03<00:00, 25.97it/s]\n",
      "Evaluating on validation set...): 100%|██████████| 12/12 [00:00<00:00, 54.05it/s]\n"
     ]
    },
    {
     "name": "stdout",
     "output_type": "stream",
     "text": [
      "Epoch [5/5], Train Loss: 0.0099, Train Accuracy: 0.9972, Val Loss: 0.1262, Val Accuracy: 0.9724\n",
      "Training complete for ./sisa_updated_models/shard_0_slice_4_CNN_MNIST. Training stats saved to './sisa_updated_models/shard_0_slice_4_CNN_MNIST_history.json'.\n",
      "Saved updated model for shard_0 to ./sisa_updated_models/shard_0_final_model.pth\n",
      "Retraining shard: shard_1\n",
      "Init model...\n",
      "Done initializing model.\n",
      "Model ID: 2323525085344, Optimizer ID: 2323520103216, Criterion ID: 2323520101296\n",
      "  Retraining slice: slice_0\n"
     ]
    },
    {
     "name": "stderr",
     "output_type": "stream",
     "text": [
      "Training Epoch 1/5: 100%|██████████| 101/101 [00:04<00:00, 22.78it/s]\n",
      "Evaluating on validation set...): 100%|██████████| 12/12 [00:00<00:00, 51.28it/s]\n"
     ]
    },
    {
     "name": "stdout",
     "output_type": "stream",
     "text": [
      "Epoch [1/5], Train Loss: 0.8678, Train Accuracy: 0.7319, Val Loss: 0.2808, Val Accuracy: 0.9270\n",
      "Epoch 1: New best validation accuracy: 0.9270. Model saved to ./sisa_updated_models/shard_1_slice_0_CNN_MNIST_model.pth.\n"
     ]
    },
    {
     "name": "stderr",
     "output_type": "stream",
     "text": [
      "Training Epoch 2/5: 100%|██████████| 101/101 [00:03<00:00, 27.82it/s]\n",
      "Evaluating on validation set...): 100%|██████████| 12/12 [00:00<00:00, 57.97it/s]\n"
     ]
    },
    {
     "name": "stdout",
     "output_type": "stream",
     "text": [
      "Epoch [2/5], Train Loss: 0.2259, Train Accuracy: 0.9309, Val Loss: 0.1524, Val Accuracy: 0.9579\n",
      "Epoch 2: New best validation accuracy: 0.9579. Model saved to ./sisa_updated_models/shard_1_slice_0_CNN_MNIST_model.pth.\n"
     ]
    },
    {
     "name": "stderr",
     "output_type": "stream",
     "text": [
      "Training Epoch 3/5: 100%|██████████| 101/101 [00:03<00:00, 27.14it/s]\n",
      "Evaluating on validation set...): 100%|██████████| 12/12 [00:00<00:00, 61.22it/s]\n"
     ]
    },
    {
     "name": "stdout",
     "output_type": "stream",
     "text": [
      "Epoch [3/5], Train Loss: 0.1293, Train Accuracy: 0.9611, Val Loss: 0.1231, Val Accuracy: 0.9551\n"
     ]
    },
    {
     "name": "stderr",
     "output_type": "stream",
     "text": [
      "Training Epoch 4/5: 100%|██████████| 101/101 [00:03<00:00, 27.20it/s]\n",
      "Evaluating on validation set...): 100%|██████████| 12/12 [00:00<00:00, 54.03it/s]\n"
     ]
    },
    {
     "name": "stdout",
     "output_type": "stream",
     "text": [
      "Epoch [4/5], Train Loss: 0.0992, Train Accuracy: 0.9701, Val Loss: 0.1146, Val Accuracy: 0.9663\n",
      "Epoch 4: New best validation accuracy: 0.9663. Model saved to ./sisa_updated_models/shard_1_slice_0_CNN_MNIST_model.pth.\n"
     ]
    },
    {
     "name": "stderr",
     "output_type": "stream",
     "text": [
      "Training Epoch 5/5: 100%|██████████| 101/101 [00:04<00:00, 24.04it/s]\n",
      "Evaluating on validation set...): 100%|██████████| 12/12 [00:00<00:00, 46.09it/s]\n"
     ]
    },
    {
     "name": "stdout",
     "output_type": "stream",
     "text": [
      "Epoch [5/5], Train Loss: 0.0677, Train Accuracy: 0.9807, Val Loss: 0.0984, Val Accuracy: 0.9719\n",
      "Epoch 5: New best validation accuracy: 0.9719. Model saved to ./sisa_updated_models/shard_1_slice_0_CNN_MNIST_model.pth.\n",
      "Training complete for ./sisa_updated_models/shard_1_slice_0_CNN_MNIST. Training stats saved to './sisa_updated_models/shard_1_slice_0_CNN_MNIST_history.json'.\n",
      "  Retraining slice: slice_1\n"
     ]
    },
    {
     "name": "stderr",
     "output_type": "stream",
     "text": [
      "Training Epoch 1/5: 100%|██████████| 102/102 [00:03<00:00, 26.23it/s]\n",
      "Evaluating on validation set...): 100%|██████████| 12/12 [00:00<00:00, 57.97it/s]\n"
     ]
    },
    {
     "name": "stdout",
     "output_type": "stream",
     "text": [
      "Epoch [1/5], Train Loss: 0.1167, Train Accuracy: 0.9639, Val Loss: 0.1684, Val Accuracy: 0.9528\n",
      "Epoch 1: New best validation accuracy: 0.9528. Model saved to ./sisa_updated_models/shard_1_slice_1_CNN_MNIST_model.pth.\n"
     ]
    },
    {
     "name": "stderr",
     "output_type": "stream",
     "text": [
      "Training Epoch 2/5: 100%|██████████| 102/102 [00:04<00:00, 25.08it/s]\n",
      "Evaluating on validation set...): 100%|██████████| 12/12 [00:00<00:00, 54.50it/s]\n"
     ]
    },
    {
     "name": "stdout",
     "output_type": "stream",
     "text": [
      "Epoch [2/5], Train Loss: 0.0787, Train Accuracy: 0.9732, Val Loss: 0.1375, Val Accuracy: 0.9583\n",
      "Epoch 2: New best validation accuracy: 0.9583. Model saved to ./sisa_updated_models/shard_1_slice_1_CNN_MNIST_model.pth.\n"
     ]
    },
    {
     "name": "stderr",
     "output_type": "stream",
     "text": [
      "Training Epoch 3/5: 100%|██████████| 102/102 [00:03<00:00, 26.81it/s]\n",
      "Evaluating on validation set...): 100%|██████████| 12/12 [00:00<00:00, 62.50it/s]\n"
     ]
    },
    {
     "name": "stdout",
     "output_type": "stream",
     "text": [
      "Epoch [3/5], Train Loss: 0.0394, Train Accuracy: 0.9874, Val Loss: 0.0978, Val Accuracy: 0.9639\n",
      "Epoch 3: New best validation accuracy: 0.9639. Model saved to ./sisa_updated_models/shard_1_slice_1_CNN_MNIST_model.pth.\n"
     ]
    },
    {
     "name": "stderr",
     "output_type": "stream",
     "text": [
      "Training Epoch 4/5: 100%|██████████| 102/102 [00:03<00:00, 25.75it/s]\n",
      "Evaluating on validation set...): 100%|██████████| 12/12 [00:00<00:00, 48.19it/s]\n"
     ]
    },
    {
     "name": "stdout",
     "output_type": "stream",
     "text": [
      "Epoch [4/5], Train Loss: 0.0189, Train Accuracy: 0.9951, Val Loss: 0.1112, Val Accuracy: 0.9639\n"
     ]
    },
    {
     "name": "stderr",
     "output_type": "stream",
     "text": [
      "Training Epoch 5/5: 100%|██████████| 102/102 [00:04<00:00, 24.66it/s]\n",
      "Evaluating on validation set...): 100%|██████████| 12/12 [00:00<00:00, 54.55it/s]\n"
     ]
    },
    {
     "name": "stdout",
     "output_type": "stream",
     "text": [
      "Epoch [5/5], Train Loss: 0.0111, Train Accuracy: 0.9981, Val Loss: 0.1115, Val Accuracy: 0.9750\n",
      "Epoch 5: New best validation accuracy: 0.9750. Model saved to ./sisa_updated_models/shard_1_slice_1_CNN_MNIST_model.pth.\n",
      "Training complete for ./sisa_updated_models/shard_1_slice_1_CNN_MNIST. Training stats saved to './sisa_updated_models/shard_1_slice_1_CNN_MNIST_history.json'.\n",
      "  Retraining slice: slice_2\n"
     ]
    },
    {
     "name": "stderr",
     "output_type": "stream",
     "text": [
      "Training Epoch 1/5: 100%|██████████| 102/102 [00:03<00:00, 26.97it/s]\n",
      "Evaluating on validation set...): 100%|██████████| 12/12 [00:00<00:00, 60.01it/s]\n"
     ]
    },
    {
     "name": "stdout",
     "output_type": "stream",
     "text": [
      "Epoch [1/5], Train Loss: 0.1041, Train Accuracy: 0.9650, Val Loss: 0.0921, Val Accuracy: 0.9638\n",
      "Epoch 1: New best validation accuracy: 0.9638. Model saved to ./sisa_updated_models/shard_1_slice_2_CNN_MNIST_model.pth.\n"
     ]
    },
    {
     "name": "stderr",
     "output_type": "stream",
     "text": [
      "Training Epoch 2/5: 100%|██████████| 102/102 [00:03<00:00, 28.97it/s]\n",
      "Evaluating on validation set...): 100%|██████████| 12/12 [00:00<00:00, 35.49it/s]\n"
     ]
    },
    {
     "name": "stdout",
     "output_type": "stream",
     "text": [
      "Epoch [2/5], Train Loss: 0.0452, Train Accuracy: 0.9870, Val Loss: 0.0377, Val Accuracy: 0.9861\n",
      "Epoch 2: New best validation accuracy: 0.9861. Model saved to ./sisa_updated_models/shard_1_slice_2_CNN_MNIST_model.pth.\n"
     ]
    },
    {
     "name": "stderr",
     "output_type": "stream",
     "text": [
      "Training Epoch 3/5: 100%|██████████| 102/102 [00:03<00:00, 26.66it/s]\n",
      "Evaluating on validation set...): 100%|██████████| 12/12 [00:00<00:00, 62.50it/s]\n"
     ]
    },
    {
     "name": "stdout",
     "output_type": "stream",
     "text": [
      "Epoch [3/5], Train Loss: 0.0349, Train Accuracy: 0.9901, Val Loss: 0.0396, Val Accuracy: 0.9805\n"
     ]
    },
    {
     "name": "stderr",
     "output_type": "stream",
     "text": [
      "Training Epoch 4/5: 100%|██████████| 102/102 [00:03<00:00, 27.53it/s]\n",
      "Evaluating on validation set...): 100%|██████████| 12/12 [00:00<00:00, 60.00it/s]\n"
     ]
    },
    {
     "name": "stdout",
     "output_type": "stream",
     "text": [
      "Epoch [4/5], Train Loss: 0.0094, Train Accuracy: 0.9981, Val Loss: 0.0376, Val Accuracy: 0.9889\n",
      "Epoch 4: New best validation accuracy: 0.9889. Model saved to ./sisa_updated_models/shard_1_slice_2_CNN_MNIST_model.pth.\n"
     ]
    },
    {
     "name": "stderr",
     "output_type": "stream",
     "text": [
      "Training Epoch 5/5: 100%|██████████| 102/102 [00:03<00:00, 26.80it/s]\n",
      "Evaluating on validation set...): 100%|██████████| 12/12 [00:00<00:00, 52.17it/s]\n"
     ]
    },
    {
     "name": "stdout",
     "output_type": "stream",
     "text": [
      "Epoch [5/5], Train Loss: 0.0090, Train Accuracy: 0.9969, Val Loss: 0.0334, Val Accuracy: 0.9861\n",
      "Training complete for ./sisa_updated_models/shard_1_slice_2_CNN_MNIST. Training stats saved to './sisa_updated_models/shard_1_slice_2_CNN_MNIST_history.json'.\n",
      "  Retraining slice: slice_3\n"
     ]
    },
    {
     "name": "stderr",
     "output_type": "stream",
     "text": [
      "Training Epoch 1/5: 100%|██████████| 102/102 [00:03<00:00, 26.00it/s]\n",
      "Evaluating on validation set...): 100%|██████████| 12/12 [00:00<00:00, 56.87it/s]\n"
     ]
    },
    {
     "name": "stdout",
     "output_type": "stream",
     "text": [
      "Epoch [1/5], Train Loss: 0.0838, Train Accuracy: 0.9736, Val Loss: 0.0756, Val Accuracy: 0.9751\n",
      "Epoch 1: New best validation accuracy: 0.9751. Model saved to ./sisa_updated_models/shard_1_slice_3_CNN_MNIST_model.pth.\n"
     ]
    },
    {
     "name": "stderr",
     "output_type": "stream",
     "text": [
      "Training Epoch 2/5: 100%|██████████| 102/102 [00:04<00:00, 24.44it/s]\n",
      "Evaluating on validation set...): 100%|██████████| 12/12 [00:00<00:00, 55.30it/s]\n"
     ]
    },
    {
     "name": "stdout",
     "output_type": "stream",
     "text": [
      "Epoch [2/5], Train Loss: 0.0355, Train Accuracy: 0.9883, Val Loss: 0.1053, Val Accuracy: 0.9613\n"
     ]
    },
    {
     "name": "stderr",
     "output_type": "stream",
     "text": [
      "Training Epoch 3/5: 100%|██████████| 102/102 [00:03<00:00, 29.62it/s]\n",
      "Evaluating on validation set...): 100%|██████████| 12/12 [00:00<00:00, 56.60it/s]\n"
     ]
    },
    {
     "name": "stdout",
     "output_type": "stream",
     "text": [
      "Epoch [3/5], Train Loss: 0.0123, Train Accuracy: 0.9975, Val Loss: 0.0862, Val Accuracy: 0.9724\n"
     ]
    },
    {
     "name": "stderr",
     "output_type": "stream",
     "text": [
      "Training Epoch 4/5: 100%|██████████| 102/102 [00:04<00:00, 23.09it/s]\n",
      "Evaluating on validation set...): 100%|██████████| 12/12 [00:00<00:00, 36.20it/s]\n"
     ]
    },
    {
     "name": "stdout",
     "output_type": "stream",
     "text": [
      "Epoch [4/5], Train Loss: 0.0053, Train Accuracy: 0.9991, Val Loss: 0.0673, Val Accuracy: 0.9807\n",
      "Epoch 4: New best validation accuracy: 0.9807. Model saved to ./sisa_updated_models/shard_1_slice_3_CNN_MNIST_model.pth.\n"
     ]
    },
    {
     "name": "stderr",
     "output_type": "stream",
     "text": [
      "Training Epoch 5/5: 100%|██████████| 102/102 [00:04<00:00, 21.83it/s]\n",
      "Evaluating on validation set...): 100%|██████████| 12/12 [00:00<00:00, 51.73it/s]\n"
     ]
    },
    {
     "name": "stdout",
     "output_type": "stream",
     "text": [
      "Epoch [5/5], Train Loss: 0.0024, Train Accuracy: 0.9997, Val Loss: 0.0572, Val Accuracy: 0.9807\n",
      "Training complete for ./sisa_updated_models/shard_1_slice_3_CNN_MNIST. Training stats saved to './sisa_updated_models/shard_1_slice_3_CNN_MNIST_history.json'.\n",
      "  Retraining slice: slice_4\n"
     ]
    },
    {
     "name": "stderr",
     "output_type": "stream",
     "text": [
      "Training Epoch 1/5: 100%|██████████| 103/103 [00:03<00:00, 26.89it/s]\n",
      "Evaluating on validation set...): 100%|██████████| 12/12 [00:00<00:00, 52.66it/s]\n"
     ]
    },
    {
     "name": "stdout",
     "output_type": "stream",
     "text": [
      "Epoch [1/5], Train Loss: 0.1127, Train Accuracy: 0.9691, Val Loss: 0.1613, Val Accuracy: 0.9613\n",
      "Epoch 1: New best validation accuracy: 0.9613. Model saved to ./sisa_updated_models/shard_1_slice_4_CNN_MNIST_model.pth.\n"
     ]
    },
    {
     "name": "stderr",
     "output_type": "stream",
     "text": [
      "Training Epoch 2/5: 100%|██████████| 103/103 [00:03<00:00, 28.64it/s]\n",
      "Evaluating on validation set...): 100%|██████████| 12/12 [00:00<00:00, 58.54it/s]\n"
     ]
    },
    {
     "name": "stdout",
     "output_type": "stream",
     "text": [
      "Epoch [2/5], Train Loss: 0.1198, Train Accuracy: 0.9675, Val Loss: 0.0807, Val Accuracy: 0.9669\n",
      "Epoch 2: New best validation accuracy: 0.9669. Model saved to ./sisa_updated_models/shard_1_slice_4_CNN_MNIST_model.pth.\n"
     ]
    },
    {
     "name": "stderr",
     "output_type": "stream",
     "text": [
      "Training Epoch 3/5: 100%|██████████| 103/103 [00:03<00:00, 27.11it/s]\n",
      "Evaluating on validation set...): 100%|██████████| 12/12 [00:00<00:00, 55.05it/s]\n"
     ]
    },
    {
     "name": "stdout",
     "output_type": "stream",
     "text": [
      "Epoch [3/5], Train Loss: 0.0201, Train Accuracy: 0.9942, Val Loss: 0.1148, Val Accuracy: 0.9641\n"
     ]
    },
    {
     "name": "stderr",
     "output_type": "stream",
     "text": [
      "Training Epoch 4/5: 100%|██████████| 103/103 [00:04<00:00, 25.56it/s]\n",
      "Evaluating on validation set...): 100%|██████████| 12/12 [00:00<00:00, 56.08it/s]\n"
     ]
    },
    {
     "name": "stdout",
     "output_type": "stream",
     "text": [
      "Epoch [4/5], Train Loss: 0.0147, Train Accuracy: 0.9957, Val Loss: 0.0922, Val Accuracy: 0.9724\n",
      "Epoch 4: New best validation accuracy: 0.9724. Model saved to ./sisa_updated_models/shard_1_slice_4_CNN_MNIST_model.pth.\n"
     ]
    },
    {
     "name": "stderr",
     "output_type": "stream",
     "text": [
      "Training Epoch 5/5: 100%|██████████| 103/103 [00:03<00:00, 27.80it/s]\n",
      "Evaluating on validation set...): 100%|██████████| 12/12 [00:00<00:00, 59.11it/s]\n"
     ]
    },
    {
     "name": "stdout",
     "output_type": "stream",
     "text": [
      "Epoch [5/5], Train Loss: 0.0041, Train Accuracy: 0.9997, Val Loss: 0.0997, Val Accuracy: 0.9696\n",
      "Training complete for ./sisa_updated_models/shard_1_slice_4_CNN_MNIST. Training stats saved to './sisa_updated_models/shard_1_slice_4_CNN_MNIST_history.json'.\n",
      "Saved updated model for shard_1 to ./sisa_updated_models/shard_1_final_model.pth\n",
      "Retraining shard: shard_2\n",
      "Init model...\n",
      "Done initializing model.\n",
      "Model ID: 2323520235488, Optimizer ID: 2323520231648, Criterion ID: 2323520102256\n",
      "  Retraining slice: slice_0\n"
     ]
    },
    {
     "name": "stderr",
     "output_type": "stream",
     "text": [
      "Training Epoch 1/5: 100%|██████████| 101/101 [00:03<00:00, 27.63it/s]\n",
      "Evaluating on validation set...): 100%|██████████| 12/12 [00:00<00:00, 51.76it/s]\n"
     ]
    },
    {
     "name": "stdout",
     "output_type": "stream",
     "text": [
      "Epoch [1/5], Train Loss: 0.7807, Train Accuracy: 0.7523, Val Loss: 0.3374, Val Accuracy: 0.9048\n",
      "Epoch 1: New best validation accuracy: 0.9048. Model saved to ./sisa_updated_models/shard_2_slice_0_CNN_MNIST_model.pth.\n"
     ]
    },
    {
     "name": "stderr",
     "output_type": "stream",
     "text": [
      "Training Epoch 2/5: 100%|██████████| 101/101 [00:03<00:00, 26.92it/s]\n",
      "Evaluating on validation set...): 100%|██████████| 12/12 [00:00<00:00, 60.60it/s]\n"
     ]
    },
    {
     "name": "stdout",
     "output_type": "stream",
     "text": [
      "Epoch [2/5], Train Loss: 0.1932, Train Accuracy: 0.9440, Val Loss: 0.1658, Val Accuracy: 0.9496\n",
      "Epoch 2: New best validation accuracy: 0.9496. Model saved to ./sisa_updated_models/shard_2_slice_0_CNN_MNIST_model.pth.\n"
     ]
    },
    {
     "name": "stderr",
     "output_type": "stream",
     "text": [
      "Training Epoch 3/5: 100%|██████████| 101/101 [00:03<00:00, 27.09it/s]\n",
      "Evaluating on validation set...): 100%|██████████| 12/12 [00:00<00:00, 57.97it/s]\n"
     ]
    },
    {
     "name": "stdout",
     "output_type": "stream",
     "text": [
      "Epoch [3/5], Train Loss: 0.0976, Train Accuracy: 0.9708, Val Loss: 0.1451, Val Accuracy: 0.9580\n",
      "Epoch 3: New best validation accuracy: 0.9580. Model saved to ./sisa_updated_models/shard_2_slice_0_CNN_MNIST_model.pth.\n"
     ]
    },
    {
     "name": "stderr",
     "output_type": "stream",
     "text": [
      "Training Epoch 4/5: 100%|██████████| 101/101 [00:03<00:00, 27.93it/s]\n",
      "Evaluating on validation set...): 100%|██████████| 12/12 [00:00<00:00, 58.09it/s]\n"
     ]
    },
    {
     "name": "stdout",
     "output_type": "stream",
     "text": [
      "Epoch [4/5], Train Loss: 0.0728, Train Accuracy: 0.9789, Val Loss: 0.1317, Val Accuracy: 0.9608\n",
      "Epoch 4: New best validation accuracy: 0.9608. Model saved to ./sisa_updated_models/shard_2_slice_0_CNN_MNIST_model.pth.\n"
     ]
    },
    {
     "name": "stderr",
     "output_type": "stream",
     "text": [
      "Training Epoch 5/5: 100%|██████████| 101/101 [00:03<00:00, 27.96it/s]\n",
      "Evaluating on validation set...): 100%|██████████| 12/12 [00:00<00:00, 53.37it/s]\n"
     ]
    },
    {
     "name": "stdout",
     "output_type": "stream",
     "text": [
      "Epoch [5/5], Train Loss: 0.0509, Train Accuracy: 0.9860, Val Loss: 0.1225, Val Accuracy: 0.9580\n",
      "Training complete for ./sisa_updated_models/shard_2_slice_0_CNN_MNIST. Training stats saved to './sisa_updated_models/shard_2_slice_0_CNN_MNIST_history.json'.\n",
      "  Retraining slice: slice_1\n"
     ]
    },
    {
     "name": "stderr",
     "output_type": "stream",
     "text": [
      "Training Epoch 1/5: 100%|██████████| 102/102 [00:03<00:00, 26.93it/s]\n",
      "Evaluating on validation set...): 100%|██████████| 12/12 [00:00<00:00, 59.11it/s]\n"
     ]
    },
    {
     "name": "stdout",
     "output_type": "stream",
     "text": [
      "Epoch [1/5], Train Loss: 0.1291, Train Accuracy: 0.9606, Val Loss: 0.0714, Val Accuracy: 0.9722\n",
      "Epoch 1: New best validation accuracy: 0.9722. Model saved to ./sisa_updated_models/shard_2_slice_1_CNN_MNIST_model.pth.\n"
     ]
    },
    {
     "name": "stderr",
     "output_type": "stream",
     "text": [
      "Training Epoch 2/5: 100%|██████████| 102/102 [00:04<00:00, 25.34it/s]\n",
      "Evaluating on validation set...): 100%|██████████| 12/12 [00:00<00:00, 56.87it/s]\n"
     ]
    },
    {
     "name": "stdout",
     "output_type": "stream",
     "text": [
      "Epoch [2/5], Train Loss: 0.0662, Train Accuracy: 0.9803, Val Loss: 0.0997, Val Accuracy: 0.9722\n"
     ]
    },
    {
     "name": "stderr",
     "output_type": "stream",
     "text": [
      "Training Epoch 3/5: 100%|██████████| 102/102 [00:03<00:00, 29.17it/s]\n",
      "Evaluating on validation set...): 100%|██████████| 12/12 [00:00<00:00, 34.99it/s]\n"
     ]
    },
    {
     "name": "stdout",
     "output_type": "stream",
     "text": [
      "Epoch [3/5], Train Loss: 0.0320, Train Accuracy: 0.9908, Val Loss: 0.0760, Val Accuracy: 0.9778\n",
      "Epoch 3: New best validation accuracy: 0.9778. Model saved to ./sisa_updated_models/shard_2_slice_1_CNN_MNIST_model.pth.\n"
     ]
    },
    {
     "name": "stderr",
     "output_type": "stream",
     "text": [
      "Training Epoch 4/5: 100%|██████████| 102/102 [00:03<00:00, 25.68it/s]\n",
      "Evaluating on validation set...): 100%|██████████| 12/12 [00:00<00:00, 56.34it/s]\n"
     ]
    },
    {
     "name": "stdout",
     "output_type": "stream",
     "text": [
      "Epoch [4/5], Train Loss: 0.0163, Train Accuracy: 0.9954, Val Loss: 0.0686, Val Accuracy: 0.9778\n"
     ]
    },
    {
     "name": "stderr",
     "output_type": "stream",
     "text": [
      "Training Epoch 5/5: 100%|██████████| 102/102 [00:03<00:00, 28.56it/s]\n",
      "Evaluating on validation set...): 100%|██████████| 12/12 [00:00<00:00, 47.06it/s]\n"
     ]
    },
    {
     "name": "stdout",
     "output_type": "stream",
     "text": [
      "Epoch [5/5], Train Loss: 0.0092, Train Accuracy: 0.9978, Val Loss: 0.0614, Val Accuracy: 0.9750\n",
      "Training complete for ./sisa_updated_models/shard_2_slice_1_CNN_MNIST. Training stats saved to './sisa_updated_models/shard_2_slice_1_CNN_MNIST_history.json'.\n",
      "  Retraining slice: slice_2\n"
     ]
    },
    {
     "name": "stderr",
     "output_type": "stream",
     "text": [
      "Training Epoch 1/5: 100%|██████████| 102/102 [00:03<00:00, 28.21it/s]\n",
      "Evaluating on validation set...): 100%|██████████| 12/12 [00:00<00:00, 65.93it/s]\n"
     ]
    },
    {
     "name": "stdout",
     "output_type": "stream",
     "text": [
      "Epoch [1/5], Train Loss: 0.0940, Train Accuracy: 0.9688, Val Loss: 0.0885, Val Accuracy: 0.9666\n",
      "Epoch 1: New best validation accuracy: 0.9666. Model saved to ./sisa_updated_models/shard_2_slice_2_CNN_MNIST_model.pth.\n"
     ]
    },
    {
     "name": "stderr",
     "output_type": "stream",
     "text": [
      "Training Epoch 2/5: 100%|██████████| 102/102 [00:03<00:00, 28.88it/s]\n",
      "Evaluating on validation set...): 100%|██████████| 12/12 [00:00<00:00, 46.26it/s]\n"
     ]
    },
    {
     "name": "stdout",
     "output_type": "stream",
     "text": [
      "Epoch [2/5], Train Loss: 0.0396, Train Accuracy: 0.9876, Val Loss: 0.0677, Val Accuracy: 0.9805\n",
      "Epoch 2: New best validation accuracy: 0.9805. Model saved to ./sisa_updated_models/shard_2_slice_2_CNN_MNIST_model.pth.\n"
     ]
    },
    {
     "name": "stderr",
     "output_type": "stream",
     "text": [
      "Training Epoch 3/5: 100%|██████████| 102/102 [00:03<00:00, 27.61it/s]\n",
      "Evaluating on validation set...): 100%|██████████| 12/12 [00:00<00:00, 64.86it/s]\n"
     ]
    },
    {
     "name": "stdout",
     "output_type": "stream",
     "text": [
      "Epoch [3/5], Train Loss: 0.0174, Train Accuracy: 0.9938, Val Loss: 0.0609, Val Accuracy: 0.9805\n"
     ]
    },
    {
     "name": "stderr",
     "output_type": "stream",
     "text": [
      "Training Epoch 4/5: 100%|██████████| 102/102 [00:03<00:00, 28.63it/s]\n",
      "Evaluating on validation set...): 100%|██████████| 12/12 [00:00<00:00, 58.80it/s]\n"
     ]
    },
    {
     "name": "stdout",
     "output_type": "stream",
     "text": [
      "Epoch [4/5], Train Loss: 0.0153, Train Accuracy: 0.9957, Val Loss: 0.0618, Val Accuracy: 0.9777\n"
     ]
    },
    {
     "name": "stderr",
     "output_type": "stream",
     "text": [
      "Training Epoch 5/5: 100%|██████████| 102/102 [00:04<00:00, 24.82it/s]\n",
      "Evaluating on validation set...): 100%|██████████| 12/12 [00:00<00:00, 33.22it/s]\n"
     ]
    },
    {
     "name": "stdout",
     "output_type": "stream",
     "text": [
      "Epoch [5/5], Train Loss: 0.0063, Train Accuracy: 0.9985, Val Loss: 0.0482, Val Accuracy: 0.9833\n",
      "Epoch 5: New best validation accuracy: 0.9833. Model saved to ./sisa_updated_models/shard_2_slice_2_CNN_MNIST_model.pth.\n",
      "Training complete for ./sisa_updated_models/shard_2_slice_2_CNN_MNIST. Training stats saved to './sisa_updated_models/shard_2_slice_2_CNN_MNIST_history.json'.\n",
      "  Retraining slice: slice_3\n"
     ]
    },
    {
     "name": "stderr",
     "output_type": "stream",
     "text": [
      "Training Epoch 1/5: 100%|██████████| 101/101 [00:03<00:00, 26.08it/s]\n",
      "Evaluating on validation set...): 100%|██████████| 12/12 [00:00<00:00, 49.78it/s]\n"
     ]
    },
    {
     "name": "stdout",
     "output_type": "stream",
     "text": [
      "Epoch [1/5], Train Loss: 0.0886, Train Accuracy: 0.9752, Val Loss: 0.1220, Val Accuracy: 0.9721\n",
      "Epoch 1: New best validation accuracy: 0.9721. Model saved to ./sisa_updated_models/shard_2_slice_3_CNN_MNIST_model.pth.\n"
     ]
    },
    {
     "name": "stderr",
     "output_type": "stream",
     "text": [
      "Training Epoch 2/5: 100%|██████████| 101/101 [00:06<00:00, 16.79it/s]\n",
      "Evaluating on validation set...): 100%|██████████| 12/12 [00:00<00:00, 25.92it/s]\n"
     ]
    },
    {
     "name": "stdout",
     "output_type": "stream",
     "text": [
      "Epoch [2/5], Train Loss: 0.0310, Train Accuracy: 0.9913, Val Loss: 0.1181, Val Accuracy: 0.9749\n",
      "Epoch 2: New best validation accuracy: 0.9749. Model saved to ./sisa_updated_models/shard_2_slice_3_CNN_MNIST_model.pth.\n"
     ]
    },
    {
     "name": "stderr",
     "output_type": "stream",
     "text": [
      "Training Epoch 3/5: 100%|██████████| 101/101 [00:06<00:00, 15.27it/s]\n",
      "Evaluating on validation set...): 100%|██████████| 12/12 [00:00<00:00, 33.99it/s]\n"
     ]
    },
    {
     "name": "stdout",
     "output_type": "stream",
     "text": [
      "Epoch [3/5], Train Loss: 0.0102, Train Accuracy: 0.9972, Val Loss: 0.1315, Val Accuracy: 0.9665\n"
     ]
    },
    {
     "name": "stderr",
     "output_type": "stream",
     "text": [
      "Training Epoch 4/5: 100%|██████████| 101/101 [00:05<00:00, 19.56it/s]\n",
      "Evaluating on validation set...): 100%|██████████| 12/12 [00:00<00:00, 40.81it/s]\n"
     ]
    },
    {
     "name": "stdout",
     "output_type": "stream",
     "text": [
      "Epoch [4/5], Train Loss: 0.0053, Train Accuracy: 0.9984, Val Loss: 0.1537, Val Accuracy: 0.9721\n"
     ]
    },
    {
     "name": "stderr",
     "output_type": "stream",
     "text": [
      "Training Epoch 5/5: 100%|██████████| 101/101 [00:04<00:00, 22.49it/s]\n",
      "Evaluating on validation set...): 100%|██████████| 12/12 [00:00<00:00, 40.96it/s]\n"
     ]
    },
    {
     "name": "stdout",
     "output_type": "stream",
     "text": [
      "Epoch [5/5], Train Loss: 0.0041, Train Accuracy: 0.9994, Val Loss: 0.1579, Val Accuracy: 0.9749\n",
      "Training complete for ./sisa_updated_models/shard_2_slice_3_CNN_MNIST. Training stats saved to './sisa_updated_models/shard_2_slice_3_CNN_MNIST_history.json'.\n",
      "  Retraining slice: slice_4\n"
     ]
    },
    {
     "name": "stderr",
     "output_type": "stream",
     "text": [
      "Training Epoch 1/5: 100%|██████████| 102/102 [00:04<00:00, 20.65it/s]\n",
      "Evaluating on validation set...): 100%|██████████| 12/12 [00:00<00:00, 41.91it/s]\n"
     ]
    },
    {
     "name": "stdout",
     "output_type": "stream",
     "text": [
      "Epoch [1/5], Train Loss: 0.0740, Train Accuracy: 0.9797, Val Loss: 0.0678, Val Accuracy: 0.9640\n",
      "Epoch 1: New best validation accuracy: 0.9640. Model saved to ./sisa_updated_models/shard_2_slice_4_CNN_MNIST_model.pth.\n"
     ]
    },
    {
     "name": "stderr",
     "output_type": "stream",
     "text": [
      "Training Epoch 2/5: 100%|██████████| 102/102 [00:05<00:00, 19.52it/s]\n",
      "Evaluating on validation set...): 100%|██████████| 12/12 [00:00<00:00, 39.92it/s]\n"
     ]
    },
    {
     "name": "stdout",
     "output_type": "stream",
     "text": [
      "Epoch [2/5], Train Loss: 0.0250, Train Accuracy: 0.9920, Val Loss: 0.0644, Val Accuracy: 0.9834\n",
      "Epoch 2: New best validation accuracy: 0.9834. Model saved to ./sisa_updated_models/shard_2_slice_4_CNN_MNIST_model.pth.\n"
     ]
    },
    {
     "name": "stderr",
     "output_type": "stream",
     "text": [
      "Training Epoch 3/5: 100%|██████████| 102/102 [00:04<00:00, 23.59it/s]\n",
      "Evaluating on validation set...): 100%|██████████| 12/12 [00:00<00:00, 42.59it/s]\n"
     ]
    },
    {
     "name": "stdout",
     "output_type": "stream",
     "text": [
      "Epoch [3/5], Train Loss: 0.0106, Train Accuracy: 0.9963, Val Loss: 0.0574, Val Accuracy: 0.9778\n"
     ]
    },
    {
     "name": "stderr",
     "output_type": "stream",
     "text": [
      "Training Epoch 4/5: 100%|██████████| 102/102 [00:04<00:00, 24.41it/s]\n",
      "Evaluating on validation set...): 100%|██████████| 12/12 [00:00<00:00, 51.56it/s]\n"
     ]
    },
    {
     "name": "stdout",
     "output_type": "stream",
     "text": [
      "Epoch [4/5], Train Loss: 0.0027, Train Accuracy: 1.0000, Val Loss: 0.0498, Val Accuracy: 0.9806\n"
     ]
    },
    {
     "name": "stderr",
     "output_type": "stream",
     "text": [
      "Training Epoch 5/5: 100%|██████████| 102/102 [00:04<00:00, 24.91it/s]\n",
      "Evaluating on validation set...): 100%|██████████| 12/12 [00:00<00:00, 32.27it/s]"
     ]
    },
    {
     "name": "stdout",
     "output_type": "stream",
     "text": [
      "Epoch [5/5], Train Loss: 0.0007, Train Accuracy: 1.0000, Val Loss: 0.0347, Val Accuracy: 0.9806\n",
      "Training complete for ./sisa_updated_models/shard_2_slice_4_CNN_MNIST. Training stats saved to './sisa_updated_models/shard_2_slice_4_CNN_MNIST_history.json'.\n",
      "Saved updated model for shard_2 to ./sisa_updated_models/shard_2_final_model.pth\n"
     ]
    },
    {
     "name": "stderr",
     "output_type": "stream",
     "text": [
      "\n"
     ]
    }
   ],
   "source": [
    "retrain_sisa_framework(\n",
    "    dataloaders=dataloaders,\n",
    "    affected_shards=affected_shards,\n",
    "    num_epochs=EPOCHS,\n",
    "    save_models_metrics_dir=save_path,\n",
    "    init_model_func=init_model_cnn, \n",
    "    learning_rate=LEARNING_RATE\n",
    ")"
   ]
  },
  {
   "cell_type": "markdown",
   "metadata": {},
   "source": [
    "## Re-test new SISA models"
   ]
  },
  {
   "cell_type": "code",
   "execution_count": 20,
   "metadata": {},
   "outputs": [
    {
     "name": "stdout",
     "output_type": "stream",
     "text": [
      "Init model...\n",
      "Done initializing model.\n",
      "Model ID: 2323499008128, Optimizer ID: 2323520102544, Criterion ID: 2323520104560\n",
      "Loading and testing model: ./sisa_updated_models/shard_0_CNN_MNIST\n"
     ]
    },
    {
     "name": "stderr",
     "output_type": "stream",
     "text": [
      "Evaluating model: ./sisa_updated_models/shard_0_final_model.pth: 100%|██████████| 313/313 [00:05<00:00, 52.50it/s]\n"
     ]
    },
    {
     "name": "stdout",
     "output_type": "stream",
     "text": [
      "Predictions and labels saved to ./sisa_updated_models/shard_0_CNN_MNIST_predictions.json\n",
      "Init model...\n",
      "Done initializing model.\n",
      "Model ID: 2323520238224, Optimizer ID: 2323520100912, Criterion ID: 2323520230160\n",
      "Loading and testing model: ./sisa_updated_models/shard_1_CNN_MNIST\n"
     ]
    },
    {
     "name": "stderr",
     "output_type": "stream",
     "text": [
      "Evaluating model: ./sisa_updated_models/shard_1_final_model.pth: 100%|██████████| 313/313 [00:05<00:00, 56.44it/s]\n"
     ]
    },
    {
     "name": "stdout",
     "output_type": "stream",
     "text": [
      "Predictions and labels saved to ./sisa_updated_models/shard_1_CNN_MNIST_predictions.json\n",
      "Init model...\n",
      "Done initializing model.\n",
      "Model ID: 2323520099616, Optimizer ID: 2323525203920, Criterion ID: 2323525198352\n",
      "Loading and testing model: ./sisa_updated_models/shard_2_CNN_MNIST\n"
     ]
    },
    {
     "name": "stderr",
     "output_type": "stream",
     "text": [
      "Evaluating model: ./sisa_updated_models/shard_2_final_model.pth: 100%|██████████| 313/313 [00:05<00:00, 57.74it/s]"
     ]
    },
    {
     "name": "stdout",
     "output_type": "stream",
     "text": [
      "Predictions and labels saved to ./sisa_updated_models/shard_2_CNN_MNIST_predictions.json\n",
      "Evaluation results saved to sisa_final_evaluation.json\n"
     ]
    },
    {
     "name": "stderr",
     "output_type": "stream",
     "text": [
      "\n"
     ]
    }
   ],
   "source": [
    "sisa_test(\n",
    "    dataloaders=dataloaders, \n",
    "    saved_models_metrics_dir=save_path, \n",
    "    init_model_func=init_model_cnn,\n",
    "    clear_solo_models_preds=True)"
   ]
  },
  {
   "cell_type": "markdown",
   "metadata": {},
   "source": [
    "## Shard models assembly (weighted voting, w=accuracy)"
   ]
  },
  {
   "cell_type": "code",
   "execution_count": 21,
   "metadata": {},
   "outputs": [],
   "source": [
    "with open(\"sisa_final_evaluation.json\", \"r\") as f:\n",
    "    results = json.load(f)"
   ]
  },
  {
   "cell_type": "code",
   "execution_count": 22,
   "metadata": {},
   "outputs": [
    {
     "name": "stdout",
     "output_type": "stream",
     "text": [
      "Shard shard_0 Metrics:\n",
      "  Accuracy: 0.9806\n",
      "  Precision: 0.9808\n",
      "  Recall: 0.9806\n",
      "  F1 Score: 0.9806\n",
      "Shard shard_1 Metrics:\n",
      "  Accuracy: 0.9824\n",
      "  Precision: 0.9825\n",
      "  Recall: 0.9824\n",
      "  F1 Score: 0.9824\n",
      "Shard shard_2 Metrics:\n",
      "  Accuracy: 0.9854\n",
      "  Precision: 0.9854\n",
      "  Recall: 0.9854\n",
      "  F1 Score: 0.9854\n",
      "\n",
      "Aggregated Model Metrics:\n",
      "  Accuracy: 0.9873\n",
      "  Precision: 0.9873\n",
      "  Recall: 0.9873\n",
      "  F1 Score: 0.9873\n"
     ]
    },
    {
     "data": {
      "image/png": "[encoded data removed]",
      "text/plain": [
       "<Figure size 1000x800 with 2 Axes>"
      ]
     },
     "metadata": {},
     "output_type": "display_data"
    }
   ],
   "source": [
    "evaluate_aggregated_model(results)"
   ]
  }
 ],
 "metadata": {
  "kaggle": {
   "accelerator": "none",
   "dataSources": [],
   "dockerImageVersionId": 30786,
   "isGpuEnabled": false,
   "isInternetEnabled": true,
   "language": "python",
   "sourceType": "notebook"
  },
  "kernelspec": {
   "display_name": "master_thesis",
   "language": "python",
   "name": "python3"
  },
  "language_info": {
   "codemirror_mode": {
    "name": "ipython",
    "version": 3
   },
   "file_extension": ".py",
   "mimetype": "text/x-python",
   "name": "python",
   "nbconvert_exporter": "python",
   "pygments_lexer": "ipython3",
   "version": "3.12.6"
  }
 },
 "nbformat": 4,
 "nbformat_minor": 4
}
