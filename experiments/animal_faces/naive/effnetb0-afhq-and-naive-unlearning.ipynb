{
 "cells": [
  {
   "cell_type": "code",
   "execution_count": 1,
   "metadata": {
    "execution": {
     "iopub.execute_input": "2024-12-02T09:40:26.400220Z",
     "iopub.status.busy": "2024-12-02T09:40:26.399338Z",
     "iopub.status.idle": "2024-12-02T09:40:30.000962Z",
     "shell.execute_reply": "2024-12-02T09:40:29.999954Z",
     "shell.execute_reply.started": "2024-12-02T09:40:26.400174Z"
    },
    "trusted": true
   },
   "outputs": [
    {
     "name": "stdout",
     "output_type": "stream",
     "text": [
      "Cloning into 'machine_unlearning_experiments'...\n",
      "remote: Enumerating objects: 143, done.\u001b[K\n",
      "remote: Counting objects: 100% (143/143), done.\u001b[K\n",
      "remote: Compressing objects: 100% (94/94), done.\u001b[K\n",
      "remote: Total 143 (delta 45), reused 117 (delta 32), pack-reused 0 (from 0)\u001b[K\n",
      "Receiving objects: 100% (143/143), 26.48 MiB | 30.60 MiB/s, done.\n",
      "Resolving deltas: 100% (45/45), done.\n",
      "/kaggle/working/machine_unlearning_experiments/experiments/animal_faces/naive\n"
     ]
    }
   ],
   "source": [
    "!git clone https://github.com/Jsrsky/machine_unlearning_experiments\n",
    "%cd machine_unlearning_experiments/experiments/animal_faces/naive"
   ]
  },
  {
   "cell_type": "markdown",
   "metadata": {},
   "source": [
    "## Dependecies"
   ]
  },
  {
   "cell_type": "code",
   "execution_count": 2,
   "metadata": {
    "execution": {
     "iopub.execute_input": "2024-12-02T09:40:30.003056Z",
     "iopub.status.busy": "2024-12-02T09:40:30.002771Z",
     "iopub.status.idle": "2024-12-02T09:40:36.923568Z",
     "shell.execute_reply": "2024-12-02T09:40:36.922661Z",
     "shell.execute_reply.started": "2024-12-02T09:40:30.003029Z"
    },
    "trusted": true
   },
   "outputs": [],
   "source": [
    "import sys\n",
    "from pathlib import Path\n",
    "from torchvision import datasets"
   ]
  },
  {
   "cell_type": "markdown",
   "metadata": {},
   "source": [
    "## Utils"
   ]
  },
  {
   "cell_type": "code",
   "execution_count": 3,
   "metadata": {
    "execution": {
     "iopub.execute_input": "2024-12-02T09:40:36.925096Z",
     "iopub.status.busy": "2024-12-02T09:40:36.924729Z",
     "iopub.status.idle": "2024-12-02T09:40:36.931757Z",
     "shell.execute_reply": "2024-12-02T09:40:36.930924Z",
     "shell.execute_reply.started": "2024-12-02T09:40:36.925069Z"
    },
    "trusted": true
   },
   "outputs": [
    {
     "name": "stdout",
     "output_type": "stream",
     "text": [
      "Notebook setup completed. Project root added to sys.path: /kaggle/working/machine_unlearning_experiments\n"
     ]
    }
   ],
   "source": [
    "project_root = Path.cwd().resolve().parents[2]\n",
    "if str(project_root) not in sys.path:\n",
    "    sys.path.append(str(project_root))\n",
    "    \n",
    "data_root = project_root / 'data'\n",
    "data_root.mkdir(parents=True, exist_ok=True)\n",
    "\n",
    "from notebook_setup import setup_notebook\n",
    "setup_notebook()"
   ]
  },
  {
   "cell_type": "code",
   "execution_count": 4,
   "metadata": {
    "execution": {
     "iopub.execute_input": "2024-12-02T09:40:36.934701Z",
     "iopub.status.busy": "2024-12-02T09:40:36.934135Z",
     "iopub.status.idle": "2024-12-02T09:40:36.942603Z",
     "shell.execute_reply": "2024-12-02T09:40:36.941949Z",
     "shell.execute_reply.started": "2024-12-02T09:40:36.934663Z"
    },
    "trusted": true
   },
   "outputs": [],
   "source": [
    "data_root = Path('/kaggle/input/animal-faces')"
   ]
  },
  {
   "cell_type": "code",
   "execution_count": 5,
   "metadata": {
    "execution": {
     "iopub.execute_input": "2024-12-02T09:40:36.943692Z",
     "iopub.status.busy": "2024-12-02T09:40:36.943393Z",
     "iopub.status.idle": "2024-12-02T09:40:38.338015Z",
     "shell.execute_reply": "2024-12-02T09:40:38.337130Z",
     "shell.execute_reply.started": "2024-12-02T09:40:36.943668Z"
    },
    "trusted": true
   },
   "outputs": [
    {
     "name": "stdout",
     "output_type": "stream",
     "text": [
      "Device used: cuda\n"
     ]
    }
   ],
   "source": [
    "# Device configuration\n",
    "from utils.utils import DEVICE\n",
    "\n",
    "print(f\"Device used: {DEVICE}\")\n",
    "\n",
    "# Set random seed for reproducibility\n",
    "from utils.utils import set_seed\n",
    "set_seed()\n",
    "\n",
    "# Prepare Dataloaders\n",
    "from methods.naive.naive_utils import init_dataloaders\n",
    "\n",
    "# Train loop\n",
    "from utils.train_test_metrics import train_model\n",
    "\n",
    "# Plot losses\n",
    "from utils.train_test_metrics import plot_training_history\n",
    "\n",
    "# Test function\n",
    "from utils.train_test_metrics import test_model\n",
    "\n",
    "# Merics \n",
    "from utils.train_test_metrics import show_metrics\n",
    "\n",
    "# Init model\n",
    "from models.effnetb0 import init_model_effnetb0"
   ]
  },
  {
   "cell_type": "markdown",
   "metadata": {},
   "source": [
    "## Parameters (arbitrary chosen)"
   ]
  },
  {
   "cell_type": "code",
   "execution_count": 6,
   "metadata": {
    "execution": {
     "iopub.execute_input": "2024-12-02T09:40:38.339635Z",
     "iopub.status.busy": "2024-12-02T09:40:38.339103Z",
     "iopub.status.idle": "2024-12-02T09:40:38.343512Z",
     "shell.execute_reply": "2024-12-02T09:40:38.342727Z",
     "shell.execute_reply.started": "2024-12-02T09:40:38.339595Z"
    },
    "trusted": true
   },
   "outputs": [],
   "source": [
    "BATCH_SIZE = 32\n",
    "LEARNING_RATE = 0.01\n",
    "EPOCHS = 5"
   ]
  },
  {
   "cell_type": "markdown",
   "metadata": {},
   "source": [
    "# Simple base training"
   ]
  },
  {
   "cell_type": "markdown",
   "metadata": {},
   "source": [
    "## Init model"
   ]
  },
  {
   "cell_type": "code",
   "execution_count": 7,
   "metadata": {
    "execution": {
     "iopub.execute_input": "2024-12-02T09:40:38.344958Z",
     "iopub.status.busy": "2024-12-02T09:40:38.344647Z",
     "iopub.status.idle": "2024-12-02T09:40:39.205017Z",
     "shell.execute_reply": "2024-12-02T09:40:39.204134Z",
     "shell.execute_reply.started": "2024-12-02T09:40:38.344923Z"
    },
    "trusted": true
   },
   "outputs": [
    {
     "name": "stdout",
     "output_type": "stream",
     "text": [
      "Init model...\n"
     ]
    },
    {
     "name": "stderr",
     "output_type": "stream",
     "text": [
      "Downloading: \"https://download.pytorch.org/models/efficientnet_b0_rwightman-7f5810bc.pth\" to /root/.cache/torch/hub/checkpoints/efficientnet_b0_rwightman-7f5810bc.pth\n",
      "100%|██████████| 20.5M/20.5M [00:00<00:00, 124MB/s] \n"
     ]
    },
    {
     "name": "stdout",
     "output_type": "stream",
     "text": [
      "Done initializing model.\n",
      "Model ID: 134375036937760, Optimizer ID: 134375036937904, Criterion ID: 134375036944336\n"
     ]
    }
   ],
   "source": [
    "model, model_name, criterion, optimizer, transform = init_model_effnetb0(learning_rate=LEARNING_RATE, fc_output=3)"
   ]
  },
  {
   "cell_type": "markdown",
   "metadata": {},
   "source": [
    "## Init dataloaders"
   ]
  },
  {
   "cell_type": "code",
   "execution_count": 8,
   "metadata": {
    "execution": {
     "iopub.execute_input": "2024-12-02T09:40:39.206582Z",
     "iopub.status.busy": "2024-12-02T09:40:39.206189Z",
     "iopub.status.idle": "2024-12-02T09:45:15.092340Z",
     "shell.execute_reply": "2024-12-02T09:45:15.091439Z",
     "shell.execute_reply.started": "2024-12-02T09:40:39.206540Z"
    },
    "trusted": true
   },
   "outputs": [
    {
     "name": "stdout",
     "output_type": "stream",
     "text": [
      "Prepare DataLoaders...\n",
      "Done preparing DataLoaders.\n"
     ]
    }
   ],
   "source": [
    "dataset = datasets.ImageFolder(root=data_root/'afhq/train', transform=transform)\n",
    "test_dataset = datasets.ImageFolder(root=data_root/'afhq/val', transform=transform)\n",
    "data_split_path = 'afhq_data_splits.json'\n",
    "\n",
    "train_loader, val_loader, test_loader, classes = init_dataloaders(\n",
    "    datasets=(dataset, test_dataset),\n",
    "    val_ratio=0.2,\n",
    "    batch_size=BATCH_SIZE\n",
    "    info_file_path = data_split_path,\n",
    "    )"
   ]
  },
  {
   "cell_type": "markdown",
   "metadata": {},
   "source": [
    "## Call train"
   ]
  },
  {
   "cell_type": "code",
   "execution_count": null,
   "metadata": {
    "execution": {
     "iopub.execute_input": "2024-12-02T09:45:15.093889Z",
     "iopub.status.busy": "2024-12-02T09:45:15.093547Z"
    },
    "trusted": true
   },
   "outputs": [
    {
     "name": "stderr",
     "output_type": "stream",
     "text": [
      "Training Epoch 1/10: 100%|██████████| 366/366 [02:27<00:00,  2.48it/s]\n",
      "Evaluating on validation set...: 100%|██████████| 92/92 [00:26<00:00,  3.51it/s]\n"
     ]
    },
    {
     "name": "stdout",
     "output_type": "stream",
     "text": [
      "Epoch [1/10], Train Loss: 0.0647, Train Accuracy: 0.9806, Val Loss: 0.0339, Val Accuracy: 0.9911\n",
      "Epoch 1: New best validation accuracy: 0.9911. Model saved to EffNetB0_AFHQ_model.pth.\n"
     ]
    },
    {
     "name": "stderr",
     "output_type": "stream",
     "text": [
      "Training Epoch 2/10: 100%|██████████| 366/366 [02:26<00:00,  2.49it/s]\n",
      "Evaluating on validation set...: 100%|██████████| 92/92 [00:25<00:00,  3.65it/s]\n"
     ]
    },
    {
     "name": "stdout",
     "output_type": "stream",
     "text": [
      "Epoch [2/10], Train Loss: 0.0292, Train Accuracy: 0.9914, Val Loss: 0.0411, Val Accuracy: 0.9874\n"
     ]
    },
    {
     "name": "stderr",
     "output_type": "stream",
     "text": [
      "Training Epoch 3/10:  44%|████▎     | 160/366 [01:04<01:21,  2.52it/s]"
     ]
    }
   ],
   "source": [
    "train_model(model, model_name, train_loader, val_loader, criterion, optimizer, num_epochs=EPOCHS)"
   ]
  },
  {
   "cell_type": "markdown",
   "metadata": {},
   "source": [
    "## Plot history losses"
   ]
  },
  {
   "cell_type": "code",
   "execution_count": null,
   "metadata": {
    "trusted": true
   },
   "outputs": [],
   "source": [
    "history_path = f'{model_name}_history.json'\n",
    "plot_training_history(history_path)"
   ]
  },
  {
   "cell_type": "markdown",
   "metadata": {},
   "source": [
    "## Call test"
   ]
  },
  {
   "cell_type": "code",
   "execution_count": null,
   "metadata": {
    "trusted": true
   },
   "outputs": [],
   "source": [
    "model_path = f\"{model_name}_model.pth\"\n",
    "test_model(model, model_name, model_path, test_loader)"
   ]
  },
  {
   "cell_type": "markdown",
   "metadata": {},
   "source": [
    "## Show metrics"
   ]
  },
  {
   "cell_type": "code",
   "execution_count": null,
   "metadata": {
    "trusted": true
   },
   "outputs": [],
   "source": [
    "predictions_path = f'{model_name}_predictions.json'\n",
    "#classes = ['cat', 'dog', 'wildlife']\n",
    "show_metrics(predictions_path, classes, model_name)"
   ]
  },
  {
   "cell_type": "markdown",
   "metadata": {},
   "source": [
    "## Utils naive"
   ]
  },
  {
   "cell_type": "code",
   "execution_count": null,
   "metadata": {
    "trusted": true
   },
   "outputs": [],
   "source": [
    "# Select samples to unlearn (10% random)\n",
    "from utils.utils import select_samples_to_unlearn\n",
    "\n",
    "# Update data splits\n",
    "from methods.naive.naive_utils import update_splits_after_unlearning\n",
    "\n",
    "# Recreate Dataloaders from json files\n",
    "from methods.naive.naive_utils import recreate_dataloaders"
   ]
  },
  {
   "cell_type": "markdown",
   "metadata": {},
   "source": [
    "# Naive unlearning"
   ]
  },
  {
   "cell_type": "markdown",
   "metadata": {},
   "source": [
    "### Init new model"
   ]
  },
  {
   "cell_type": "code",
   "execution_count": null,
   "metadata": {
    "trusted": true
   },
   "outputs": [],
   "source": [
    "data_splits_file = \"afhq_data_splits.json\"\n",
    "unlearn_samples_file = \"afhq_samples_to_unlearn.json\"\n",
    "updated_data_splits_path = \"updated_afhq_data_splits.json\""
   ]
  },
  {
   "cell_type": "code",
   "execution_count": null,
   "metadata": {
    "trusted": true
   },
   "outputs": [],
   "source": [
    "model, model_name, criterion, optimizer, transform = init_model_effnetb0(learning_rate=LEARNING_RATE, fc_output=3)\n",
    "model_name = \"naive_unlearning_\" + model_name"
   ]
  },
  {
   "cell_type": "markdown",
   "metadata": {},
   "source": [
    "### Init data"
   ]
  },
  {
   "cell_type": "code",
   "execution_count": null,
   "metadata": {
    "trusted": true
   },
   "outputs": [],
   "source": [
    "dataset = datasets.ImageFolder(root=data_root/'afhq/train', transform=transform)\n",
    "test_dataset = datasets.ImageFolder(root=data_root/'afhq/val', transform=transform)"
   ]
  },
  {
   "cell_type": "markdown",
   "metadata": {},
   "source": [
    "## Select samples to unlearn"
   ]
  },
  {
   "cell_type": "code",
   "execution_count": null,
   "metadata": {
    "trusted": true
   },
   "outputs": [],
   "source": [
    "#ONLY ONCE\n",
    "select_samples_to_unlearn(data_splits_file, unlearn_samples_file, unlearn_ratio=0.1)"
   ]
  },
  {
   "cell_type": "markdown",
   "metadata": {},
   "source": [
    "## Update data splits -> delete samples"
   ]
  },
  {
   "cell_type": "code",
   "execution_count": null,
   "metadata": {
    "trusted": true
   },
   "outputs": [],
   "source": [
    "update_splits_after_unlearning(data_splits_file, unlearn_samples_file, updated_data_splits_path)"
   ]
  },
  {
   "cell_type": "markdown",
   "metadata": {},
   "source": [
    "## Recreate DataLoaders from json files"
   ]
  },
  {
   "cell_type": "code",
   "execution_count": null,
   "metadata": {
    "trusted": true
   },
   "outputs": [],
   "source": [
    "train_loader, val_loader, test_loader, classes = recreate_dataloaders(\n",
    "    data_splits_file=updated_data_splits_path,\n",
    "    dataset=dataset, \n",
    "    batch_size=BATCH_SIZE)"
   ]
  },
  {
   "cell_type": "markdown",
   "metadata": {},
   "source": [
    "## Re-train"
   ]
  },
  {
   "cell_type": "code",
   "execution_count": null,
   "metadata": {
    "trusted": true
   },
   "outputs": [],
   "source": [
    "train_model(model, model_name, train_loader, val_loader, criterion, optimizer, num_epochs=EPOCHS)"
   ]
  },
  {
   "cell_type": "markdown",
   "metadata": {},
   "source": [
    "## Plot history losses"
   ]
  },
  {
   "cell_type": "code",
   "execution_count": null,
   "metadata": {
    "trusted": true
   },
   "outputs": [],
   "source": [
    "history_path = f'{model_name}_history.json'\n",
    "plot_training_history(history_path)"
   ]
  },
  {
   "cell_type": "markdown",
   "metadata": {},
   "source": [
    "## Re-test"
   ]
  },
  {
   "cell_type": "code",
   "execution_count": null,
   "metadata": {
    "trusted": true
   },
   "outputs": [],
   "source": [
    "model_path = f\"{model_name}_model.pth\"\n",
    "test_model(model, model_name, model_path, test_loader)"
   ]
  },
  {
   "cell_type": "markdown",
   "metadata": {},
   "source": [
    "## Show metrics"
   ]
  },
  {
   "cell_type": "code",
   "execution_count": null,
   "metadata": {
    "trusted": true
   },
   "outputs": [],
   "source": [
    "predictions_path = f'{model_name}_predictions.json'\n",
    "#classes = ['cat', 'dog', 'wildlife']\n",
    "show_metrics(predictions_path, classes, model_name)"
   ]
  }
 ],
 "metadata": {
  "kaggle": {
   "accelerator": "nvidiaTeslaT4",
   "dataSources": [
    {
     "datasetId": 667852,
     "sourceId": 1176357,
     "sourceType": "datasetVersion"
    }
   ],
   "dockerImageVersionId": 30787,
   "isGpuEnabled": true,
   "isInternetEnabled": true,
   "language": "python",
   "sourceType": "notebook"
  },
  "kernelspec": {
   "display_name": "master_thesis",
   "language": "python",
   "name": "python3"
  },
  "language_info": {
   "codemirror_mode": {
    "name": "ipython",
    "version": 3
   },
   "file_extension": ".py",
   "mimetype": "text/x-python",
   "name": "python",
   "nbconvert_exporter": "python",
   "pygments_lexer": "ipython3",
   "version": "3.12.6"
  }
 },
 "nbformat": 4,
 "nbformat_minor": 4
}
