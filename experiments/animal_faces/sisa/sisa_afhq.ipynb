{
 "cells": [
  {
   "cell_type": "code",
   "execution_count": 1,
   "metadata": {
    "execution": {
     "iopub.execute_input": "2024-12-02T17:00:56.408532Z",
     "iopub.status.busy": "2024-12-02T17:00:56.408067Z",
     "iopub.status.idle": "2024-12-02T17:01:11.552195Z",
     "shell.execute_reply": "2024-12-02T17:01:11.551255Z",
     "shell.execute_reply.started": "2024-12-02T17:00:56.408492Z"
    },
    "trusted": true
   },
   "outputs": [
    {
     "name": "stdout",
     "output_type": "stream",
     "text": [
      "Cloning into 'machine_unlearning_experiments'...\n",
      "remote: Enumerating objects: 278, done.\u001b[K\n",
      "remote: Counting objects: 100% (72/72), done.\u001b[K\n",
      "remote: Compressing objects: 100% (57/57), done.\u001b[K\n",
      "remote: Total 278 (delta 12), reused 44 (delta 9), pack-reused 206 (from 1)\u001b[K\n",
      "Receiving objects: 100% (278/278), 227.58 MiB | 22.90 MiB/s, done.\n",
      "Resolving deltas: 100% (85/85), done.\n",
      "Updating files: 100% (71/71), done.\n",
      "/kaggle/working/machine_unlearning_experiments/experiments/animal_faces/sisa\n"
     ]
    }
   ],
   "source": [
    "!git clone https://github.com/Jsrsky/machine_unlearning_experiments\n",
    "%cd machine_unlearning_experiments/experiments/animal_faces/sisa"
   ]
  },
  {
   "cell_type": "markdown",
   "metadata": {},
   "source": [
    "## Dependencies"
   ]
  },
  {
   "cell_type": "code",
   "execution_count": 1,
   "metadata": {
    "execution": {
     "iopub.execute_input": "2024-12-02T17:01:11.554119Z",
     "iopub.status.busy": "2024-12-02T17:01:11.553816Z",
     "iopub.status.idle": "2024-12-02T17:01:15.612127Z",
     "shell.execute_reply": "2024-12-02T17:01:15.611194Z",
     "shell.execute_reply.started": "2024-12-02T17:01:11.554091Z"
    },
    "trusted": true
   },
   "outputs": [],
   "source": [
    "import sys\n",
    "import json\n",
    "from pathlib import Path\n",
    "from torchvision import datasets"
   ]
  },
  {
   "cell_type": "markdown",
   "metadata": {},
   "source": [
    "## Utils"
   ]
  },
  {
   "cell_type": "code",
   "execution_count": 2,
   "metadata": {
    "execution": {
     "iopub.execute_input": "2024-12-02T17:01:15.613600Z",
     "iopub.status.busy": "2024-12-02T17:01:15.613274Z",
     "iopub.status.idle": "2024-12-02T17:01:15.620250Z",
     "shell.execute_reply": "2024-12-02T17:01:15.619582Z",
     "shell.execute_reply.started": "2024-12-02T17:01:15.613576Z"
    },
    "trusted": true
   },
   "outputs": [
    {
     "name": "stdout",
     "output_type": "stream",
     "text": [
      "Notebook setup completed. Project root added to sys.path: D:\\Machine_unlearning_masters\n"
     ]
    }
   ],
   "source": [
    "project_root = Path.cwd().resolve().parents[2]\n",
    "if str(project_root) not in sys.path:\n",
    "    sys.path.append(str(project_root))\n",
    "    \n",
    "data_root = project_root / 'data'\n",
    "data_root.mkdir(parents=True, exist_ok=True)\n",
    "\n",
    "from notebook_setup import setup_notebook\n",
    "setup_notebook()"
   ]
  },
  {
   "cell_type": "code",
   "execution_count": 3,
   "metadata": {
    "execution": {
     "iopub.execute_input": "2024-12-02T17:01:15.622228Z",
     "iopub.status.busy": "2024-12-02T17:01:15.621969Z",
     "iopub.status.idle": "2024-12-02T17:01:16.732950Z",
     "shell.execute_reply": "2024-12-02T17:01:16.732209Z",
     "shell.execute_reply.started": "2024-12-02T17:01:15.622205Z"
    },
    "trusted": true
   },
   "outputs": [
    {
     "name": "stdout",
     "output_type": "stream",
     "text": [
      "Device used: cpu\n"
     ]
    }
   ],
   "source": [
    "# Device configuration\n",
    "from utils.utils import DEVICE\n",
    "\n",
    "print(f\"Device used: {DEVICE}\")\n",
    "\n",
    "# Set random seed for reproducibility\n",
    "from utils.utils import set_seed\n",
    "set_seed()\n",
    "\n",
    "# Init model\n",
    "from models.effnetb0 import init_model_effnetb0\n",
    "\n",
    "# Create sisa structure\n",
    "from methods.sisa.sisa_utils import create_sisa_structure\n",
    "\n",
    "# Recreate sisa dataloaders from json file\n",
    "from methods.sisa.sisa_utils import recreate_sisa_dataloaders\n",
    "\n",
    "# SISA train & test loop\n",
    "from methods.sisa.sisa_train_test import sisa_train, sisa_test, retrain_sisa_framework\n",
    "\n",
    "# Aggregate SISA models, via weighted voting\n",
    "from methods.sisa.sisa_utils import evaluate_aggregated_model, update_sisa_structure"
   ]
  },
  {
   "cell_type": "markdown",
   "metadata": {},
   "source": [
    "## Parameters (arbitrary chosen)"
   ]
  },
  {
   "cell_type": "code",
   "execution_count": 4,
   "metadata": {
    "execution": {
     "iopub.execute_input": "2024-12-02T17:01:16.734229Z",
     "iopub.status.busy": "2024-12-02T17:01:16.733878Z",
     "iopub.status.idle": "2024-12-02T17:01:16.738480Z",
     "shell.execute_reply": "2024-12-02T17:01:16.737600Z",
     "shell.execute_reply.started": "2024-12-02T17:01:16.734204Z"
    },
    "trusted": true
   },
   "outputs": [],
   "source": [
    "BATCH_SIZE = 32\n",
    "\n",
    "LEARNING_RATE = 0.001\n",
    "\n",
    "EPOCHS = 5\n",
    "\n",
    "SHARDS = 3\n",
    "\n",
    "SLICES = 5"
   ]
  },
  {
   "cell_type": "markdown",
   "metadata": {},
   "source": [
    "# SISA structure"
   ]
  },
  {
   "cell_type": "markdown",
   "metadata": {},
   "source": [
    "## Get data transform"
   ]
  },
  {
   "cell_type": "code",
   "execution_count": 6,
   "metadata": {
    "execution": {
     "iopub.execute_input": "2024-12-02T17:01:16.739810Z",
     "iopub.status.busy": "2024-12-02T17:01:16.739568Z",
     "iopub.status.idle": "2024-12-02T17:01:17.341612Z",
     "shell.execute_reply": "2024-12-02T17:01:17.340824Z",
     "shell.execute_reply.started": "2024-12-02T17:01:16.739787Z"
    },
    "trusted": true
   },
   "outputs": [
    {
     "name": "stdout",
     "output_type": "stream",
     "text": [
      "Init model...\n"
     ]
    },
    {
     "name": "stderr",
     "output_type": "stream",
     "text": [
      "Downloading: \"https://download.pytorch.org/models/efficientnet_b0_rwightman-7f5810bc.pth\" to /root/.cache/torch/hub/checkpoints/efficientnet_b0_rwightman-7f5810bc.pth\n",
      "100%|██████████| 20.5M/20.5M [00:00<00:00, 171MB/s]\n"
     ]
    },
    {
     "name": "stdout",
     "output_type": "stream",
     "text": [
      "Done initializing model.\n",
      "Model ID: 135575560302176, Optimizer ID: 135575560301792, Criterion ID: 135575560301648\n"
     ]
    }
   ],
   "source": [
    "*_, transform = init_model_effnetb0()\n",
    "# transform = transforms.Compose([transforms.ToTensor(), transforms.Normalize((0.5,), (0.5,))])"
   ]
  },
  {
   "cell_type": "markdown",
   "metadata": {},
   "source": [
    "## Load dataset"
   ]
  },
  {
   "cell_type": "code",
   "execution_count": 7,
   "metadata": {
    "execution": {
     "iopub.execute_input": "2024-12-02T17:01:17.343166Z",
     "iopub.status.busy": "2024-12-02T17:01:17.342860Z",
     "iopub.status.idle": "2024-12-02T17:01:17.347081Z",
     "shell.execute_reply": "2024-12-02T17:01:17.346213Z",
     "shell.execute_reply.started": "2024-12-02T17:01:17.343140Z"
    },
    "trusted": true
   },
   "outputs": [],
   "source": [
    "data_root = Path('/kaggle/input/animal-faces') # Only add if in kaggle env"
   ]
  },
  {
   "cell_type": "code",
   "execution_count": 8,
   "metadata": {
    "execution": {
     "iopub.execute_input": "2024-12-02T17:01:17.348491Z",
     "iopub.status.busy": "2024-12-02T17:01:17.348164Z",
     "iopub.status.idle": "2024-12-02T17:01:30.050802Z",
     "shell.execute_reply": "2024-12-02T17:01:30.050094Z",
     "shell.execute_reply.started": "2024-12-02T17:01:17.348454Z"
    },
    "trusted": true
   },
   "outputs": [],
   "source": [
    "train_dataset = datasets.ImageFolder(root=data_root/'afhq/train', transform=transform)\n",
    "test_dataset = datasets.ImageFolder(root=data_root/'afhq/val', transform=transform)"
   ]
  },
  {
   "cell_type": "markdown",
   "metadata": {},
   "source": [
    "## Create SISA structure"
   ]
  },
  {
   "cell_type": "code",
   "execution_count": 9,
   "metadata": {
    "execution": {
     "iopub.execute_input": "2024-12-02T17:01:30.052402Z",
     "iopub.status.busy": "2024-12-02T17:01:30.052166Z",
     "iopub.status.idle": "2024-12-02T17:03:51.463356Z",
     "shell.execute_reply": "2024-12-02T17:03:51.462412Z",
     "shell.execute_reply.started": "2024-12-02T17:01:30.052380Z"
    },
    "trusted": true
   },
   "outputs": [
    {
     "name": "stdout",
     "output_type": "stream",
     "text": [
      "SISA structure saved to sisa_structure.json\n"
     ]
    }
   ],
   "source": [
    "create_sisa_structure(train_dataset, shards=SHARDS, slices_per_shard=SLICES)"
   ]
  },
  {
   "cell_type": "code",
   "execution_count": 10,
   "metadata": {
    "execution": {
     "iopub.execute_input": "2024-12-02T17:03:51.467273Z",
     "iopub.status.busy": "2024-12-02T17:03:51.466998Z",
     "iopub.status.idle": "2024-12-02T17:03:51.471750Z",
     "shell.execute_reply": "2024-12-02T17:03:51.470920Z",
     "shell.execute_reply.started": "2024-12-02T17:03:51.467248Z"
    },
    "trusted": true
   },
   "outputs": [],
   "source": [
    "sisa_structure_file = 'sisa_structure.json'"
   ]
  },
  {
   "cell_type": "markdown",
   "metadata": {},
   "source": [
    "## Prepare DataLoaders from json file"
   ]
  },
  {
   "cell_type": "code",
   "execution_count": 30,
   "metadata": {
    "execution": {
     "iopub.execute_input": "2024-12-02T17:34:29.513451Z",
     "iopub.status.busy": "2024-12-02T17:34:29.513114Z",
     "iopub.status.idle": "2024-12-02T17:34:29.524451Z",
     "shell.execute_reply": "2024-12-02T17:34:29.523700Z",
     "shell.execute_reply.started": "2024-12-02T17:34:29.513423Z"
    },
    "trusted": true
   },
   "outputs": [],
   "source": [
    "dataloaders, classes = recreate_sisa_dataloaders(\n",
    "    datasets=(train_dataset, test_dataset),\n",
    "    info_file_path=sisa_structure_file,\n",
    "    batch_size=BATCH_SIZE,\n",
    "    val_ratio=0.1\n",
    ")"
   ]
  },
  {
   "cell_type": "markdown",
   "metadata": {},
   "source": [
    "# Train using SISA framework"
   ]
  },
  {
   "cell_type": "markdown",
   "metadata": {},
   "source": [
    "## Models output path"
   ]
  },
  {
   "cell_type": "code",
   "execution_count": 12,
   "metadata": {
    "execution": {
     "iopub.execute_input": "2024-12-02T17:03:51.491157Z",
     "iopub.status.busy": "2024-12-02T17:03:51.490819Z",
     "iopub.status.idle": "2024-12-02T17:03:51.497383Z",
     "shell.execute_reply": "2024-12-02T17:03:51.496626Z",
     "shell.execute_reply.started": "2024-12-02T17:03:51.491119Z"
    },
    "trusted": true
   },
   "outputs": [],
   "source": [
    "save_models_metrics_dir = './sisa_models'"
   ]
  },
  {
   "cell_type": "markdown",
   "metadata": {},
   "source": [
    "## Call train"
   ]
  },
  {
   "cell_type": "code",
   "execution_count": 13,
   "metadata": {
    "execution": {
     "iopub.execute_input": "2024-12-02T17:03:51.498932Z",
     "iopub.status.busy": "2024-12-02T17:03:51.498592Z",
     "iopub.status.idle": "2024-12-02T17:16:01.326621Z",
     "shell.execute_reply": "2024-12-02T17:16:01.325634Z",
     "shell.execute_reply.started": "2024-12-02T17:03:51.498902Z"
    },
    "trusted": true
   },
   "outputs": [
    {
     "name": "stdout",
     "output_type": "stream",
     "text": [
      "Training shard: shard_0\n",
      "Init model...\n",
      "Done initializing model.\n",
      "Model ID: 135575560365600, Optimizer ID: 135575560371792, Criterion ID: 135575560371840\n",
      "  Training slice: slice_0\n"
     ]
    },
    {
     "name": "stderr",
     "output_type": "stream",
     "text": [
      "Training Epoch 1/5: 100%|██████████| 28/28 [00:10<00:00,  2.72it/s]\n",
      "Evaluating on validation set...: 100%|██████████| 4/4 [00:00<00:00,  4.98it/s]\n"
     ]
    },
    {
     "name": "stdout",
     "output_type": "stream",
     "text": [
      "Epoch [1/5], Train Loss: 0.2452, Train Accuracy: 0.9226, Val Loss: 0.0051, Val Accuracy: 1.0000\n",
      "Epoch 1: New best validation accuracy: 1.0000. Model saved to ./sisa_models/shard_0_slice_0_EffNetB0_AFHQ_model.pth.\n"
     ]
    },
    {
     "name": "stderr",
     "output_type": "stream",
     "text": [
      "Training Epoch 2/5: 100%|██████████| 28/28 [00:08<00:00,  3.16it/s]\n",
      "Evaluating on validation set...: 100%|██████████| 4/4 [00:00<00:00,  5.45it/s]\n"
     ]
    },
    {
     "name": "stdout",
     "output_type": "stream",
     "text": [
      "Epoch [2/5], Train Loss: 0.0810, Train Accuracy: 0.9738, Val Loss: 0.0050, Val Accuracy: 1.0000\n"
     ]
    },
    {
     "name": "stderr",
     "output_type": "stream",
     "text": [
      "Training Epoch 3/5: 100%|██████████| 28/28 [00:08<00:00,  3.21it/s]\n",
      "Evaluating on validation set...: 100%|██████████| 4/4 [00:00<00:00,  5.71it/s]\n"
     ]
    },
    {
     "name": "stdout",
     "output_type": "stream",
     "text": [
      "Epoch [3/5], Train Loss: 0.0455, Train Accuracy: 0.9841, Val Loss: 0.0053, Val Accuracy: 1.0000\n"
     ]
    },
    {
     "name": "stderr",
     "output_type": "stream",
     "text": [
      "Training Epoch 4/5: 100%|██████████| 28/28 [00:08<00:00,  3.18it/s]\n",
      "Evaluating on validation set...: 100%|██████████| 4/4 [00:00<00:00,  5.66it/s]\n"
     ]
    },
    {
     "name": "stdout",
     "output_type": "stream",
     "text": [
      "Epoch [4/5], Train Loss: 0.0198, Train Accuracy: 0.9954, Val Loss: 0.0151, Val Accuracy: 0.9897\n"
     ]
    },
    {
     "name": "stderr",
     "output_type": "stream",
     "text": [
      "Training Epoch 5/5: 100%|██████████| 28/28 [00:09<00:00,  2.98it/s]\n",
      "Evaluating on validation set...: 100%|██████████| 4/4 [00:00<00:00,  5.50it/s]\n"
     ]
    },
    {
     "name": "stdout",
     "output_type": "stream",
     "text": [
      "Epoch [5/5], Train Loss: 0.0201, Train Accuracy: 0.9932, Val Loss: 0.0064, Val Accuracy: 1.0000\n",
      "Training complete for ./sisa_models/shard_0_slice_0_EffNetB0_AFHQ. Training stats saved to './sisa_models/shard_0_slice_0_EffNetB0_AFHQ_history.json'.\n",
      "  Training slice: slice_1\n"
     ]
    },
    {
     "name": "stderr",
     "output_type": "stream",
     "text": [
      "Training Epoch 1/5: 100%|██████████| 28/28 [00:08<00:00,  3.16it/s]\n",
      "Evaluating on validation set...: 100%|██████████| 4/4 [00:00<00:00,  5.69it/s]\n"
     ]
    },
    {
     "name": "stdout",
     "output_type": "stream",
     "text": [
      "Epoch [1/5], Train Loss: 0.0332, Train Accuracy: 0.9909, Val Loss: 0.0110, Val Accuracy: 1.0000\n",
      "Epoch 1: New best validation accuracy: 1.0000. Model saved to ./sisa_models/shard_0_slice_1_EffNetB0_AFHQ_model.pth.\n"
     ]
    },
    {
     "name": "stderr",
     "output_type": "stream",
     "text": [
      "Training Epoch 2/5: 100%|██████████| 28/28 [00:09<00:00,  3.11it/s]\n",
      "Evaluating on validation set...: 100%|██████████| 4/4 [00:00<00:00,  4.81it/s]\n"
     ]
    },
    {
     "name": "stdout",
     "output_type": "stream",
     "text": [
      "Epoch [2/5], Train Loss: 0.0485, Train Accuracy: 0.9852, Val Loss: 0.0104, Val Accuracy: 1.0000\n"
     ]
    },
    {
     "name": "stderr",
     "output_type": "stream",
     "text": [
      "Training Epoch 3/5: 100%|██████████| 28/28 [00:09<00:00,  3.08it/s]\n",
      "Evaluating on validation set...: 100%|██████████| 4/4 [00:00<00:00,  5.69it/s]\n"
     ]
    },
    {
     "name": "stdout",
     "output_type": "stream",
     "text": [
      "Epoch [3/5], Train Loss: 0.0563, Train Accuracy: 0.9806, Val Loss: 0.1487, Val Accuracy: 0.9691\n"
     ]
    },
    {
     "name": "stderr",
     "output_type": "stream",
     "text": [
      "Training Epoch 4/5: 100%|██████████| 28/28 [00:08<00:00,  3.24it/s]\n",
      "Evaluating on validation set...: 100%|██████████| 4/4 [00:00<00:00,  5.78it/s]\n"
     ]
    },
    {
     "name": "stdout",
     "output_type": "stream",
     "text": [
      "Epoch [4/5], Train Loss: 0.0562, Train Accuracy: 0.9829, Val Loss: 0.0243, Val Accuracy: 0.9897\n"
     ]
    },
    {
     "name": "stderr",
     "output_type": "stream",
     "text": [
      "Training Epoch 5/5: 100%|██████████| 28/28 [00:08<00:00,  3.13it/s]\n",
      "Evaluating on validation set...: 100%|██████████| 4/4 [00:00<00:00,  5.58it/s]\n"
     ]
    },
    {
     "name": "stdout",
     "output_type": "stream",
     "text": [
      "Epoch [5/5], Train Loss: 0.0181, Train Accuracy: 0.9920, Val Loss: 0.0137, Val Accuracy: 1.0000\n",
      "Training complete for ./sisa_models/shard_0_slice_1_EffNetB0_AFHQ. Training stats saved to './sisa_models/shard_0_slice_1_EffNetB0_AFHQ_history.json'.\n",
      "  Training slice: slice_2\n"
     ]
    },
    {
     "name": "stderr",
     "output_type": "stream",
     "text": [
      "Training Epoch 1/5: 100%|██████████| 28/28 [00:09<00:00,  3.03it/s]\n",
      "Evaluating on validation set...: 100%|██████████| 4/4 [00:00<00:00,  5.60it/s]\n"
     ]
    },
    {
     "name": "stdout",
     "output_type": "stream",
     "text": [
      "Epoch [1/5], Train Loss: 0.0516, Train Accuracy: 0.9841, Val Loss: 0.0269, Val Accuracy: 0.9794\n",
      "Epoch 1: New best validation accuracy: 0.9794. Model saved to ./sisa_models/shard_0_slice_2_EffNetB0_AFHQ_model.pth.\n"
     ]
    },
    {
     "name": "stderr",
     "output_type": "stream",
     "text": [
      "Training Epoch 2/5: 100%|██████████| 28/28 [00:09<00:00,  3.10it/s]\n",
      "Evaluating on validation set...: 100%|██████████| 4/4 [00:00<00:00,  5.55it/s]\n"
     ]
    },
    {
     "name": "stdout",
     "output_type": "stream",
     "text": [
      "Epoch [2/5], Train Loss: 0.0161, Train Accuracy: 0.9943, Val Loss: 0.0391, Val Accuracy: 0.9897\n",
      "Epoch 2: New best validation accuracy: 0.9897. Model saved to ./sisa_models/shard_0_slice_2_EffNetB0_AFHQ_model.pth.\n"
     ]
    },
    {
     "name": "stderr",
     "output_type": "stream",
     "text": [
      "Training Epoch 3/5: 100%|██████████| 28/28 [00:08<00:00,  3.16it/s]\n",
      "Evaluating on validation set...: 100%|██████████| 4/4 [00:00<00:00,  5.69it/s]\n"
     ]
    },
    {
     "name": "stdout",
     "output_type": "stream",
     "text": [
      "Epoch [3/5], Train Loss: 0.0100, Train Accuracy: 0.9966, Val Loss: 0.0126, Val Accuracy: 1.0000\n",
      "Epoch 3: New best validation accuracy: 1.0000. Model saved to ./sisa_models/shard_0_slice_2_EffNetB0_AFHQ_model.pth.\n"
     ]
    },
    {
     "name": "stderr",
     "output_type": "stream",
     "text": [
      "Training Epoch 4/5: 100%|██████████| 28/28 [00:09<00:00,  3.11it/s]\n",
      "Evaluating on validation set...: 100%|██████████| 4/4 [00:00<00:00,  5.10it/s]\n"
     ]
    },
    {
     "name": "stdout",
     "output_type": "stream",
     "text": [
      "Epoch [4/5], Train Loss: 0.0183, Train Accuracy: 0.9909, Val Loss: 0.0044, Val Accuracy: 1.0000\n"
     ]
    },
    {
     "name": "stderr",
     "output_type": "stream",
     "text": [
      "Training Epoch 5/5: 100%|██████████| 28/28 [00:08<00:00,  3.21it/s]\n",
      "Evaluating on validation set...: 100%|██████████| 4/4 [00:00<00:00,  5.74it/s]\n"
     ]
    },
    {
     "name": "stdout",
     "output_type": "stream",
     "text": [
      "Epoch [5/5], Train Loss: 0.0025, Train Accuracy: 1.0000, Val Loss: 0.0029, Val Accuracy: 1.0000\n",
      "Training complete for ./sisa_models/shard_0_slice_2_EffNetB0_AFHQ. Training stats saved to './sisa_models/shard_0_slice_2_EffNetB0_AFHQ_history.json'.\n",
      "  Training slice: slice_3\n"
     ]
    },
    {
     "name": "stderr",
     "output_type": "stream",
     "text": [
      "Training Epoch 1/5: 100%|██████████| 28/28 [00:08<00:00,  3.20it/s]\n",
      "Evaluating on validation set...: 100%|██████████| 4/4 [00:00<00:00,  5.58it/s]\n"
     ]
    },
    {
     "name": "stdout",
     "output_type": "stream",
     "text": [
      "Epoch [1/5], Train Loss: 0.0519, Train Accuracy: 0.9875, Val Loss: 0.0484, Val Accuracy: 0.9794\n",
      "Epoch 1: New best validation accuracy: 0.9794. Model saved to ./sisa_models/shard_0_slice_3_EffNetB0_AFHQ_model.pth.\n"
     ]
    },
    {
     "name": "stderr",
     "output_type": "stream",
     "text": [
      "Training Epoch 2/5: 100%|██████████| 28/28 [00:08<00:00,  3.13it/s]\n",
      "Evaluating on validation set...: 100%|██████████| 4/4 [00:00<00:00,  5.75it/s]\n"
     ]
    },
    {
     "name": "stdout",
     "output_type": "stream",
     "text": [
      "Epoch [2/5], Train Loss: 0.0331, Train Accuracy: 0.9863, Val Loss: 0.0015, Val Accuracy: 1.0000\n",
      "Epoch 2: New best validation accuracy: 1.0000. Model saved to ./sisa_models/shard_0_slice_3_EffNetB0_AFHQ_model.pth.\n"
     ]
    },
    {
     "name": "stderr",
     "output_type": "stream",
     "text": [
      "Training Epoch 3/5: 100%|██████████| 28/28 [00:08<00:00,  3.14it/s]\n",
      "Evaluating on validation set...: 100%|██████████| 4/4 [00:00<00:00,  5.78it/s]\n"
     ]
    },
    {
     "name": "stdout",
     "output_type": "stream",
     "text": [
      "Epoch [3/5], Train Loss: 0.0185, Train Accuracy: 0.9954, Val Loss: 0.0093, Val Accuracy: 1.0000\n"
     ]
    },
    {
     "name": "stderr",
     "output_type": "stream",
     "text": [
      "Training Epoch 4/5: 100%|██████████| 28/28 [00:08<00:00,  3.20it/s]\n",
      "Evaluating on validation set...: 100%|██████████| 4/4 [00:00<00:00,  5.74it/s]\n"
     ]
    },
    {
     "name": "stdout",
     "output_type": "stream",
     "text": [
      "Epoch [4/5], Train Loss: 0.0119, Train Accuracy: 0.9966, Val Loss: 0.0007, Val Accuracy: 1.0000\n"
     ]
    },
    {
     "name": "stderr",
     "output_type": "stream",
     "text": [
      "Training Epoch 5/5: 100%|██████████| 28/28 [00:08<00:00,  3.19it/s]\n",
      "Evaluating on validation set...: 100%|██████████| 4/4 [00:00<00:00,  5.66it/s]\n"
     ]
    },
    {
     "name": "stdout",
     "output_type": "stream",
     "text": [
      "Epoch [5/5], Train Loss: 0.0128, Train Accuracy: 0.9954, Val Loss: 0.0020, Val Accuracy: 1.0000\n",
      "Training complete for ./sisa_models/shard_0_slice_3_EffNetB0_AFHQ. Training stats saved to './sisa_models/shard_0_slice_3_EffNetB0_AFHQ_history.json'.\n",
      "  Training slice: slice_4\n"
     ]
    },
    {
     "name": "stderr",
     "output_type": "stream",
     "text": [
      "Training Epoch 1/5: 100%|██████████| 28/28 [00:09<00:00,  3.05it/s]\n",
      "Evaluating on validation set...: 100%|██████████| 4/4 [00:00<00:00,  5.73it/s]\n"
     ]
    },
    {
     "name": "stdout",
     "output_type": "stream",
     "text": [
      "Epoch [1/5], Train Loss: 0.0402, Train Accuracy: 0.9898, Val Loss: 0.1779, Val Accuracy: 0.9381\n",
      "Epoch 1: New best validation accuracy: 0.9381. Model saved to ./sisa_models/shard_0_slice_4_EffNetB0_AFHQ_model.pth.\n"
     ]
    },
    {
     "name": "stderr",
     "output_type": "stream",
     "text": [
      "Training Epoch 2/5: 100%|██████████| 28/28 [00:08<00:00,  3.22it/s]\n",
      "Evaluating on validation set...: 100%|██████████| 4/4 [00:00<00:00,  5.54it/s]\n"
     ]
    },
    {
     "name": "stdout",
     "output_type": "stream",
     "text": [
      "Epoch [2/5], Train Loss: 0.0194, Train Accuracy: 0.9943, Val Loss: 0.0456, Val Accuracy: 0.9897\n",
      "Epoch 2: New best validation accuracy: 0.9897. Model saved to ./sisa_models/shard_0_slice_4_EffNetB0_AFHQ_model.pth.\n"
     ]
    },
    {
     "name": "stderr",
     "output_type": "stream",
     "text": [
      "Training Epoch 3/5: 100%|██████████| 28/28 [00:08<00:00,  3.20it/s]\n",
      "Evaluating on validation set...: 100%|██████████| 4/4 [00:00<00:00,  5.74it/s]\n"
     ]
    },
    {
     "name": "stdout",
     "output_type": "stream",
     "text": [
      "Epoch [3/5], Train Loss: 0.0252, Train Accuracy: 0.9909, Val Loss: 0.0925, Val Accuracy: 0.9794\n"
     ]
    },
    {
     "name": "stderr",
     "output_type": "stream",
     "text": [
      "Training Epoch 4/5: 100%|██████████| 28/28 [00:09<00:00,  3.08it/s]\n",
      "Evaluating on validation set...: 100%|██████████| 4/4 [00:00<00:00,  5.06it/s]\n"
     ]
    },
    {
     "name": "stdout",
     "output_type": "stream",
     "text": [
      "Epoch [4/5], Train Loss: 0.0064, Train Accuracy: 0.9989, Val Loss: 0.0805, Val Accuracy: 0.9897\n"
     ]
    },
    {
     "name": "stderr",
     "output_type": "stream",
     "text": [
      "Training Epoch 5/5: 100%|██████████| 28/28 [00:08<00:00,  3.20it/s]\n",
      "Evaluating on validation set...: 100%|██████████| 4/4 [00:00<00:00,  5.89it/s]\n"
     ]
    },
    {
     "name": "stdout",
     "output_type": "stream",
     "text": [
      "Epoch [5/5], Train Loss: 0.0026, Train Accuracy: 0.9989, Val Loss: 0.0727, Val Accuracy: 0.9897\n",
      "Training complete for ./sisa_models/shard_0_slice_4_EffNetB0_AFHQ. Training stats saved to './sisa_models/shard_0_slice_4_EffNetB0_AFHQ_history.json'.\n",
      "Saved final shard model to ./sisa_models/shard_0_final_model.pth\n",
      "Training shard: shard_1\n",
      "Init model...\n",
      "Done initializing model.\n",
      "Model ID: 135575473364208, Optimizer ID: 135575560217712, Criterion ID: 135575560218000\n",
      "  Training slice: slice_0\n"
     ]
    },
    {
     "name": "stderr",
     "output_type": "stream",
     "text": [
      "Training Epoch 1/5: 100%|██████████| 28/28 [00:08<00:00,  3.22it/s]\n",
      "Evaluating on validation set...: 100%|██████████| 4/4 [00:00<00:00,  5.60it/s]\n"
     ]
    },
    {
     "name": "stdout",
     "output_type": "stream",
     "text": [
      "Epoch [1/5], Train Loss: 0.2009, Train Accuracy: 0.9351, Val Loss: 0.1025, Val Accuracy: 0.9794\n",
      "Epoch 1: New best validation accuracy: 0.9794. Model saved to ./sisa_models/shard_1_slice_0_EffNetB0_AFHQ_model.pth.\n"
     ]
    },
    {
     "name": "stderr",
     "output_type": "stream",
     "text": [
      "Training Epoch 2/5: 100%|██████████| 28/28 [00:08<00:00,  3.21it/s]\n",
      "Evaluating on validation set...: 100%|██████████| 4/4 [00:00<00:00,  5.61it/s]\n"
     ]
    },
    {
     "name": "stdout",
     "output_type": "stream",
     "text": [
      "Epoch [2/5], Train Loss: 0.0968, Train Accuracy: 0.9601, Val Loss: 0.0466, Val Accuracy: 0.9897\n",
      "Epoch 2: New best validation accuracy: 0.9897. Model saved to ./sisa_models/shard_1_slice_0_EffNetB0_AFHQ_model.pth.\n"
     ]
    },
    {
     "name": "stderr",
     "output_type": "stream",
     "text": [
      "Training Epoch 3/5: 100%|██████████| 28/28 [00:08<00:00,  3.17it/s]\n",
      "Evaluating on validation set...: 100%|██████████| 4/4 [00:00<00:00,  5.81it/s]\n"
     ]
    },
    {
     "name": "stdout",
     "output_type": "stream",
     "text": [
      "Epoch [3/5], Train Loss: 0.0599, Train Accuracy: 0.9818, Val Loss: 0.0659, Val Accuracy: 0.9794\n"
     ]
    },
    {
     "name": "stderr",
     "output_type": "stream",
     "text": [
      "Training Epoch 4/5: 100%|██████████| 28/28 [00:08<00:00,  3.21it/s]\n",
      "Evaluating on validation set...: 100%|██████████| 4/4 [00:00<00:00,  5.53it/s]\n"
     ]
    },
    {
     "name": "stdout",
     "output_type": "stream",
     "text": [
      "Epoch [4/5], Train Loss: 0.0452, Train Accuracy: 0.9897, Val Loss: 0.0530, Val Accuracy: 0.9794\n"
     ]
    },
    {
     "name": "stderr",
     "output_type": "stream",
     "text": [
      "Training Epoch 5/5: 100%|██████████| 28/28 [00:08<00:00,  3.21it/s]\n",
      "Evaluating on validation set...: 100%|██████████| 4/4 [00:00<00:00,  5.62it/s]\n"
     ]
    },
    {
     "name": "stdout",
     "output_type": "stream",
     "text": [
      "Epoch [5/5], Train Loss: 0.0267, Train Accuracy: 0.9943, Val Loss: 0.1907, Val Accuracy: 0.9794\n",
      "Training complete for ./sisa_models/shard_1_slice_0_EffNetB0_AFHQ. Training stats saved to './sisa_models/shard_1_slice_0_EffNetB0_AFHQ_history.json'.\n",
      "  Training slice: slice_1\n"
     ]
    },
    {
     "name": "stderr",
     "output_type": "stream",
     "text": [
      "Training Epoch 1/5: 100%|██████████| 28/28 [00:09<00:00,  3.07it/s]\n",
      "Evaluating on validation set...: 100%|██████████| 4/4 [00:00<00:00,  5.85it/s]\n"
     ]
    },
    {
     "name": "stdout",
     "output_type": "stream",
     "text": [
      "Epoch [1/5], Train Loss: 0.0778, Train Accuracy: 0.9647, Val Loss: 0.0314, Val Accuracy: 0.9897\n",
      "Epoch 1: New best validation accuracy: 0.9897. Model saved to ./sisa_models/shard_1_slice_1_EffNetB0_AFHQ_model.pth.\n"
     ]
    },
    {
     "name": "stderr",
     "output_type": "stream",
     "text": [
      "Training Epoch 2/5: 100%|██████████| 28/28 [00:09<00:00,  3.04it/s]\n",
      "Evaluating on validation set...: 100%|██████████| 4/4 [00:00<00:00,  5.78it/s]\n"
     ]
    },
    {
     "name": "stdout",
     "output_type": "stream",
     "text": [
      "Epoch [2/5], Train Loss: 0.0493, Train Accuracy: 0.9863, Val Loss: 0.0208, Val Accuracy: 0.9897\n"
     ]
    },
    {
     "name": "stderr",
     "output_type": "stream",
     "text": [
      "Training Epoch 3/5: 100%|██████████| 28/28 [00:09<00:00,  3.03it/s]\n",
      "Evaluating on validation set...: 100%|██████████| 4/4 [00:00<00:00,  5.11it/s]\n"
     ]
    },
    {
     "name": "stdout",
     "output_type": "stream",
     "text": [
      "Epoch [3/5], Train Loss: 0.0093, Train Accuracy: 0.9989, Val Loss: 0.0026, Val Accuracy: 1.0000\n",
      "Epoch 3: New best validation accuracy: 1.0000. Model saved to ./sisa_models/shard_1_slice_1_EffNetB0_AFHQ_model.pth.\n"
     ]
    },
    {
     "name": "stderr",
     "output_type": "stream",
     "text": [
      "Training Epoch 4/5: 100%|██████████| 28/28 [00:09<00:00,  3.09it/s]\n",
      "Evaluating on validation set...: 100%|██████████| 4/4 [00:00<00:00,  5.72it/s]\n"
     ]
    },
    {
     "name": "stdout",
     "output_type": "stream",
     "text": [
      "Epoch [4/5], Train Loss: 0.0085, Train Accuracy: 0.9977, Val Loss: 0.0056, Val Accuracy: 1.0000\n"
     ]
    },
    {
     "name": "stderr",
     "output_type": "stream",
     "text": [
      "Training Epoch 5/5: 100%|██████████| 28/28 [00:08<00:00,  3.20it/s]\n",
      "Evaluating on validation set...: 100%|██████████| 4/4 [00:00<00:00,  5.42it/s]\n"
     ]
    },
    {
     "name": "stdout",
     "output_type": "stream",
     "text": [
      "Epoch [5/5], Train Loss: 0.0101, Train Accuracy: 0.9966, Val Loss: 0.0245, Val Accuracy: 0.9897\n",
      "Training complete for ./sisa_models/shard_1_slice_1_EffNetB0_AFHQ. Training stats saved to './sisa_models/shard_1_slice_1_EffNetB0_AFHQ_history.json'.\n",
      "  Training slice: slice_2\n"
     ]
    },
    {
     "name": "stderr",
     "output_type": "stream",
     "text": [
      "Training Epoch 1/5: 100%|██████████| 28/28 [00:08<00:00,  3.14it/s]\n",
      "Evaluating on validation set...: 100%|██████████| 4/4 [00:00<00:00,  5.65it/s]\n"
     ]
    },
    {
     "name": "stdout",
     "output_type": "stream",
     "text": [
      "Epoch [1/5], Train Loss: 0.0682, Train Accuracy: 0.9863, Val Loss: 0.0764, Val Accuracy: 0.9794\n",
      "Epoch 1: New best validation accuracy: 0.9794. Model saved to ./sisa_models/shard_1_slice_2_EffNetB0_AFHQ_model.pth.\n"
     ]
    },
    {
     "name": "stderr",
     "output_type": "stream",
     "text": [
      "Training Epoch 2/5: 100%|██████████| 28/28 [00:08<00:00,  3.20it/s]\n",
      "Evaluating on validation set...: 100%|██████████| 4/4 [00:00<00:00,  5.23it/s]\n"
     ]
    },
    {
     "name": "stdout",
     "output_type": "stream",
     "text": [
      "Epoch [2/5], Train Loss: 0.0262, Train Accuracy: 0.9932, Val Loss: 0.0577, Val Accuracy: 0.9897\n",
      "Epoch 2: New best validation accuracy: 0.9897. Model saved to ./sisa_models/shard_1_slice_2_EffNetB0_AFHQ_model.pth.\n"
     ]
    },
    {
     "name": "stderr",
     "output_type": "stream",
     "text": [
      "Training Epoch 3/5: 100%|██████████| 28/28 [00:08<00:00,  3.19it/s]\n",
      "Evaluating on validation set...: 100%|██████████| 4/4 [00:00<00:00,  5.93it/s]\n"
     ]
    },
    {
     "name": "stdout",
     "output_type": "stream",
     "text": [
      "Epoch [3/5], Train Loss: 0.0134, Train Accuracy: 0.9966, Val Loss: 0.0976, Val Accuracy: 0.9794\n"
     ]
    },
    {
     "name": "stderr",
     "output_type": "stream",
     "text": [
      "Training Epoch 4/5: 100%|██████████| 28/28 [00:08<00:00,  3.19it/s]\n",
      "Evaluating on validation set...: 100%|██████████| 4/4 [00:00<00:00,  5.44it/s]\n"
     ]
    },
    {
     "name": "stdout",
     "output_type": "stream",
     "text": [
      "Epoch [4/5], Train Loss: 0.0041, Train Accuracy: 0.9989, Val Loss: 0.0331, Val Accuracy: 0.9897\n"
     ]
    },
    {
     "name": "stderr",
     "output_type": "stream",
     "text": [
      "Training Epoch 5/5: 100%|██████████| 28/28 [00:08<00:00,  3.16it/s]\n",
      "Evaluating on validation set...: 100%|██████████| 4/4 [00:00<00:00,  5.63it/s]\n"
     ]
    },
    {
     "name": "stdout",
     "output_type": "stream",
     "text": [
      "Epoch [5/5], Train Loss: 0.0056, Train Accuracy: 0.9989, Val Loss: 0.0405, Val Accuracy: 0.9897\n",
      "Training complete for ./sisa_models/shard_1_slice_2_EffNetB0_AFHQ. Training stats saved to './sisa_models/shard_1_slice_2_EffNetB0_AFHQ_history.json'.\n",
      "  Training slice: slice_3\n"
     ]
    },
    {
     "name": "stderr",
     "output_type": "stream",
     "text": [
      "Training Epoch 1/5: 100%|██████████| 28/28 [00:09<00:00,  2.80it/s]\n",
      "Evaluating on validation set...: 100%|██████████| 4/4 [00:00<00:00,  4.82it/s]\n"
     ]
    },
    {
     "name": "stdout",
     "output_type": "stream",
     "text": [
      "Epoch [1/5], Train Loss: 0.0653, Train Accuracy: 0.9738, Val Loss: 0.0887, Val Accuracy: 0.9897\n",
      "Epoch 1: New best validation accuracy: 0.9897. Model saved to ./sisa_models/shard_1_slice_3_EffNetB0_AFHQ_model.pth.\n"
     ]
    },
    {
     "name": "stderr",
     "output_type": "stream",
     "text": [
      "Training Epoch 2/5: 100%|██████████| 28/28 [00:08<00:00,  3.17it/s]\n",
      "Evaluating on validation set...: 100%|██████████| 4/4 [00:00<00:00,  5.56it/s]\n"
     ]
    },
    {
     "name": "stdout",
     "output_type": "stream",
     "text": [
      "Epoch [2/5], Train Loss: 0.0540, Train Accuracy: 0.9829, Val Loss: 0.1203, Val Accuracy: 0.9588\n"
     ]
    },
    {
     "name": "stderr",
     "output_type": "stream",
     "text": [
      "Training Epoch 3/5: 100%|██████████| 28/28 [00:08<00:00,  3.14it/s]\n",
      "Evaluating on validation set...: 100%|██████████| 4/4 [00:00<00:00,  4.79it/s]\n"
     ]
    },
    {
     "name": "stdout",
     "output_type": "stream",
     "text": [
      "Epoch [3/5], Train Loss: 0.0381, Train Accuracy: 0.9909, Val Loss: 0.0496, Val Accuracy: 0.9794\n"
     ]
    },
    {
     "name": "stderr",
     "output_type": "stream",
     "text": [
      "Training Epoch 4/5: 100%|██████████| 28/28 [00:09<00:00,  3.04it/s]\n",
      "Evaluating on validation set...: 100%|██████████| 4/4 [00:00<00:00,  5.55it/s]\n"
     ]
    },
    {
     "name": "stdout",
     "output_type": "stream",
     "text": [
      "Epoch [4/5], Train Loss: 0.0193, Train Accuracy: 0.9932, Val Loss: 0.2150, Val Accuracy: 0.9691\n"
     ]
    },
    {
     "name": "stderr",
     "output_type": "stream",
     "text": [
      "Training Epoch 5/5: 100%|██████████| 28/28 [00:08<00:00,  3.16it/s]\n",
      "Evaluating on validation set...: 100%|██████████| 4/4 [00:00<00:00,  5.78it/s]\n"
     ]
    },
    {
     "name": "stdout",
     "output_type": "stream",
     "text": [
      "Epoch [5/5], Train Loss: 0.0186, Train Accuracy: 0.9932, Val Loss: 0.0559, Val Accuracy: 0.9794\n",
      "Training complete for ./sisa_models/shard_1_slice_3_EffNetB0_AFHQ. Training stats saved to './sisa_models/shard_1_slice_3_EffNetB0_AFHQ_history.json'.\n",
      "  Training slice: slice_4\n"
     ]
    },
    {
     "name": "stderr",
     "output_type": "stream",
     "text": [
      "Training Epoch 1/5: 100%|██████████| 28/28 [00:09<00:00,  3.10it/s]\n",
      "Evaluating on validation set...: 100%|██████████| 4/4 [00:00<00:00,  5.56it/s]\n"
     ]
    },
    {
     "name": "stdout",
     "output_type": "stream",
     "text": [
      "Epoch [1/5], Train Loss: 0.0810, Train Accuracy: 0.9750, Val Loss: 0.0310, Val Accuracy: 0.9897\n",
      "Epoch 1: New best validation accuracy: 0.9897. Model saved to ./sisa_models/shard_1_slice_4_EffNetB0_AFHQ_model.pth.\n"
     ]
    },
    {
     "name": "stderr",
     "output_type": "stream",
     "text": [
      "Training Epoch 2/5: 100%|██████████| 28/28 [00:08<00:00,  3.11it/s]\n",
      "Evaluating on validation set...: 100%|██████████| 4/4 [00:00<00:00,  5.86it/s]\n"
     ]
    },
    {
     "name": "stdout",
     "output_type": "stream",
     "text": [
      "Epoch [2/5], Train Loss: 0.0195, Train Accuracy: 0.9909, Val Loss: 0.0034, Val Accuracy: 1.0000\n",
      "Epoch 2: New best validation accuracy: 1.0000. Model saved to ./sisa_models/shard_1_slice_4_EffNetB0_AFHQ_model.pth.\n"
     ]
    },
    {
     "name": "stderr",
     "output_type": "stream",
     "text": [
      "Training Epoch 3/5: 100%|██████████| 28/28 [00:08<00:00,  3.15it/s]\n",
      "Evaluating on validation set...: 100%|██████████| 4/4 [00:00<00:00,  4.93it/s]\n"
     ]
    },
    {
     "name": "stdout",
     "output_type": "stream",
     "text": [
      "Epoch [3/5], Train Loss: 0.0029, Train Accuracy: 0.9989, Val Loss: 0.0103, Val Accuracy: 0.9897\n"
     ]
    },
    {
     "name": "stderr",
     "output_type": "stream",
     "text": [
      "Training Epoch 4/5: 100%|██████████| 28/28 [00:08<00:00,  3.19it/s]\n",
      "Evaluating on validation set...: 100%|██████████| 4/4 [00:00<00:00,  5.84it/s]\n"
     ]
    },
    {
     "name": "stdout",
     "output_type": "stream",
     "text": [
      "Epoch [4/5], Train Loss: 0.0015, Train Accuracy: 1.0000, Val Loss: 0.0069, Val Accuracy: 1.0000\n"
     ]
    },
    {
     "name": "stderr",
     "output_type": "stream",
     "text": [
      "Training Epoch 5/5: 100%|██████████| 28/28 [00:08<00:00,  3.22it/s]\n",
      "Evaluating on validation set...: 100%|██████████| 4/4 [00:00<00:00,  5.71it/s]\n"
     ]
    },
    {
     "name": "stdout",
     "output_type": "stream",
     "text": [
      "Epoch [5/5], Train Loss: 0.0007, Train Accuracy: 1.0000, Val Loss: 0.0025, Val Accuracy: 1.0000\n",
      "Training complete for ./sisa_models/shard_1_slice_4_EffNetB0_AFHQ. Training stats saved to './sisa_models/shard_1_slice_4_EffNetB0_AFHQ_history.json'.\n",
      "Saved final shard model to ./sisa_models/shard_1_final_model.pth\n",
      "Training shard: shard_2\n",
      "Init model...\n",
      "Done initializing model.\n",
      "Model ID: 135575560368096, Optimizer ID: 135575556073376, Criterion ID: 135575556069536\n",
      "  Training slice: slice_0\n"
     ]
    },
    {
     "name": "stderr",
     "output_type": "stream",
     "text": [
      "Training Epoch 1/5: 100%|██████████| 28/28 [00:09<00:00,  2.96it/s]\n",
      "Evaluating on validation set...: 100%|██████████| 4/4 [00:00<00:00,  5.56it/s]\n"
     ]
    },
    {
     "name": "stdout",
     "output_type": "stream",
     "text": [
      "Epoch [1/5], Train Loss: 0.2137, Train Accuracy: 0.9282, Val Loss: 0.0860, Val Accuracy: 0.9485\n",
      "Epoch 1: New best validation accuracy: 0.9485. Model saved to ./sisa_models/shard_2_slice_0_EffNetB0_AFHQ_model.pth.\n"
     ]
    },
    {
     "name": "stderr",
     "output_type": "stream",
     "text": [
      "Training Epoch 2/5: 100%|██████████| 28/28 [00:08<00:00,  3.18it/s]\n",
      "Evaluating on validation set...: 100%|██████████| 4/4 [00:00<00:00,  5.90it/s]\n"
     ]
    },
    {
     "name": "stdout",
     "output_type": "stream",
     "text": [
      "Epoch [2/5], Train Loss: 0.0671, Train Accuracy: 0.9784, Val Loss: 0.0601, Val Accuracy: 0.9691\n",
      "Epoch 2: New best validation accuracy: 0.9691. Model saved to ./sisa_models/shard_2_slice_0_EffNetB0_AFHQ_model.pth.\n"
     ]
    },
    {
     "name": "stderr",
     "output_type": "stream",
     "text": [
      "Training Epoch 3/5: 100%|██████████| 28/28 [00:08<00:00,  3.21it/s]\n",
      "Evaluating on validation set...: 100%|██████████| 4/4 [00:00<00:00,  4.55it/s]\n"
     ]
    },
    {
     "name": "stdout",
     "output_type": "stream",
     "text": [
      "Epoch [3/5], Train Loss: 0.0580, Train Accuracy: 0.9806, Val Loss: 0.0209, Val Accuracy: 1.0000\n",
      "Epoch 3: New best validation accuracy: 1.0000. Model saved to ./sisa_models/shard_2_slice_0_EffNetB0_AFHQ_model.pth.\n"
     ]
    },
    {
     "name": "stderr",
     "output_type": "stream",
     "text": [
      "Training Epoch 4/5: 100%|██████████| 28/28 [00:09<00:00,  3.00it/s]\n",
      "Evaluating on validation set...: 100%|██████████| 4/4 [00:00<00:00,  5.79it/s]\n"
     ]
    },
    {
     "name": "stdout",
     "output_type": "stream",
     "text": [
      "Epoch [4/5], Train Loss: 0.0573, Train Accuracy: 0.9863, Val Loss: 0.0322, Val Accuracy: 1.0000\n"
     ]
    },
    {
     "name": "stderr",
     "output_type": "stream",
     "text": [
      "Training Epoch 5/5: 100%|██████████| 28/28 [00:08<00:00,  3.14it/s]\n",
      "Evaluating on validation set...: 100%|██████████| 4/4 [00:00<00:00,  5.97it/s]\n"
     ]
    },
    {
     "name": "stdout",
     "output_type": "stream",
     "text": [
      "Epoch [5/5], Train Loss: 0.0315, Train Accuracy: 0.9897, Val Loss: 0.0415, Val Accuracy: 0.9897\n",
      "Training complete for ./sisa_models/shard_2_slice_0_EffNetB0_AFHQ. Training stats saved to './sisa_models/shard_2_slice_0_EffNetB0_AFHQ_history.json'.\n",
      "  Training slice: slice_1\n"
     ]
    },
    {
     "name": "stderr",
     "output_type": "stream",
     "text": [
      "Training Epoch 1/5: 100%|██████████| 28/28 [00:09<00:00,  3.07it/s]\n",
      "Evaluating on validation set...: 100%|██████████| 4/4 [00:00<00:00,  5.27it/s]\n"
     ]
    },
    {
     "name": "stdout",
     "output_type": "stream",
     "text": [
      "Epoch [1/5], Train Loss: 0.0587, Train Accuracy: 0.9761, Val Loss: 0.0061, Val Accuracy: 1.0000\n",
      "Epoch 1: New best validation accuracy: 1.0000. Model saved to ./sisa_models/shard_2_slice_1_EffNetB0_AFHQ_model.pth.\n"
     ]
    },
    {
     "name": "stderr",
     "output_type": "stream",
     "text": [
      "Training Epoch 2/5: 100%|██████████| 28/28 [00:08<00:00,  3.16it/s]\n",
      "Evaluating on validation set...: 100%|██████████| 4/4 [00:00<00:00,  5.91it/s]\n"
     ]
    },
    {
     "name": "stdout",
     "output_type": "stream",
     "text": [
      "Epoch [2/5], Train Loss: 0.0359, Train Accuracy: 0.9897, Val Loss: 0.0015, Val Accuracy: 1.0000\n"
     ]
    },
    {
     "name": "stderr",
     "output_type": "stream",
     "text": [
      "Training Epoch 3/5: 100%|██████████| 28/28 [00:08<00:00,  3.25it/s]\n",
      "Evaluating on validation set...: 100%|██████████| 4/4 [00:00<00:00,  5.96it/s]\n"
     ]
    },
    {
     "name": "stdout",
     "output_type": "stream",
     "text": [
      "Epoch [3/5], Train Loss: 0.0406, Train Accuracy: 0.9875, Val Loss: 0.0011, Val Accuracy: 1.0000\n"
     ]
    },
    {
     "name": "stderr",
     "output_type": "stream",
     "text": [
      "Training Epoch 4/5: 100%|██████████| 28/28 [00:08<00:00,  3.25it/s]\n",
      "Evaluating on validation set...: 100%|██████████| 4/4 [00:00<00:00,  5.62it/s]\n"
     ]
    },
    {
     "name": "stdout",
     "output_type": "stream",
     "text": [
      "Epoch [4/5], Train Loss: 0.0249, Train Accuracy: 0.9886, Val Loss: 0.0004, Val Accuracy: 1.0000\n"
     ]
    },
    {
     "name": "stderr",
     "output_type": "stream",
     "text": [
      "Training Epoch 5/5: 100%|██████████| 28/28 [00:08<00:00,  3.15it/s]\n",
      "Evaluating on validation set...: 100%|██████████| 4/4 [00:00<00:00,  4.11it/s]\n"
     ]
    },
    {
     "name": "stdout",
     "output_type": "stream",
     "text": [
      "Epoch [5/5], Train Loss: 0.0217, Train Accuracy: 0.9932, Val Loss: 0.0111, Val Accuracy: 0.9897\n",
      "Training complete for ./sisa_models/shard_2_slice_1_EffNetB0_AFHQ. Training stats saved to './sisa_models/shard_2_slice_1_EffNetB0_AFHQ_history.json'.\n",
      "  Training slice: slice_2\n"
     ]
    },
    {
     "name": "stderr",
     "output_type": "stream",
     "text": [
      "Training Epoch 1/5: 100%|██████████| 28/28 [00:09<00:00,  2.96it/s]\n",
      "Evaluating on validation set...: 100%|██████████| 4/4 [00:00<00:00,  5.07it/s]\n"
     ]
    },
    {
     "name": "stdout",
     "output_type": "stream",
     "text": [
      "Epoch [1/5], Train Loss: 0.0538, Train Accuracy: 0.9795, Val Loss: 0.0548, Val Accuracy: 0.9897\n",
      "Epoch 1: New best validation accuracy: 0.9897. Model saved to ./sisa_models/shard_2_slice_2_EffNetB0_AFHQ_model.pth.\n"
     ]
    },
    {
     "name": "stderr",
     "output_type": "stream",
     "text": [
      "Training Epoch 2/5: 100%|██████████| 28/28 [00:08<00:00,  3.22it/s]\n",
      "Evaluating on validation set...: 100%|██████████| 4/4 [00:00<00:00,  5.82it/s]\n"
     ]
    },
    {
     "name": "stdout",
     "output_type": "stream",
     "text": [
      "Epoch [2/5], Train Loss: 0.0277, Train Accuracy: 0.9875, Val Loss: 0.1332, Val Accuracy: 0.9794\n"
     ]
    },
    {
     "name": "stderr",
     "output_type": "stream",
     "text": [
      "Training Epoch 3/5: 100%|██████████| 28/28 [00:08<00:00,  3.25it/s]\n",
      "Evaluating on validation set...: 100%|██████████| 4/4 [00:00<00:00,  5.69it/s]\n"
     ]
    },
    {
     "name": "stdout",
     "output_type": "stream",
     "text": [
      "Epoch [3/5], Train Loss: 0.0180, Train Accuracy: 0.9932, Val Loss: 0.0223, Val Accuracy: 0.9897\n"
     ]
    },
    {
     "name": "stderr",
     "output_type": "stream",
     "text": [
      "Training Epoch 4/5: 100%|██████████| 28/28 [00:09<00:00,  3.08it/s]\n",
      "Evaluating on validation set...: 100%|██████████| 4/4 [00:00<00:00,  5.44it/s]\n"
     ]
    },
    {
     "name": "stdout",
     "output_type": "stream",
     "text": [
      "Epoch [4/5], Train Loss: 0.0169, Train Accuracy: 0.9966, Val Loss: 0.0827, Val Accuracy: 0.9691\n"
     ]
    },
    {
     "name": "stderr",
     "output_type": "stream",
     "text": [
      "Training Epoch 5/5: 100%|██████████| 28/28 [00:08<00:00,  3.25it/s]\n",
      "Evaluating on validation set...: 100%|██████████| 4/4 [00:00<00:00,  5.52it/s]\n"
     ]
    },
    {
     "name": "stdout",
     "output_type": "stream",
     "text": [
      "Epoch [5/5], Train Loss: 0.0184, Train Accuracy: 0.9954, Val Loss: 0.1218, Val Accuracy: 0.9588\n",
      "Training complete for ./sisa_models/shard_2_slice_2_EffNetB0_AFHQ. Training stats saved to './sisa_models/shard_2_slice_2_EffNetB0_AFHQ_history.json'.\n",
      "  Training slice: slice_3\n"
     ]
    },
    {
     "name": "stderr",
     "output_type": "stream",
     "text": [
      "Training Epoch 1/5: 100%|██████████| 28/28 [00:09<00:00,  2.98it/s]\n",
      "Evaluating on validation set...: 100%|██████████| 4/4 [00:00<00:00,  4.99it/s]\n"
     ]
    },
    {
     "name": "stdout",
     "output_type": "stream",
     "text": [
      "Epoch [1/5], Train Loss: 0.0633, Train Accuracy: 0.9863, Val Loss: 0.0210, Val Accuracy: 0.9897\n",
      "Epoch 1: New best validation accuracy: 0.9897. Model saved to ./sisa_models/shard_2_slice_3_EffNetB0_AFHQ_model.pth.\n"
     ]
    },
    {
     "name": "stderr",
     "output_type": "stream",
     "text": [
      "Training Epoch 2/5: 100%|██████████| 28/28 [00:08<00:00,  3.15it/s]\n",
      "Evaluating on validation set...: 100%|██████████| 4/4 [00:00<00:00,  5.25it/s]\n"
     ]
    },
    {
     "name": "stdout",
     "output_type": "stream",
     "text": [
      "Epoch [2/5], Train Loss: 0.0245, Train Accuracy: 0.9920, Val Loss: 0.0216, Val Accuracy: 0.9794\n"
     ]
    },
    {
     "name": "stderr",
     "output_type": "stream",
     "text": [
      "Training Epoch 3/5: 100%|██████████| 28/28 [00:08<00:00,  3.13it/s]\n",
      "Evaluating on validation set...: 100%|██████████| 4/4 [00:00<00:00,  4.18it/s]\n"
     ]
    },
    {
     "name": "stdout",
     "output_type": "stream",
     "text": [
      "Epoch [3/5], Train Loss: 0.0098, Train Accuracy: 0.9966, Val Loss: 0.0096, Val Accuracy: 1.0000\n",
      "Epoch 3: New best validation accuracy: 1.0000. Model saved to ./sisa_models/shard_2_slice_3_EffNetB0_AFHQ_model.pth.\n"
     ]
    },
    {
     "name": "stderr",
     "output_type": "stream",
     "text": [
      "Training Epoch 4/5: 100%|██████████| 28/28 [00:08<00:00,  3.25it/s]\n",
      "Evaluating on validation set...: 100%|██████████| 4/4 [00:00<00:00,  5.90it/s]\n"
     ]
    },
    {
     "name": "stdout",
     "output_type": "stream",
     "text": [
      "Epoch [4/5], Train Loss: 0.0325, Train Accuracy: 0.9920, Val Loss: 0.0010, Val Accuracy: 1.0000\n"
     ]
    },
    {
     "name": "stderr",
     "output_type": "stream",
     "text": [
      "Training Epoch 5/5: 100%|██████████| 28/28 [00:09<00:00,  3.08it/s]\n",
      "Evaluating on validation set...: 100%|██████████| 4/4 [00:00<00:00,  5.76it/s]\n"
     ]
    },
    {
     "name": "stdout",
     "output_type": "stream",
     "text": [
      "Epoch [5/5], Train Loss: 0.0139, Train Accuracy: 0.9966, Val Loss: 0.0795, Val Accuracy: 0.9794\n",
      "Training complete for ./sisa_models/shard_2_slice_3_EffNetB0_AFHQ. Training stats saved to './sisa_models/shard_2_slice_3_EffNetB0_AFHQ_history.json'.\n",
      "  Training slice: slice_4\n"
     ]
    },
    {
     "name": "stderr",
     "output_type": "stream",
     "text": [
      "Training Epoch 1/5: 100%|██████████| 28/28 [00:09<00:00,  2.93it/s]\n",
      "Evaluating on validation set...: 100%|██████████| 4/4 [00:00<00:00,  4.79it/s]\n"
     ]
    },
    {
     "name": "stdout",
     "output_type": "stream",
     "text": [
      "Epoch [1/5], Train Loss: 0.0439, Train Accuracy: 0.9841, Val Loss: 0.1030, Val Accuracy: 0.9897\n",
      "Epoch 1: New best validation accuracy: 0.9897. Model saved to ./sisa_models/shard_2_slice_4_EffNetB0_AFHQ_model.pth.\n"
     ]
    },
    {
     "name": "stderr",
     "output_type": "stream",
     "text": [
      "Training Epoch 2/5: 100%|██████████| 28/28 [00:08<00:00,  3.22it/s]\n",
      "Evaluating on validation set...: 100%|██████████| 4/4 [00:00<00:00,  5.86it/s]\n"
     ]
    },
    {
     "name": "stdout",
     "output_type": "stream",
     "text": [
      "Epoch [2/5], Train Loss: 0.0212, Train Accuracy: 0.9932, Val Loss: 0.2171, Val Accuracy: 0.9794\n"
     ]
    },
    {
     "name": "stderr",
     "output_type": "stream",
     "text": [
      "Training Epoch 3/5: 100%|██████████| 28/28 [00:08<00:00,  3.17it/s]\n",
      "Evaluating on validation set...: 100%|██████████| 4/4 [00:00<00:00,  5.51it/s]\n"
     ]
    },
    {
     "name": "stdout",
     "output_type": "stream",
     "text": [
      "Epoch [3/5], Train Loss: 0.0192, Train Accuracy: 0.9955, Val Loss: 0.0107, Val Accuracy: 0.9897\n"
     ]
    },
    {
     "name": "stderr",
     "output_type": "stream",
     "text": [
      "Training Epoch 4/5: 100%|██████████| 28/28 [00:09<00:00,  2.85it/s]\n",
      "Evaluating on validation set...: 100%|██████████| 4/4 [00:00<00:00,  5.89it/s]\n"
     ]
    },
    {
     "name": "stdout",
     "output_type": "stream",
     "text": [
      "Epoch [4/5], Train Loss: 0.0040, Train Accuracy: 1.0000, Val Loss: 0.0040, Val Accuracy: 1.0000\n",
      "Epoch 4: New best validation accuracy: 1.0000. Model saved to ./sisa_models/shard_2_slice_4_EffNetB0_AFHQ_model.pth.\n"
     ]
    },
    {
     "name": "stderr",
     "output_type": "stream",
     "text": [
      "Training Epoch 5/5: 100%|██████████| 28/28 [00:08<00:00,  3.20it/s]\n",
      "Evaluating on validation set...: 100%|██████████| 4/4 [00:00<00:00,  5.82it/s]"
     ]
    },
    {
     "name": "stdout",
     "output_type": "stream",
     "text": [
      "Epoch [5/5], Train Loss: 0.0022, Train Accuracy: 1.0000, Val Loss: 0.0016, Val Accuracy: 1.0000\n",
      "Training complete for ./sisa_models/shard_2_slice_4_EffNetB0_AFHQ. Training stats saved to './sisa_models/shard_2_slice_4_EffNetB0_AFHQ_history.json'.\n",
      "Saved final shard model to ./sisa_models/shard_2_final_model.pth\n"
     ]
    },
    {
     "name": "stderr",
     "output_type": "stream",
     "text": [
      "\n"
     ]
    }
   ],
   "source": [
    "sisa_train(\n",
    "    dataloaders=dataloaders, \n",
    "    num_epochs=EPOCHS, \n",
    "    save_models_metrics_dir=save_models_metrics_dir, \n",
    "    init_model_func=init_model_effnetb0,\n",
    "    learning_rate=LEARNING_RATE,\n",
    "    )"
   ]
  },
  {
   "cell_type": "markdown",
   "metadata": {},
   "source": [
    "## Call test"
   ]
  },
  {
   "cell_type": "code",
   "execution_count": 14,
   "metadata": {
    "execution": {
     "iopub.execute_input": "2024-12-02T17:16:01.328567Z",
     "iopub.status.busy": "2024-12-02T17:16:01.328188Z",
     "iopub.status.idle": "2024-12-02T17:16:42.216732Z",
     "shell.execute_reply": "2024-12-02T17:16:42.215941Z",
     "shell.execute_reply.started": "2024-12-02T17:16:01.328527Z"
    },
    "trusted": true
   },
   "outputs": [
    {
     "name": "stdout",
     "output_type": "stream",
     "text": [
      "Init model...\n",
      "Done initializing model.\n",
      "Model ID: 135575555982528, Optimizer ID: 135575555996544, Criterion ID: 135575555989824\n",
      "Loading and testing model: ./sisa_models/shard_0_EffNetB0_AFHQ\n"
     ]
    },
    {
     "name": "stderr",
     "output_type": "stream",
     "text": [
      "Evaluating model: ./sisa_models/shard_0_final_model.pth: 100%|██████████| 47/47 [00:17<00:00,  2.69it/s]\n"
     ]
    },
    {
     "name": "stdout",
     "output_type": "stream",
     "text": [
      "Predictions and labels saved to ./sisa_models/shard_0_EffNetB0_AFHQ_predictions.json\n",
      "Init model...\n",
      "Done initializing model.\n",
      "Model ID: 135575556114704, Optimizer ID: 135575556117632, Criterion ID: 135575556117680\n",
      "Loading and testing model: ./sisa_models/shard_1_EffNetB0_AFHQ\n"
     ]
    },
    {
     "name": "stderr",
     "output_type": "stream",
     "text": [
      "Evaluating model: ./sisa_models/shard_1_final_model.pth: 100%|██████████| 47/47 [00:11<00:00,  4.22it/s]\n"
     ]
    },
    {
     "name": "stdout",
     "output_type": "stream",
     "text": [
      "Predictions and labels saved to ./sisa_models/shard_1_EffNetB0_AFHQ_predictions.json\n",
      "Init model...\n",
      "Done initializing model.\n",
      "Model ID: 135575560368096, Optimizer ID: 135575560371696, Criterion ID: 135575560369968\n",
      "Loading and testing model: ./sisa_models/shard_2_EffNetB0_AFHQ\n"
     ]
    },
    {
     "name": "stderr",
     "output_type": "stream",
     "text": [
      "Evaluating model: ./sisa_models/shard_2_final_model.pth: 100%|██████████| 47/47 [00:11<00:00,  4.13it/s]"
     ]
    },
    {
     "name": "stdout",
     "output_type": "stream",
     "text": [
      "Predictions and labels saved to ./sisa_models/shard_2_EffNetB0_AFHQ_predictions.json\n",
      "Evaluation results saved to sisa_final_evaluation.json\n"
     ]
    },
    {
     "name": "stderr",
     "output_type": "stream",
     "text": [
      "\n"
     ]
    }
   ],
   "source": [
    "sisa_test(\n",
    "    dataloaders=dataloaders, \n",
    "    saved_models_metrics_dir=save_models_metrics_dir, \n",
    "    init_model_func=init_model_effnetb0,\n",
    "    clear_solo_models_preds=True)"
   ]
  },
  {
   "cell_type": "markdown",
   "metadata": {},
   "source": [
    "## Shard models assembly (weighted voting, w=accuracy)"
   ]
  },
  {
   "cell_type": "code",
   "execution_count": null,
   "metadata": {
    "execution": {
     "iopub.execute_input": "2024-12-02T17:16:42.218459Z",
     "iopub.status.busy": "2024-12-02T17:16:42.218071Z",
     "iopub.status.idle": "2024-12-02T17:16:42.224192Z",
     "shell.execute_reply": "2024-12-02T17:16:42.223350Z",
     "shell.execute_reply.started": "2024-12-02T17:16:42.218419Z"
    },
    "trusted": true
   },
   "outputs": [],
   "source": [
    "with open(\"sisa_final_evaluation.json\", \"r\") as f:\n",
    "    results = json.load(f)\n",
    "\n",
    "# classes = ['cat', 'dog', 'wildlife']"
   ]
  },
  {
   "cell_type": "code",
   "execution_count": 7,
   "metadata": {
    "execution": {
     "iopub.execute_input": "2024-12-02T17:16:42.225526Z",
     "iopub.status.busy": "2024-12-02T17:16:42.225207Z",
     "iopub.status.idle": "2024-12-02T17:16:42.661187Z",
     "shell.execute_reply": "2024-12-02T17:16:42.660301Z",
     "shell.execute_reply.started": "2024-12-02T17:16:42.225483Z"
    },
    "trusted": true
   },
   "outputs": [
    {
     "name": "stdout",
     "output_type": "stream",
     "text": [
      "Shard shard_0 Metrics:\n",
      "  Accuracy: 0.9960\n",
      "  Precision: 0.9960\n",
      "  Recall: 0.9960\n",
      "  F1 Score: 0.9960\n",
      "Shard shard_1 Metrics:\n",
      "  Accuracy: 0.9960\n",
      "  Precision: 0.9960\n",
      "  Recall: 0.9960\n",
      "  F1 Score: 0.9960\n",
      "Shard shard_2 Metrics:\n",
      "  Accuracy: 0.9947\n",
      "  Precision: 0.9947\n",
      "  Recall: 0.9947\n",
      "  F1 Score: 0.9947\n",
      "\n",
      "Aggregated Model Metrics:\n",
      "  Accuracy: 0.9967\n",
      "  Precision: 0.9967\n",
      "  Recall: 0.9967\n",
      "  F1 Score: 0.9967\n"
     ]
    },
    {
     "data": {
      "image/png": "[encoded data removed]",
      "text/plain": [
       "<Figure size 1000x800 with 2 Axes>"
      ]
     },
     "metadata": {},
     "output_type": "display_data"
    }
   ],
   "source": [
    "evaluate_aggregated_model(results, classes)"
   ]
  },
  {
   "cell_type": "markdown",
   "metadata": {},
   "source": [
    "# SISA re-train"
   ]
  },
  {
   "cell_type": "markdown",
   "metadata": {},
   "source": [
    "## Paths to data info"
   ]
  },
  {
   "cell_type": "code",
   "execution_count": 17,
   "metadata": {
    "execution": {
     "iopub.execute_input": "2024-12-02T17:16:42.662370Z",
     "iopub.status.busy": "2024-12-02T17:16:42.662143Z",
     "iopub.status.idle": "2024-12-02T17:16:42.666658Z",
     "shell.execute_reply": "2024-12-02T17:16:42.665709Z",
     "shell.execute_reply.started": "2024-12-02T17:16:42.662347Z"
    },
    "trusted": true
   },
   "outputs": [],
   "source": [
    "samples_to_delete = project_root/'experiments/animal_faces/naive/afhq_samples_to_unlearn.json'\n",
    "sisa_structure = 'sisa_structure.json'\n",
    "updated_sisa_structure = 'updated_sisa_strucute.json'\n",
    "deleted_samples = 'deleted_samples.json'"
   ]
  },
  {
   "cell_type": "markdown",
   "metadata": {},
   "source": [
    "## Update sisa structure -> delete samples "
   ]
  },
  {
   "cell_type": "code",
   "execution_count": 18,
   "metadata": {
    "execution": {
     "iopub.execute_input": "2024-12-02T17:16:42.668066Z",
     "iopub.status.busy": "2024-12-02T17:16:42.667728Z",
     "iopub.status.idle": "2024-12-02T17:16:42.839122Z",
     "shell.execute_reply": "2024-12-02T17:16:42.838284Z",
     "shell.execute_reply.started": "2024-12-02T17:16:42.668030Z"
    },
    "trusted": true
   },
   "outputs": [
    {
     "name": "stdout",
     "output_type": "stream",
     "text": [
      "Retraining Plan:\n",
      "  Shard: shard_0, Start from Slice: slice_0 onward\n",
      "  Shard: shard_1, Start from Slice: slice_0 onward\n",
      "  Shard: shard_2, Start from Slice: slice_0 onward\n"
     ]
    }
   ],
   "source": [
    "affected_shards = update_sisa_structure(samples_to_delete, sisa_structure, updated_sisa_structure,deleted_samples)"
   ]
  },
  {
   "cell_type": "markdown",
   "metadata": {},
   "source": [
    "## Recreate DataLoaders from json file"
   ]
  },
  {
   "cell_type": "code",
   "execution_count": 19,
   "metadata": {
    "execution": {
     "iopub.execute_input": "2024-12-02T17:16:42.841018Z",
     "iopub.status.busy": "2024-12-02T17:16:42.840162Z",
     "iopub.status.idle": "2024-12-02T17:16:42.848812Z",
     "shell.execute_reply": "2024-12-02T17:16:42.848178Z",
     "shell.execute_reply.started": "2024-12-02T17:16:42.840990Z"
    },
    "trusted": true
   },
   "outputs": [],
   "source": [
    "dataloaders = recreate_sisa_dataloaders(\n",
    "    datasets=(train_dataset, test_dataset),\n",
    "    info_file_path=updated_sisa_structure,\n",
    "    batch_size=BATCH_SIZE,\n",
    "    val_ratio=0.1\n",
    ")"
   ]
  },
  {
   "cell_type": "markdown",
   "metadata": {},
   "source": [
    "## Models output path"
   ]
  },
  {
   "cell_type": "code",
   "execution_count": 20,
   "metadata": {
    "execution": {
     "iopub.execute_input": "2024-12-02T17:16:42.850147Z",
     "iopub.status.busy": "2024-12-02T17:16:42.849827Z",
     "iopub.status.idle": "2024-12-02T17:16:42.857228Z",
     "shell.execute_reply": "2024-12-02T17:16:42.856368Z",
     "shell.execute_reply.started": "2024-12-02T17:16:42.850118Z"
    },
    "trusted": true
   },
   "outputs": [],
   "source": [
    "save_path = \"./sisa_updated_models\""
   ]
  },
  {
   "cell_type": "markdown",
   "metadata": {},
   "source": [
    "## Retrain the affected shards"
   ]
  },
  {
   "cell_type": "code",
   "execution_count": 21,
   "metadata": {
    "execution": {
     "iopub.execute_input": "2024-12-02T17:16:42.858398Z",
     "iopub.status.busy": "2024-12-02T17:16:42.858188Z",
     "iopub.status.idle": "2024-12-02T17:27:52.738033Z",
     "shell.execute_reply": "2024-12-02T17:27:52.737083Z",
     "shell.execute_reply.started": "2024-12-02T17:16:42.858377Z"
    },
    "trusted": true
   },
   "outputs": [
    {
     "name": "stdout",
     "output_type": "stream",
     "text": [
      "Retraining shard: shard_0\n",
      "Init model...\n",
      "Done initializing model.\n",
      "Model ID: 135575560361664, Optimizer ID: 135575560361232, Criterion ID: 135575560361616\n",
      "  Retraining slice: slice_0\n"
     ]
    },
    {
     "name": "stderr",
     "output_type": "stream",
     "text": [
      "Training Epoch 1/5: 100%|██████████| 25/25 [00:09<00:00,  2.58it/s]\n",
      "Evaluating on validation set...: 100%|██████████| 3/3 [00:00<00:00,  3.88it/s]\n"
     ]
    },
    {
     "name": "stdout",
     "output_type": "stream",
     "text": [
      "Epoch [1/5], Train Loss: 0.2655, Train Accuracy: 0.8990, Val Loss: 0.0405, Val Accuracy: 0.9886\n",
      "Epoch 1: New best validation accuracy: 0.9886. Model saved to ./sisa_updated_models/shard_0_slice_0_EffNetB0_AFHQ_model.pth.\n"
     ]
    },
    {
     "name": "stderr",
     "output_type": "stream",
     "text": [
      "Training Epoch 2/5: 100%|██████████| 25/25 [00:08<00:00,  3.08it/s]\n",
      "Evaluating on validation set...: 100%|██████████| 3/3 [00:00<00:00,  4.50it/s]\n"
     ]
    },
    {
     "name": "stdout",
     "output_type": "stream",
     "text": [
      "Epoch [2/5], Train Loss: 0.0717, Train Accuracy: 0.9722, Val Loss: 0.0172, Val Accuracy: 1.0000\n",
      "Epoch 2: New best validation accuracy: 1.0000. Model saved to ./sisa_updated_models/shard_0_slice_0_EffNetB0_AFHQ_model.pth.\n"
     ]
    },
    {
     "name": "stderr",
     "output_type": "stream",
     "text": [
      "Training Epoch 3/5: 100%|██████████| 25/25 [00:07<00:00,  3.13it/s]\n",
      "Evaluating on validation set...: 100%|██████████| 3/3 [00:00<00:00,  4.49it/s]\n"
     ]
    },
    {
     "name": "stdout",
     "output_type": "stream",
     "text": [
      "Epoch [3/5], Train Loss: 0.0468, Train Accuracy: 0.9848, Val Loss: 0.1572, Val Accuracy: 0.9545\n"
     ]
    },
    {
     "name": "stderr",
     "output_type": "stream",
     "text": [
      "Training Epoch 4/5: 100%|██████████| 25/25 [00:08<00:00,  2.92it/s]\n",
      "Evaluating on validation set...: 100%|██████████| 3/3 [00:00<00:00,  4.50it/s]\n"
     ]
    },
    {
     "name": "stdout",
     "output_type": "stream",
     "text": [
      "Epoch [4/5], Train Loss: 0.0395, Train Accuracy: 0.9937, Val Loss: 0.0406, Val Accuracy: 0.9773\n"
     ]
    },
    {
     "name": "stderr",
     "output_type": "stream",
     "text": [
      "Training Epoch 5/5: 100%|██████████| 25/25 [00:08<00:00,  3.01it/s]\n",
      "Evaluating on validation set...: 100%|██████████| 3/3 [00:00<00:00,  4.40it/s]\n"
     ]
    },
    {
     "name": "stdout",
     "output_type": "stream",
     "text": [
      "Epoch [5/5], Train Loss: 0.0566, Train Accuracy: 0.9861, Val Loss: 0.0334, Val Accuracy: 0.9886\n",
      "Training complete for ./sisa_updated_models/shard_0_slice_0_EffNetB0_AFHQ. Training stats saved to './sisa_updated_models/shard_0_slice_0_EffNetB0_AFHQ_history.json'.\n",
      "  Retraining slice: slice_1\n"
     ]
    },
    {
     "name": "stderr",
     "output_type": "stream",
     "text": [
      "Training Epoch 1/5: 100%|██████████| 25/25 [00:08<00:00,  2.89it/s]\n",
      "Evaluating on validation set...: 100%|██████████| 3/3 [00:00<00:00,  4.06it/s]\n"
     ]
    },
    {
     "name": "stdout",
     "output_type": "stream",
     "text": [
      "Epoch [1/5], Train Loss: 0.0881, Train Accuracy: 0.9673, Val Loss: 0.1366, Val Accuracy: 0.9432\n",
      "Epoch 1: New best validation accuracy: 0.9432. Model saved to ./sisa_updated_models/shard_0_slice_1_EffNetB0_AFHQ_model.pth.\n"
     ]
    },
    {
     "name": "stderr",
     "output_type": "stream",
     "text": [
      "Training Epoch 2/5: 100%|██████████| 25/25 [00:08<00:00,  3.09it/s]\n",
      "Evaluating on validation set...: 100%|██████████| 3/3 [00:00<00:00,  4.72it/s]\n"
     ]
    },
    {
     "name": "stdout",
     "output_type": "stream",
     "text": [
      "Epoch [2/5], Train Loss: 0.0581, Train Accuracy: 0.9824, Val Loss: 0.0067, Val Accuracy: 1.0000\n",
      "Epoch 2: New best validation accuracy: 1.0000. Model saved to ./sisa_updated_models/shard_0_slice_1_EffNetB0_AFHQ_model.pth.\n"
     ]
    },
    {
     "name": "stderr",
     "output_type": "stream",
     "text": [
      "Training Epoch 3/5: 100%|██████████| 25/25 [00:08<00:00,  2.94it/s]\n",
      "Evaluating on validation set...: 100%|██████████| 3/3 [00:00<00:00,  4.54it/s]\n"
     ]
    },
    {
     "name": "stdout",
     "output_type": "stream",
     "text": [
      "Epoch [3/5], Train Loss: 0.0320, Train Accuracy: 0.9912, Val Loss: 0.0050, Val Accuracy: 1.0000\n"
     ]
    },
    {
     "name": "stderr",
     "output_type": "stream",
     "text": [
      "Training Epoch 4/5: 100%|██████████| 25/25 [00:08<00:00,  3.11it/s]\n",
      "Evaluating on validation set...: 100%|██████████| 3/3 [00:00<00:00,  4.54it/s]\n"
     ]
    },
    {
     "name": "stdout",
     "output_type": "stream",
     "text": [
      "Epoch [4/5], Train Loss: 0.0201, Train Accuracy: 0.9937, Val Loss: 0.0093, Val Accuracy: 1.0000\n"
     ]
    },
    {
     "name": "stderr",
     "output_type": "stream",
     "text": [
      "Training Epoch 5/5: 100%|██████████| 25/25 [00:08<00:00,  3.12it/s]\n",
      "Evaluating on validation set...: 100%|██████████| 3/3 [00:00<00:00,  4.74it/s]\n"
     ]
    },
    {
     "name": "stdout",
     "output_type": "stream",
     "text": [
      "Epoch [5/5], Train Loss: 0.0055, Train Accuracy: 1.0000, Val Loss: 0.0006, Val Accuracy: 1.0000\n",
      "Training complete for ./sisa_updated_models/shard_0_slice_1_EffNetB0_AFHQ. Training stats saved to './sisa_updated_models/shard_0_slice_1_EffNetB0_AFHQ_history.json'.\n",
      "  Retraining slice: slice_2\n"
     ]
    },
    {
     "name": "stderr",
     "output_type": "stream",
     "text": [
      "Training Epoch 1/5: 100%|██████████| 25/25 [00:09<00:00,  2.77it/s]\n",
      "Evaluating on validation set...: 100%|██████████| 3/3 [00:00<00:00,  4.23it/s]\n"
     ]
    },
    {
     "name": "stdout",
     "output_type": "stream",
     "text": [
      "Epoch [1/5], Train Loss: 0.0411, Train Accuracy: 0.9835, Val Loss: 0.0313, Val Accuracy: 0.9885\n",
      "Epoch 1: New best validation accuracy: 0.9885. Model saved to ./sisa_updated_models/shard_0_slice_2_EffNetB0_AFHQ_model.pth.\n"
     ]
    },
    {
     "name": "stderr",
     "output_type": "stream",
     "text": [
      "Training Epoch 2/5: 100%|██████████| 25/25 [00:08<00:00,  3.11it/s]\n",
      "Evaluating on validation set...: 100%|██████████| 3/3 [00:00<00:00,  4.21it/s]\n"
     ]
    },
    {
     "name": "stdout",
     "output_type": "stream",
     "text": [
      "Epoch [2/5], Train Loss: 0.0466, Train Accuracy: 0.9860, Val Loss: 0.0257, Val Accuracy: 0.9770\n"
     ]
    },
    {
     "name": "stderr",
     "output_type": "stream",
     "text": [
      "Training Epoch 3/5: 100%|██████████| 25/25 [00:08<00:00,  3.03it/s]\n",
      "Evaluating on validation set...: 100%|██████████| 3/3 [00:00<00:00,  4.76it/s]\n"
     ]
    },
    {
     "name": "stdout",
     "output_type": "stream",
     "text": [
      "Epoch [3/5], Train Loss: 0.0112, Train Accuracy: 0.9975, Val Loss: 0.0148, Val Accuracy: 0.9885\n"
     ]
    },
    {
     "name": "stderr",
     "output_type": "stream",
     "text": [
      "Training Epoch 4/5: 100%|██████████| 25/25 [00:08<00:00,  3.11it/s]\n",
      "Evaluating on validation set...: 100%|██████████| 3/3 [00:00<00:00,  4.73it/s]\n"
     ]
    },
    {
     "name": "stdout",
     "output_type": "stream",
     "text": [
      "Epoch [4/5], Train Loss: 0.0665, Train Accuracy: 0.9886, Val Loss: 0.1090, Val Accuracy: 0.9425\n"
     ]
    },
    {
     "name": "stderr",
     "output_type": "stream",
     "text": [
      "Training Epoch 5/5: 100%|██████████| 25/25 [00:08<00:00,  3.01it/s]\n",
      "Evaluating on validation set...: 100%|██████████| 3/3 [00:00<00:00,  3.95it/s]\n"
     ]
    },
    {
     "name": "stdout",
     "output_type": "stream",
     "text": [
      "Epoch [5/5], Train Loss: 0.0155, Train Accuracy: 0.9962, Val Loss: 0.0198, Val Accuracy: 0.9885\n",
      "Training complete for ./sisa_updated_models/shard_0_slice_2_EffNetB0_AFHQ. Training stats saved to './sisa_updated_models/shard_0_slice_2_EffNetB0_AFHQ_history.json'.\n",
      "  Retraining slice: slice_3\n"
     ]
    },
    {
     "name": "stderr",
     "output_type": "stream",
     "text": [
      "Training Epoch 1/5: 100%|██████████| 25/25 [00:09<00:00,  2.77it/s]\n",
      "Evaluating on validation set...: 100%|██████████| 3/3 [00:00<00:00,  4.24it/s]\n"
     ]
    },
    {
     "name": "stdout",
     "output_type": "stream",
     "text": [
      "Epoch [1/5], Train Loss: 0.0400, Train Accuracy: 0.9885, Val Loss: 0.0067, Val Accuracy: 1.0000\n",
      "Epoch 1: New best validation accuracy: 1.0000. Model saved to ./sisa_updated_models/shard_0_slice_3_EffNetB0_AFHQ_model.pth.\n"
     ]
    },
    {
     "name": "stderr",
     "output_type": "stream",
     "text": [
      "Training Epoch 2/5: 100%|██████████| 25/25 [00:07<00:00,  3.14it/s]\n",
      "Evaluating on validation set...: 100%|██████████| 3/3 [00:00<00:00,  4.47it/s]\n"
     ]
    },
    {
     "name": "stdout",
     "output_type": "stream",
     "text": [
      "Epoch [2/5], Train Loss: 0.0537, Train Accuracy: 0.9834, Val Loss: 0.0338, Val Accuracy: 0.9770\n"
     ]
    },
    {
     "name": "stderr",
     "output_type": "stream",
     "text": [
      "Training Epoch 3/5: 100%|██████████| 25/25 [00:08<00:00,  3.07it/s]\n",
      "Evaluating on validation set...: 100%|██████████| 3/3 [00:00<00:00,  3.28it/s]\n"
     ]
    },
    {
     "name": "stdout",
     "output_type": "stream",
     "text": [
      "Epoch [3/5], Train Loss: 0.0497, Train Accuracy: 0.9860, Val Loss: 0.0066, Val Accuracy: 1.0000\n"
     ]
    },
    {
     "name": "stderr",
     "output_type": "stream",
     "text": [
      "Training Epoch 4/5: 100%|██████████| 25/25 [00:07<00:00,  3.14it/s]\n",
      "Evaluating on validation set...: 100%|██████████| 3/3 [00:00<00:00,  4.63it/s]\n"
     ]
    },
    {
     "name": "stdout",
     "output_type": "stream",
     "text": [
      "Epoch [4/5], Train Loss: 0.0219, Train Accuracy: 0.9923, Val Loss: 0.0323, Val Accuracy: 0.9885\n"
     ]
    },
    {
     "name": "stderr",
     "output_type": "stream",
     "text": [
      "Training Epoch 5/5: 100%|██████████| 25/25 [00:07<00:00,  3.15it/s]\n",
      "Evaluating on validation set...: 100%|██████████| 3/3 [00:00<00:00,  4.51it/s]\n"
     ]
    },
    {
     "name": "stdout",
     "output_type": "stream",
     "text": [
      "Epoch [5/5], Train Loss: 0.0089, Train Accuracy: 0.9974, Val Loss: 0.0214, Val Accuracy: 0.9885\n",
      "Training complete for ./sisa_updated_models/shard_0_slice_3_EffNetB0_AFHQ. Training stats saved to './sisa_updated_models/shard_0_slice_3_EffNetB0_AFHQ_history.json'.\n",
      "  Retraining slice: slice_4\n"
     ]
    },
    {
     "name": "stderr",
     "output_type": "stream",
     "text": [
      "Training Epoch 1/5: 100%|██████████| 25/25 [00:08<00:00,  2.90it/s]\n",
      "Evaluating on validation set...: 100%|██████████| 3/3 [00:00<00:00,  4.42it/s]\n"
     ]
    },
    {
     "name": "stdout",
     "output_type": "stream",
     "text": [
      "Epoch [1/5], Train Loss: 0.0561, Train Accuracy: 0.9758, Val Loss: 0.0296, Val Accuracy: 0.9770\n",
      "Epoch 1: New best validation accuracy: 0.9770. Model saved to ./sisa_updated_models/shard_0_slice_4_EffNetB0_AFHQ_model.pth.\n"
     ]
    },
    {
     "name": "stderr",
     "output_type": "stream",
     "text": [
      "Training Epoch 2/5: 100%|██████████| 25/25 [00:08<00:00,  3.02it/s]\n",
      "Evaluating on validation set...: 100%|██████████| 3/3 [00:00<00:00,  4.49it/s]\n"
     ]
    },
    {
     "name": "stdout",
     "output_type": "stream",
     "text": [
      "Epoch [2/5], Train Loss: 0.0286, Train Accuracy: 0.9924, Val Loss: 0.0908, Val Accuracy: 0.9770\n"
     ]
    },
    {
     "name": "stderr",
     "output_type": "stream",
     "text": [
      "Training Epoch 3/5: 100%|██████████| 25/25 [00:08<00:00,  3.07it/s]\n",
      "Evaluating on validation set...: 100%|██████████| 3/3 [00:00<00:00,  4.21it/s]\n"
     ]
    },
    {
     "name": "stdout",
     "output_type": "stream",
     "text": [
      "Epoch [3/5], Train Loss: 0.0021, Train Accuracy: 1.0000, Val Loss: 0.0780, Val Accuracy: 0.9770\n"
     ]
    },
    {
     "name": "stderr",
     "output_type": "stream",
     "text": [
      "Training Epoch 4/5: 100%|██████████| 25/25 [00:07<00:00,  3.18it/s]\n",
      "Evaluating on validation set...: 100%|██████████| 3/3 [00:00<00:00,  4.79it/s]\n"
     ]
    },
    {
     "name": "stdout",
     "output_type": "stream",
     "text": [
      "Epoch [4/5], Train Loss: 0.0023, Train Accuracy: 0.9987, Val Loss: 0.1127, Val Accuracy: 0.9770\n"
     ]
    },
    {
     "name": "stderr",
     "output_type": "stream",
     "text": [
      "Training Epoch 5/5: 100%|██████████| 25/25 [00:07<00:00,  3.14it/s]\n",
      "Evaluating on validation set...: 100%|██████████| 3/3 [00:00<00:00,  4.71it/s]\n"
     ]
    },
    {
     "name": "stdout",
     "output_type": "stream",
     "text": [
      "Epoch [5/5], Train Loss: 0.0007, Train Accuracy: 1.0000, Val Loss: 0.1068, Val Accuracy: 0.9770\n",
      "Training complete for ./sisa_updated_models/shard_0_slice_4_EffNetB0_AFHQ. Training stats saved to './sisa_updated_models/shard_0_slice_4_EffNetB0_AFHQ_history.json'.\n",
      "Saved updated model for shard_0 to ./sisa_updated_models/shard_0_final_model.pth\n",
      "Retraining shard: shard_1\n",
      "Init model...\n",
      "Done initializing model.\n",
      "Model ID: 135575471319040, Optimizer ID: 135575560364832, Criterion ID: 135575560363824\n",
      "  Retraining slice: slice_0\n"
     ]
    },
    {
     "name": "stderr",
     "output_type": "stream",
     "text": [
      "Training Epoch 1/5: 100%|██████████| 25/25 [00:08<00:00,  2.81it/s]\n",
      "Evaluating on validation set...: 100%|██████████| 3/3 [00:00<00:00,  4.30it/s]\n"
     ]
    },
    {
     "name": "stdout",
     "output_type": "stream",
     "text": [
      "Epoch [1/5], Train Loss: 0.2546, Train Accuracy: 0.9198, Val Loss: 0.0160, Val Accuracy: 1.0000\n",
      "Epoch 1: New best validation accuracy: 1.0000. Model saved to ./sisa_updated_models/shard_1_slice_0_EffNetB0_AFHQ_model.pth.\n"
     ]
    },
    {
     "name": "stderr",
     "output_type": "stream",
     "text": [
      "Training Epoch 2/5: 100%|██████████| 25/25 [00:07<00:00,  3.13it/s]\n",
      "Evaluating on validation set...: 100%|██████████| 3/3 [00:00<00:00,  4.87it/s]\n"
     ]
    },
    {
     "name": "stdout",
     "output_type": "stream",
     "text": [
      "Epoch [2/5], Train Loss: 0.0666, Train Accuracy: 0.9771, Val Loss: 0.0600, Val Accuracy: 0.9885\n"
     ]
    },
    {
     "name": "stderr",
     "output_type": "stream",
     "text": [
      "Training Epoch 3/5: 100%|██████████| 25/25 [00:07<00:00,  3.13it/s]\n",
      "Evaluating on validation set...: 100%|██████████| 3/3 [00:00<00:00,  4.98it/s]\n"
     ]
    },
    {
     "name": "stdout",
     "output_type": "stream",
     "text": [
      "Epoch [3/5], Train Loss: 0.0565, Train Accuracy: 0.9796, Val Loss: 0.0407, Val Accuracy: 0.9885\n"
     ]
    },
    {
     "name": "stderr",
     "output_type": "stream",
     "text": [
      "Training Epoch 4/5: 100%|██████████| 25/25 [00:08<00:00,  3.00it/s]\n",
      "Evaluating on validation set...: 100%|██████████| 3/3 [00:00<00:00,  4.88it/s]\n"
     ]
    },
    {
     "name": "stdout",
     "output_type": "stream",
     "text": [
      "Epoch [4/5], Train Loss: 0.0412, Train Accuracy: 0.9860, Val Loss: 0.0511, Val Accuracy: 0.9885\n"
     ]
    },
    {
     "name": "stderr",
     "output_type": "stream",
     "text": [
      "Training Epoch 5/5: 100%|██████████| 25/25 [00:08<00:00,  3.10it/s]\n",
      "Evaluating on validation set...: 100%|██████████| 3/3 [00:00<00:00,  4.91it/s]\n"
     ]
    },
    {
     "name": "stdout",
     "output_type": "stream",
     "text": [
      "Epoch [5/5], Train Loss: 0.0415, Train Accuracy: 0.9873, Val Loss: 0.0785, Val Accuracy: 0.9885\n",
      "Training complete for ./sisa_updated_models/shard_1_slice_0_EffNetB0_AFHQ. Training stats saved to './sisa_updated_models/shard_1_slice_0_EffNetB0_AFHQ_history.json'.\n",
      "  Retraining slice: slice_1\n"
     ]
    },
    {
     "name": "stderr",
     "output_type": "stream",
     "text": [
      "Training Epoch 1/5: 100%|██████████| 25/25 [00:08<00:00,  3.03it/s]\n",
      "Evaluating on validation set...: 100%|██████████| 3/3 [00:00<00:00,  4.49it/s]\n"
     ]
    },
    {
     "name": "stdout",
     "output_type": "stream",
     "text": [
      "Epoch [1/5], Train Loss: 0.0849, Train Accuracy: 0.9743, Val Loss: 0.0425, Val Accuracy: 1.0000\n",
      "Epoch 1: New best validation accuracy: 1.0000. Model saved to ./sisa_updated_models/shard_1_slice_1_EffNetB0_AFHQ_model.pth.\n"
     ]
    },
    {
     "name": "stderr",
     "output_type": "stream",
     "text": [
      "Training Epoch 2/5: 100%|██████████| 25/25 [00:08<00:00,  3.12it/s]\n",
      "Evaluating on validation set...: 100%|██████████| 3/3 [00:00<00:00,  4.92it/s]\n"
     ]
    },
    {
     "name": "stdout",
     "output_type": "stream",
     "text": [
      "Epoch [2/5], Train Loss: 0.0321, Train Accuracy: 0.9884, Val Loss: 0.0044, Val Accuracy: 1.0000\n"
     ]
    },
    {
     "name": "stderr",
     "output_type": "stream",
     "text": [
      "Training Epoch 3/5: 100%|██████████| 25/25 [00:08<00:00,  3.04it/s]\n",
      "Evaluating on validation set...: 100%|██████████| 3/3 [00:00<00:00,  4.72it/s]\n"
     ]
    },
    {
     "name": "stdout",
     "output_type": "stream",
     "text": [
      "Epoch [3/5], Train Loss: 0.0227, Train Accuracy: 0.9910, Val Loss: 0.0019, Val Accuracy: 1.0000\n"
     ]
    },
    {
     "name": "stderr",
     "output_type": "stream",
     "text": [
      "Training Epoch 4/5: 100%|██████████| 25/25 [00:07<00:00,  3.18it/s]\n",
      "Evaluating on validation set...: 100%|██████████| 3/3 [00:00<00:00,  4.91it/s]\n"
     ]
    },
    {
     "name": "stdout",
     "output_type": "stream",
     "text": [
      "Epoch [4/5], Train Loss: 0.0080, Train Accuracy: 0.9987, Val Loss: 0.0019, Val Accuracy: 1.0000\n"
     ]
    },
    {
     "name": "stderr",
     "output_type": "stream",
     "text": [
      "Training Epoch 5/5: 100%|██████████| 25/25 [00:07<00:00,  3.21it/s]\n",
      "Evaluating on validation set...: 100%|██████████| 3/3 [00:00<00:00,  4.84it/s]\n"
     ]
    },
    {
     "name": "stdout",
     "output_type": "stream",
     "text": [
      "Epoch [5/5], Train Loss: 0.0036, Train Accuracy: 1.0000, Val Loss: 0.0240, Val Accuracy: 0.9884\n",
      "Training complete for ./sisa_updated_models/shard_1_slice_1_EffNetB0_AFHQ. Training stats saved to './sisa_updated_models/shard_1_slice_1_EffNetB0_AFHQ_history.json'.\n",
      "  Retraining slice: slice_2\n"
     ]
    },
    {
     "name": "stderr",
     "output_type": "stream",
     "text": [
      "Training Epoch 1/5: 100%|██████████| 25/25 [00:08<00:00,  3.03it/s]\n",
      "Evaluating on validation set...: 100%|██████████| 3/3 [00:00<00:00,  4.56it/s]\n"
     ]
    },
    {
     "name": "stdout",
     "output_type": "stream",
     "text": [
      "Epoch [1/5], Train Loss: 0.0469, Train Accuracy: 0.9912, Val Loss: 0.0105, Val Accuracy: 1.0000\n",
      "Epoch 1: New best validation accuracy: 1.0000. Model saved to ./sisa_updated_models/shard_1_slice_2_EffNetB0_AFHQ_model.pth.\n"
     ]
    },
    {
     "name": "stderr",
     "output_type": "stream",
     "text": [
      "Training Epoch 2/5: 100%|██████████| 25/25 [00:07<00:00,  3.14it/s]\n",
      "Evaluating on validation set...: 100%|██████████| 3/3 [00:00<00:00,  4.82it/s]\n"
     ]
    },
    {
     "name": "stdout",
     "output_type": "stream",
     "text": [
      "Epoch [2/5], Train Loss: 0.0633, Train Accuracy: 0.9773, Val Loss: 0.0013, Val Accuracy: 1.0000\n"
     ]
    },
    {
     "name": "stderr",
     "output_type": "stream",
     "text": [
      "Training Epoch 3/5: 100%|██████████| 25/25 [00:07<00:00,  3.16it/s]\n",
      "Evaluating on validation set...: 100%|██████████| 3/3 [00:00<00:00,  4.28it/s]\n"
     ]
    },
    {
     "name": "stdout",
     "output_type": "stream",
     "text": [
      "Epoch [3/5], Train Loss: 0.0330, Train Accuracy: 0.9874, Val Loss: 0.0800, Val Accuracy: 0.9659\n"
     ]
    },
    {
     "name": "stderr",
     "output_type": "stream",
     "text": [
      "Training Epoch 4/5: 100%|██████████| 25/25 [00:08<00:00,  3.11it/s]\n",
      "Evaluating on validation set...: 100%|██████████| 3/3 [00:00<00:00,  4.63it/s]\n"
     ]
    },
    {
     "name": "stdout",
     "output_type": "stream",
     "text": [
      "Epoch [4/5], Train Loss: 0.0179, Train Accuracy: 0.9924, Val Loss: 0.0524, Val Accuracy: 0.9886\n"
     ]
    },
    {
     "name": "stderr",
     "output_type": "stream",
     "text": [
      "Training Epoch 5/5: 100%|██████████| 25/25 [00:08<00:00,  3.07it/s]\n",
      "Evaluating on validation set...: 100%|██████████| 3/3 [00:00<00:00,  4.78it/s]\n"
     ]
    },
    {
     "name": "stdout",
     "output_type": "stream",
     "text": [
      "Epoch [5/5], Train Loss: 0.0202, Train Accuracy: 0.9924, Val Loss: 0.0225, Val Accuracy: 0.9773\n",
      "Training complete for ./sisa_updated_models/shard_1_slice_2_EffNetB0_AFHQ. Training stats saved to './sisa_updated_models/shard_1_slice_2_EffNetB0_AFHQ_history.json'.\n",
      "  Retraining slice: slice_3\n"
     ]
    },
    {
     "name": "stderr",
     "output_type": "stream",
     "text": [
      "Training Epoch 1/5: 100%|██████████| 25/25 [00:08<00:00,  2.93it/s]\n",
      "Evaluating on validation set...: 100%|██████████| 3/3 [00:00<00:00,  4.60it/s]\n"
     ]
    },
    {
     "name": "stdout",
     "output_type": "stream",
     "text": [
      "Epoch [1/5], Train Loss: 0.0366, Train Accuracy: 0.9874, Val Loss: 0.0505, Val Accuracy: 0.9773\n",
      "Epoch 1: New best validation accuracy: 0.9773. Model saved to ./sisa_updated_models/shard_1_slice_3_EffNetB0_AFHQ_model.pth.\n"
     ]
    },
    {
     "name": "stderr",
     "output_type": "stream",
     "text": [
      "Training Epoch 2/5: 100%|██████████| 25/25 [00:08<00:00,  3.11it/s]\n",
      "Evaluating on validation set...: 100%|██████████| 3/3 [00:00<00:00,  4.50it/s]\n"
     ]
    },
    {
     "name": "stdout",
     "output_type": "stream",
     "text": [
      "Epoch [2/5], Train Loss: 0.0085, Train Accuracy: 0.9962, Val Loss: 0.0212, Val Accuracy: 0.9886\n",
      "Epoch 2: New best validation accuracy: 0.9886. Model saved to ./sisa_updated_models/shard_1_slice_3_EffNetB0_AFHQ_model.pth.\n"
     ]
    },
    {
     "name": "stderr",
     "output_type": "stream",
     "text": [
      "Training Epoch 3/5: 100%|██████████| 25/25 [00:08<00:00,  3.11it/s]\n",
      "Evaluating on validation set...: 100%|██████████| 3/3 [00:00<00:00,  4.78it/s]\n"
     ]
    },
    {
     "name": "stdout",
     "output_type": "stream",
     "text": [
      "Epoch [3/5], Train Loss: 0.0042, Train Accuracy: 0.9987, Val Loss: 0.0100, Val Accuracy: 1.0000\n",
      "Epoch 3: New best validation accuracy: 1.0000. Model saved to ./sisa_updated_models/shard_1_slice_3_EffNetB0_AFHQ_model.pth.\n"
     ]
    },
    {
     "name": "stderr",
     "output_type": "stream",
     "text": [
      "Training Epoch 4/5: 100%|██████████| 25/25 [00:07<00:00,  3.14it/s]\n",
      "Evaluating on validation set...: 100%|██████████| 3/3 [00:00<00:00,  4.88it/s]\n"
     ]
    },
    {
     "name": "stdout",
     "output_type": "stream",
     "text": [
      "Epoch [4/5], Train Loss: 0.0232, Train Accuracy: 0.9912, Val Loss: 0.0609, Val Accuracy: 0.9773\n"
     ]
    },
    {
     "name": "stderr",
     "output_type": "stream",
     "text": [
      "Training Epoch 5/5: 100%|██████████| 25/25 [00:08<00:00,  3.00it/s]\n",
      "Evaluating on validation set...: 100%|██████████| 3/3 [00:00<00:00,  4.74it/s]\n"
     ]
    },
    {
     "name": "stdout",
     "output_type": "stream",
     "text": [
      "Epoch [5/5], Train Loss: 0.0088, Train Accuracy: 0.9975, Val Loss: 0.0194, Val Accuracy: 1.0000\n",
      "Training complete for ./sisa_updated_models/shard_1_slice_3_EffNetB0_AFHQ. Training stats saved to './sisa_updated_models/shard_1_slice_3_EffNetB0_AFHQ_history.json'.\n",
      "  Retraining slice: slice_4\n"
     ]
    },
    {
     "name": "stderr",
     "output_type": "stream",
     "text": [
      "Training Epoch 1/5: 100%|██████████| 26/26 [00:08<00:00,  2.98it/s]\n",
      "Evaluating on validation set...: 100%|██████████| 3/3 [00:00<00:00,  3.93it/s]\n"
     ]
    },
    {
     "name": "stdout",
     "output_type": "stream",
     "text": [
      "Epoch [1/5], Train Loss: 0.0469, Train Accuracy: 0.9863, Val Loss: 0.0556, Val Accuracy: 0.9775\n",
      "Epoch 1: New best validation accuracy: 0.9775. Model saved to ./sisa_updated_models/shard_1_slice_4_EffNetB0_AFHQ_model.pth.\n"
     ]
    },
    {
     "name": "stderr",
     "output_type": "stream",
     "text": [
      "Training Epoch 2/5: 100%|██████████| 26/26 [00:08<00:00,  3.18it/s]\n",
      "Evaluating on validation set...: 100%|██████████| 3/3 [00:00<00:00,  4.66it/s]\n"
     ]
    },
    {
     "name": "stdout",
     "output_type": "stream",
     "text": [
      "Epoch [2/5], Train Loss: 0.0182, Train Accuracy: 0.9925, Val Loss: 0.0362, Val Accuracy: 0.9888\n",
      "Epoch 2: New best validation accuracy: 0.9888. Model saved to ./sisa_updated_models/shard_1_slice_4_EffNetB0_AFHQ_model.pth.\n"
     ]
    },
    {
     "name": "stderr",
     "output_type": "stream",
     "text": [
      "Training Epoch 3/5: 100%|██████████| 26/26 [00:08<00:00,  3.21it/s]\n",
      "Evaluating on validation set...: 100%|██████████| 3/3 [00:00<00:00,  4.60it/s]\n"
     ]
    },
    {
     "name": "stdout",
     "output_type": "stream",
     "text": [
      "Epoch [3/5], Train Loss: 0.0868, Train Accuracy: 0.9750, Val Loss: 0.0205, Val Accuracy: 0.9888\n"
     ]
    },
    {
     "name": "stderr",
     "output_type": "stream",
     "text": [
      "Training Epoch 4/5: 100%|██████████| 26/26 [00:08<00:00,  3.19it/s]\n",
      "Evaluating on validation set...: 100%|██████████| 3/3 [00:00<00:00,  4.57it/s]\n"
     ]
    },
    {
     "name": "stdout",
     "output_type": "stream",
     "text": [
      "Epoch [4/5], Train Loss: 0.0597, Train Accuracy: 0.9863, Val Loss: 0.0182, Val Accuracy: 0.9888\n"
     ]
    },
    {
     "name": "stderr",
     "output_type": "stream",
     "text": [
      "Training Epoch 5/5: 100%|██████████| 26/26 [00:08<00:00,  3.18it/s]\n",
      "Evaluating on validation set...: 100%|██████████| 3/3 [00:00<00:00,  4.61it/s]\n"
     ]
    },
    {
     "name": "stdout",
     "output_type": "stream",
     "text": [
      "Epoch [5/5], Train Loss: 0.0373, Train Accuracy: 0.9888, Val Loss: 0.1062, Val Accuracy: 0.9663\n",
      "Training complete for ./sisa_updated_models/shard_1_slice_4_EffNetB0_AFHQ. Training stats saved to './sisa_updated_models/shard_1_slice_4_EffNetB0_AFHQ_history.json'.\n",
      "Saved updated model for shard_1 to ./sisa_updated_models/shard_1_final_model.pth\n",
      "Retraining shard: shard_2\n",
      "Init model...\n",
      "Done initializing model.\n",
      "Model ID: 135575560363728, Optimizer ID: 135575560359408, Criterion ID: 135575560361616\n",
      "  Retraining slice: slice_0\n"
     ]
    },
    {
     "name": "stderr",
     "output_type": "stream",
     "text": [
      "Training Epoch 1/5: 100%|██████████| 25/25 [00:08<00:00,  2.87it/s]\n",
      "Evaluating on validation set...: 100%|██████████| 3/3 [00:00<00:00,  4.14it/s]\n"
     ]
    },
    {
     "name": "stdout",
     "output_type": "stream",
     "text": [
      "Epoch [1/5], Train Loss: 0.2357, Train Accuracy: 0.9322, Val Loss: 0.1072, Val Accuracy: 0.9545\n",
      "Epoch 1: New best validation accuracy: 0.9545. Model saved to ./sisa_updated_models/shard_2_slice_0_EffNetB0_AFHQ_model.pth.\n"
     ]
    },
    {
     "name": "stderr",
     "output_type": "stream",
     "text": [
      "Training Epoch 2/5: 100%|██████████| 25/25 [00:08<00:00,  3.10it/s]\n",
      "Evaluating on validation set...: 100%|██████████| 3/3 [00:00<00:00,  4.73it/s]\n"
     ]
    },
    {
     "name": "stdout",
     "output_type": "stream",
     "text": [
      "Epoch [2/5], Train Loss: 0.0616, Train Accuracy: 0.9799, Val Loss: 0.0776, Val Accuracy: 0.9773\n",
      "Epoch 2: New best validation accuracy: 0.9773. Model saved to ./sisa_updated_models/shard_2_slice_0_EffNetB0_AFHQ_model.pth.\n"
     ]
    },
    {
     "name": "stderr",
     "output_type": "stream",
     "text": [
      "Training Epoch 3/5: 100%|██████████| 25/25 [00:08<00:00,  3.03it/s]\n",
      "Evaluating on validation set...: 100%|██████████| 3/3 [00:00<00:00,  4.62it/s]\n"
     ]
    },
    {
     "name": "stdout",
     "output_type": "stream",
     "text": [
      "Epoch [3/5], Train Loss: 0.0639, Train Accuracy: 0.9812, Val Loss: 0.0179, Val Accuracy: 0.9886\n",
      "Epoch 3: New best validation accuracy: 0.9886. Model saved to ./sisa_updated_models/shard_2_slice_0_EffNetB0_AFHQ_model.pth.\n"
     ]
    },
    {
     "name": "stderr",
     "output_type": "stream",
     "text": [
      "Training Epoch 4/5: 100%|██████████| 25/25 [00:08<00:00,  3.11it/s]\n",
      "Evaluating on validation set...: 100%|██████████| 3/3 [00:00<00:00,  4.29it/s]\n"
     ]
    },
    {
     "name": "stdout",
     "output_type": "stream",
     "text": [
      "Epoch [4/5], Train Loss: 0.0189, Train Accuracy: 0.9950, Val Loss: 0.0207, Val Accuracy: 0.9886\n"
     ]
    },
    {
     "name": "stderr",
     "output_type": "stream",
     "text": [
      "Training Epoch 5/5: 100%|██████████| 25/25 [00:07<00:00,  3.13it/s]\n",
      "Evaluating on validation set...: 100%|██████████| 3/3 [00:00<00:00,  4.99it/s]\n"
     ]
    },
    {
     "name": "stdout",
     "output_type": "stream",
     "text": [
      "Epoch [5/5], Train Loss: 0.0403, Train Accuracy: 0.9887, Val Loss: 0.0541, Val Accuracy: 0.9773\n",
      "Training complete for ./sisa_updated_models/shard_2_slice_0_EffNetB0_AFHQ. Training stats saved to './sisa_updated_models/shard_2_slice_0_EffNetB0_AFHQ_history.json'.\n",
      "  Retraining slice: slice_1\n"
     ]
    },
    {
     "name": "stderr",
     "output_type": "stream",
     "text": [
      "Training Epoch 1/5: 100%|██████████| 25/25 [00:08<00:00,  2.91it/s]\n",
      "Evaluating on validation set...: 100%|██████████| 3/3 [00:00<00:00,  4.41it/s]\n"
     ]
    },
    {
     "name": "stdout",
     "output_type": "stream",
     "text": [
      "Epoch [1/5], Train Loss: 0.1248, Train Accuracy: 0.9597, Val Loss: 0.1085, Val Accuracy: 0.9773\n",
      "Epoch 1: New best validation accuracy: 0.9773. Model saved to ./sisa_updated_models/shard_2_slice_1_EffNetB0_AFHQ_model.pth.\n"
     ]
    },
    {
     "name": "stderr",
     "output_type": "stream",
     "text": [
      "Training Epoch 2/5: 100%|██████████| 25/25 [00:07<00:00,  3.15it/s]\n",
      "Evaluating on validation set...: 100%|██████████| 3/3 [00:00<00:00,  4.43it/s]\n"
     ]
    },
    {
     "name": "stdout",
     "output_type": "stream",
     "text": [
      "Epoch [2/5], Train Loss: 0.0567, Train Accuracy: 0.9811, Val Loss: 0.0464, Val Accuracy: 0.9773\n"
     ]
    },
    {
     "name": "stderr",
     "output_type": "stream",
     "text": [
      "Training Epoch 3/5: 100%|██████████| 25/25 [00:08<00:00,  3.12it/s]\n",
      "Evaluating on validation set...: 100%|██████████| 3/3 [00:00<00:00,  4.85it/s]\n"
     ]
    },
    {
     "name": "stdout",
     "output_type": "stream",
     "text": [
      "Epoch [3/5], Train Loss: 0.0481, Train Accuracy: 0.9899, Val Loss: 0.0151, Val Accuracy: 1.0000\n",
      "Epoch 3: New best validation accuracy: 1.0000. Model saved to ./sisa_updated_models/shard_2_slice_1_EffNetB0_AFHQ_model.pth.\n"
     ]
    },
    {
     "name": "stderr",
     "output_type": "stream",
     "text": [
      "Training Epoch 4/5: 100%|██████████| 25/25 [00:08<00:00,  3.10it/s]\n",
      "Evaluating on validation set...: 100%|██████████| 3/3 [00:00<00:00,  4.42it/s]\n"
     ]
    },
    {
     "name": "stdout",
     "output_type": "stream",
     "text": [
      "Epoch [4/5], Train Loss: 0.0215, Train Accuracy: 0.9950, Val Loss: 0.1484, Val Accuracy: 0.9773\n"
     ]
    },
    {
     "name": "stderr",
     "output_type": "stream",
     "text": [
      "Training Epoch 5/5: 100%|██████████| 25/25 [00:08<00:00,  3.05it/s]\n",
      "Evaluating on validation set...: 100%|██████████| 3/3 [00:00<00:00,  4.16it/s]\n"
     ]
    },
    {
     "name": "stdout",
     "output_type": "stream",
     "text": [
      "Epoch [5/5], Train Loss: 0.0170, Train Accuracy: 0.9962, Val Loss: 0.0483, Val Accuracy: 0.9773\n",
      "Training complete for ./sisa_updated_models/shard_2_slice_1_EffNetB0_AFHQ. Training stats saved to './sisa_updated_models/shard_2_slice_1_EffNetB0_AFHQ_history.json'.\n",
      "  Retraining slice: slice_2\n"
     ]
    },
    {
     "name": "stderr",
     "output_type": "stream",
     "text": [
      "Training Epoch 1/5: 100%|██████████| 25/25 [00:08<00:00,  2.93it/s]\n",
      "Evaluating on validation set...: 100%|██████████| 3/3 [00:00<00:00,  4.61it/s]\n"
     ]
    },
    {
     "name": "stdout",
     "output_type": "stream",
     "text": [
      "Epoch [1/5], Train Loss: 0.0719, Train Accuracy: 0.9848, Val Loss: 0.0200, Val Accuracy: 0.9885\n",
      "Epoch 1: New best validation accuracy: 0.9885. Model saved to ./sisa_updated_models/shard_2_slice_2_EffNetB0_AFHQ_model.pth.\n"
     ]
    },
    {
     "name": "stderr",
     "output_type": "stream",
     "text": [
      "Training Epoch 2/5: 100%|██████████| 25/25 [00:08<00:00,  3.06it/s]\n",
      "Evaluating on validation set...: 100%|██████████| 3/3 [00:00<00:00,  4.80it/s]\n"
     ]
    },
    {
     "name": "stdout",
     "output_type": "stream",
     "text": [
      "Epoch [2/5], Train Loss: 0.0114, Train Accuracy: 0.9987, Val Loss: 0.0008, Val Accuracy: 1.0000\n",
      "Epoch 2: New best validation accuracy: 1.0000. Model saved to ./sisa_updated_models/shard_2_slice_2_EffNetB0_AFHQ_model.pth.\n"
     ]
    },
    {
     "name": "stderr",
     "output_type": "stream",
     "text": [
      "Training Epoch 3/5: 100%|██████████| 25/25 [00:08<00:00,  3.12it/s]\n",
      "Evaluating on validation set...: 100%|██████████| 3/3 [00:00<00:00,  4.66it/s]\n"
     ]
    },
    {
     "name": "stdout",
     "output_type": "stream",
     "text": [
      "Epoch [3/5], Train Loss: 0.0040, Train Accuracy: 0.9987, Val Loss: 0.0031, Val Accuracy: 1.0000\n"
     ]
    },
    {
     "name": "stderr",
     "output_type": "stream",
     "text": [
      "Training Epoch 4/5: 100%|██████████| 25/25 [00:08<00:00,  2.99it/s]\n",
      "Evaluating on validation set...: 100%|██████████| 3/3 [00:00<00:00,  4.12it/s]\n"
     ]
    },
    {
     "name": "stdout",
     "output_type": "stream",
     "text": [
      "Epoch [4/5], Train Loss: 0.0012, Train Accuracy: 1.0000, Val Loss: 0.0013, Val Accuracy: 1.0000\n"
     ]
    },
    {
     "name": "stderr",
     "output_type": "stream",
     "text": [
      "Training Epoch 5/5: 100%|██████████| 25/25 [00:08<00:00,  3.05it/s]\n",
      "Evaluating on validation set...: 100%|██████████| 3/3 [00:00<00:00,  4.64it/s]\n"
     ]
    },
    {
     "name": "stdout",
     "output_type": "stream",
     "text": [
      "Epoch [5/5], Train Loss: 0.0020, Train Accuracy: 1.0000, Val Loss: 0.0003, Val Accuracy: 1.0000\n",
      "Training complete for ./sisa_updated_models/shard_2_slice_2_EffNetB0_AFHQ. Training stats saved to './sisa_updated_models/shard_2_slice_2_EffNetB0_AFHQ_history.json'.\n",
      "  Retraining slice: slice_3\n"
     ]
    },
    {
     "name": "stderr",
     "output_type": "stream",
     "text": [
      "Training Epoch 1/5: 100%|██████████| 25/25 [00:08<00:00,  2.91it/s]\n",
      "Evaluating on validation set...: 100%|██████████| 3/3 [00:00<00:00,  4.31it/s]\n"
     ]
    },
    {
     "name": "stdout",
     "output_type": "stream",
     "text": [
      "Epoch [1/5], Train Loss: 0.0255, Train Accuracy: 0.9898, Val Loss: 0.2572, Val Accuracy: 0.9425\n",
      "Epoch 1: New best validation accuracy: 0.9425. Model saved to ./sisa_updated_models/shard_2_slice_3_EffNetB0_AFHQ_model.pth.\n"
     ]
    },
    {
     "name": "stderr",
     "output_type": "stream",
     "text": [
      "Training Epoch 2/5: 100%|██████████| 25/25 [00:08<00:00,  3.02it/s]\n",
      "Evaluating on validation set...: 100%|██████████| 3/3 [00:00<00:00,  4.49it/s]\n"
     ]
    },
    {
     "name": "stdout",
     "output_type": "stream",
     "text": [
      "Epoch [2/5], Train Loss: 0.0843, Train Accuracy: 0.9759, Val Loss: 0.1669, Val Accuracy: 0.9310\n"
     ]
    },
    {
     "name": "stderr",
     "output_type": "stream",
     "text": [
      "Training Epoch 3/5: 100%|██████████| 25/25 [00:08<00:00,  3.02it/s]\n",
      "Evaluating on validation set...: 100%|██████████| 3/3 [00:00<00:00,  4.85it/s]\n"
     ]
    },
    {
     "name": "stdout",
     "output_type": "stream",
     "text": [
      "Epoch [3/5], Train Loss: 0.0202, Train Accuracy: 0.9936, Val Loss: 0.2385, Val Accuracy: 0.9425\n"
     ]
    },
    {
     "name": "stderr",
     "output_type": "stream",
     "text": [
      "Training Epoch 4/5: 100%|██████████| 25/25 [00:07<00:00,  3.18it/s]\n",
      "Evaluating on validation set...: 100%|██████████| 3/3 [00:00<00:00,  4.73it/s]\n"
     ]
    },
    {
     "name": "stdout",
     "output_type": "stream",
     "text": [
      "Epoch [4/5], Train Loss: 0.0104, Train Accuracy: 0.9962, Val Loss: 0.1511, Val Accuracy: 0.9655\n",
      "Epoch 4: New best validation accuracy: 0.9655. Model saved to ./sisa_updated_models/shard_2_slice_3_EffNetB0_AFHQ_model.pth.\n"
     ]
    },
    {
     "name": "stderr",
     "output_type": "stream",
     "text": [
      "Training Epoch 5/5: 100%|██████████| 25/25 [00:07<00:00,  3.21it/s]\n",
      "Evaluating on validation set...: 100%|██████████| 3/3 [00:00<00:00,  4.71it/s]\n"
     ]
    },
    {
     "name": "stdout",
     "output_type": "stream",
     "text": [
      "Epoch [5/5], Train Loss: 0.0075, Train Accuracy: 0.9987, Val Loss: 0.2161, Val Accuracy: 0.9540\n",
      "Training complete for ./sisa_updated_models/shard_2_slice_3_EffNetB0_AFHQ. Training stats saved to './sisa_updated_models/shard_2_slice_3_EffNetB0_AFHQ_history.json'.\n",
      "  Retraining slice: slice_4\n"
     ]
    },
    {
     "name": "stderr",
     "output_type": "stream",
     "text": [
      "Training Epoch 1/5: 100%|██████████| 25/25 [00:08<00:00,  3.00it/s]\n",
      "Evaluating on validation set...: 100%|██████████| 3/3 [00:00<00:00,  4.47it/s]\n"
     ]
    },
    {
     "name": "stdout",
     "output_type": "stream",
     "text": [
      "Epoch [1/5], Train Loss: 0.0674, Train Accuracy: 0.9798, Val Loss: 0.0599, Val Accuracy: 0.9540\n",
      "Epoch 1: New best validation accuracy: 0.9540. Model saved to ./sisa_updated_models/shard_2_slice_4_EffNetB0_AFHQ_model.pth.\n"
     ]
    },
    {
     "name": "stderr",
     "output_type": "stream",
     "text": [
      "Training Epoch 2/5: 100%|██████████| 25/25 [00:08<00:00,  3.02it/s]\n",
      "Evaluating on validation set...: 100%|██████████| 3/3 [00:00<00:00,  4.55it/s]\n"
     ]
    },
    {
     "name": "stdout",
     "output_type": "stream",
     "text": [
      "Epoch [2/5], Train Loss: 0.0188, Train Accuracy: 0.9937, Val Loss: 0.0254, Val Accuracy: 0.9885\n",
      "Epoch 2: New best validation accuracy: 0.9885. Model saved to ./sisa_updated_models/shard_2_slice_4_EffNetB0_AFHQ_model.pth.\n"
     ]
    },
    {
     "name": "stderr",
     "output_type": "stream",
     "text": [
      "Training Epoch 3/5: 100%|██████████| 25/25 [00:08<00:00,  3.02it/s]\n",
      "Evaluating on validation set...: 100%|██████████| 3/3 [00:00<00:00,  4.67it/s]\n"
     ]
    },
    {
     "name": "stdout",
     "output_type": "stream",
     "text": [
      "Epoch [3/5], Train Loss: 0.0029, Train Accuracy: 1.0000, Val Loss: 0.0209, Val Accuracy: 0.9885\n"
     ]
    },
    {
     "name": "stderr",
     "output_type": "stream",
     "text": [
      "Training Epoch 4/5: 100%|██████████| 25/25 [00:08<00:00,  3.02it/s]\n",
      "Evaluating on validation set...: 100%|██████████| 3/3 [00:00<00:00,  4.29it/s]\n"
     ]
    },
    {
     "name": "stdout",
     "output_type": "stream",
     "text": [
      "Epoch [4/5], Train Loss: 0.0016, Train Accuracy: 1.0000, Val Loss: 0.0006, Val Accuracy: 1.0000\n",
      "Epoch 4: New best validation accuracy: 1.0000. Model saved to ./sisa_updated_models/shard_2_slice_4_EffNetB0_AFHQ_model.pth.\n"
     ]
    },
    {
     "name": "stderr",
     "output_type": "stream",
     "text": [
      "Training Epoch 5/5: 100%|██████████| 25/25 [00:08<00:00,  3.09it/s]\n",
      "Evaluating on validation set...: 100%|██████████| 3/3 [00:00<00:00,  4.56it/s]\n"
     ]
    },
    {
     "name": "stdout",
     "output_type": "stream",
     "text": [
      "Epoch [5/5], Train Loss: 0.0050, Train Accuracy: 0.9987, Val Loss: 0.0010, Val Accuracy: 1.0000\n",
      "Training complete for ./sisa_updated_models/shard_2_slice_4_EffNetB0_AFHQ. Training stats saved to './sisa_updated_models/shard_2_slice_4_EffNetB0_AFHQ_history.json'.\n",
      "Saved updated model for shard_2 to ./sisa_updated_models/shard_2_final_model.pth\n"
     ]
    }
   ],
   "source": [
    "retrain_sisa_framework(\n",
    "    dataloaders=dataloaders,\n",
    "    affected_shards=affected_shards,\n",
    "    num_epochs=EPOCHS,\n",
    "    save_models_metrics_dir=save_path,\n",
    "    init_model_func=init_model_effnetb0, \n",
    "    learning_rate=LEARNING_RATE\n",
    ")"
   ]
  },
  {
   "cell_type": "markdown",
   "metadata": {},
   "source": [
    "## Re-test new SISA models"
   ]
  },
  {
   "cell_type": "code",
   "execution_count": 22,
   "metadata": {
    "execution": {
     "iopub.execute_input": "2024-12-02T17:27:52.739750Z",
     "iopub.status.busy": "2024-12-02T17:27:52.739447Z",
     "iopub.status.idle": "2024-12-02T17:28:27.948209Z",
     "shell.execute_reply": "2024-12-02T17:28:27.947274Z",
     "shell.execute_reply.started": "2024-12-02T17:27:52.739721Z"
    },
    "trusted": true
   },
   "outputs": [
    {
     "name": "stdout",
     "output_type": "stream",
     "text": [
      "Init model...\n",
      "Done initializing model.\n",
      "Model ID: 135575560362720, Optimizer ID: 135575560358640, Criterion ID: 135575560358304\n",
      "Loading and testing model: ./sisa_updated_models/shard_0_EffNetB0_AFHQ\n"
     ]
    },
    {
     "name": "stderr",
     "output_type": "stream",
     "text": [
      "Evaluating model: ./sisa_updated_models/shard_0_final_model.pth: 100%|██████████| 47/47 [00:12<00:00,  3.86it/s]\n"
     ]
    },
    {
     "name": "stdout",
     "output_type": "stream",
     "text": [
      "Predictions and labels saved to ./sisa_updated_models/shard_0_EffNetB0_AFHQ_predictions.json\n",
      "Init model...\n",
      "Done initializing model.\n",
      "Model ID: 135575459490080, Optimizer ID: 135575459481632, Criterion ID: 135575459486912\n",
      "Loading and testing model: ./sisa_updated_models/shard_1_EffNetB0_AFHQ\n"
     ]
    },
    {
     "name": "stderr",
     "output_type": "stream",
     "text": [
      "Evaluating model: ./sisa_updated_models/shard_1_final_model.pth: 100%|██████████| 47/47 [00:10<00:00,  4.37it/s]\n"
     ]
    },
    {
     "name": "stdout",
     "output_type": "stream",
     "text": [
      "Predictions and labels saved to ./sisa_updated_models/shard_1_EffNetB0_AFHQ_predictions.json\n",
      "Init model...\n",
      "Done initializing model.\n",
      "Model ID: 135575459467072, Optimizer ID: 135575459467120, Criterion ID: 135575459466352\n",
      "Loading and testing model: ./sisa_updated_models/shard_2_EffNetB0_AFHQ\n"
     ]
    },
    {
     "name": "stderr",
     "output_type": "stream",
     "text": [
      "Evaluating model: ./sisa_updated_models/shard_2_final_model.pth: 100%|██████████| 47/47 [00:11<00:00,  4.15it/s]"
     ]
    },
    {
     "name": "stdout",
     "output_type": "stream",
     "text": [
      "Predictions and labels saved to ./sisa_updated_models/shard_2_EffNetB0_AFHQ_predictions.json\n",
      "Evaluation results saved to sisa_final_evaluation.json\n"
     ]
    },
    {
     "name": "stderr",
     "output_type": "stream",
     "text": [
      "\n"
     ]
    }
   ],
   "source": [
    "sisa_test(\n",
    "    dataloaders=dataloaders, \n",
    "    saved_models_metrics_dir=save_path, \n",
    "    init_model_func=init_model_effnetb0,\n",
    "    clear_solo_models_preds=True)"
   ]
  },
  {
   "cell_type": "markdown",
   "metadata": {},
   "source": [
    "## Shard models assembly (weighted voting, w=accuracy)"
   ]
  },
  {
   "cell_type": "code",
   "execution_count": 23,
   "metadata": {
    "execution": {
     "iopub.execute_input": "2024-12-02T17:28:27.949818Z",
     "iopub.status.busy": "2024-12-02T17:28:27.949537Z",
     "iopub.status.idle": "2024-12-02T17:28:27.955179Z",
     "shell.execute_reply": "2024-12-02T17:28:27.954353Z",
     "shell.execute_reply.started": "2024-12-02T17:28:27.949792Z"
    },
    "trusted": true
   },
   "outputs": [],
   "source": [
    "with open(\"sisa_final_evaluation.json\", \"r\") as f:\n",
    "    results = json.load(f)"
   ]
  },
  {
   "cell_type": "code",
   "execution_count": 33,
   "metadata": {
    "execution": {
     "iopub.execute_input": "2024-12-02T17:35:18.186014Z",
     "iopub.status.busy": "2024-12-02T17:35:18.185666Z",
     "iopub.status.idle": "2024-12-02T17:35:18.413269Z",
     "shell.execute_reply": "2024-12-02T17:35:18.412416Z",
     "shell.execute_reply.started": "2024-12-02T17:35:18.185988Z"
    },
    "trusted": true
   },
   "outputs": [
    {
     "name": "stdout",
     "output_type": "stream",
     "text": [
      "Shard shard_0 Metrics:\n",
      "  Accuracy: 0.9967\n",
      "  Precision: 0.9967\n",
      "  Recall: 0.9967\n",
      "  F1 Score: 0.9967\n",
      "Shard shard_1 Metrics:\n",
      "  Accuracy: 0.9673\n",
      "  Precision: 0.9702\n",
      "  Recall: 0.9673\n",
      "  F1 Score: 0.9676\n",
      "Shard shard_2 Metrics:\n",
      "  Accuracy: 0.9867\n",
      "  Precision: 0.9868\n",
      "  Recall: 0.9867\n",
      "  F1 Score: 0.9867\n",
      "\n",
      "Aggregated Model Metrics:\n",
      "  Accuracy: 0.9967\n",
      "  Precision: 0.9967\n",
      "  Recall: 0.9967\n",
      "  F1 Score: 0.9967\n"
     ]
    },
    {
     "name": "stderr",
     "output_type": "stream",
     "text": [
      "/tmp/ipykernel_30/3042817402.py:236: DeprecationWarning: Conversion of an array with ndim > 0 to a scalar is deprecated, and will error in future. Ensure you extract a single element from your array before performing this operation. (Deprecated NumPy 1.25.)\n",
      "  weighted_votes[pred, i] += weights[shard_idx]\n"
     ]
    },
    {
     "data": {
      "image/png": "[encoded data removed]",
      "text/plain": [
       "<Figure size 1000x800 with 2 Axes>"
      ]
     },
     "metadata": {},
     "output_type": "display_data"
    }
   ],
   "source": [
    "evaluate_aggregated_model(results, classes)"
   ]
  }
 ],
 "metadata": {
  "kaggle": {
   "accelerator": "gpu",
   "dataSources": [
    {
     "datasetId": 667852,
     "sourceId": 1176357,
     "sourceType": "datasetVersion"
    }
   ],
   "dockerImageVersionId": 30787,
   "isGpuEnabled": true,
   "isInternetEnabled": true,
   "language": "python",
   "sourceType": "notebook"
  },
  "kernelspec": {
   "display_name": "master_thesis",
   "language": "python",
   "name": "python3"
  },
  "language_info": {
   "codemirror_mode": {
    "name": "ipython",
    "version": 3
   },
   "file_extension": ".py",
   "mimetype": "text/x-python",
   "name": "python",
   "nbconvert_exporter": "python",
   "pygments_lexer": "ipython3",
   "version": "3.12.6"
  }
 },
 "nbformat": 4,
 "nbformat_minor": 4
}
